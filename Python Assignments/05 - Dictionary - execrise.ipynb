{
 "cells": [
  {
   "cell_type": "markdown",
   "metadata": {},
   "source": [
    "# Assignment Instructions\n",
    "\n",
    "`Hello Innominion,`\n",
    "\n",
    "- **Try to attempt all the questions in every possible way.**\n",
    "- **Some other topics are required to solve some questions. don't panic.**\n",
    "- **Those questions can be answered after the topics are taught.**\n",
    "\n",
    "\n",
    "- `Join Mentoring Session for the Support/Doubts Resolving with Our Technical Mentors (2.00 PM - 6.00 PM  Mon-Sat)` \n",
    "\n",
    "Happy Learning !!!"
   ]
  },
  {
   "cell_type": "markdown",
   "metadata": {},
   "source": [
    "###  Dictionary"
   ]
  },
  {
   "cell_type": "markdown",
   "metadata": {},
   "source": [
    "**`Question :`Create Dictionary for following information as \"person1\":**\n",
    "   - Name = John\n",
    "   - Gender= Male\n",
    "   - Occupation = Data Scientist\n",
    "   - Location  = Nizampet, Hyderabad"
   ]
  },
  {
   "cell_type": "code",
   "execution_count": 58,
   "metadata": {},
   "outputs": [
    {
     "data": {
      "text/plain": [
       "{'Gender': 'Male',\n",
       " 'Location': 'Nizampet, Hyderabad',\n",
       " 'Name': 'John',\n",
       " 'Occupation': 'Data Scientist'}"
      ]
     },
     "execution_count": 58,
     "metadata": {},
     "output_type": "execute_result"
    }
   ],
   "source": [
    "# CODE HERE\n",
    "\n",
    "person1 = {\n",
    "    'Gender': 'Male',\n",
    "    'Location': 'Nizampet, Hyderabad',\n",
    "    'Name': 'John',\n",
    "    'Occupation': 'Data Scientist',\n",
    "}\n",
    "\n",
    "person1"
   ]
  },
  {
   "cell_type": "markdown",
   "metadata": {},
   "source": [
    "> print keys in person1 as a list"
   ]
  },
  {
   "cell_type": "code",
   "execution_count": 63,
   "metadata": {},
   "outputs": [
    {
     "name": "stdout",
     "output_type": "stream",
     "text": [
      "['Name', 'Gender', 'Occupation', 'Location']\n"
     ]
    }
   ],
   "source": [
    "# CODE HERE\n",
    "\n",
    "person1 = {\n",
    "    'Name': 'John',\n",
    "    'Gender': 'Male',\n",
    "    'Occupation': 'Data Scientist',\n",
    "    'Location': 'Nizampet, Hyderabad',\n",
    "}\n",
    "\n",
    "keys_list = list(person1.keys())\n",
    "print(keys_list)"
   ]
  },
  {
   "cell_type": "markdown",
   "metadata": {},
   "source": [
    "> **`Question:` Remove Location in person1**"
   ]
  },
  {
   "cell_type": "code",
   "execution_count": 65,
   "metadata": {},
   "outputs": [
    {
     "data": {
      "text/plain": [
       "{'Gender': 'Male', 'Name': 'John', 'Occupation': 'Data Scientist'}"
      ]
     },
     "execution_count": 65,
     "metadata": {},
     "output_type": "execute_result"
    }
   ],
   "source": [
    "# CODE HERE\n",
    "\n",
    "person1 = {\n",
    "    'Gender': 'Male',\n",
    "    'Name': 'John',\n",
    "    'Occupation': 'Data Scientist',\n",
    "    'Location': 'Nizampet, Hyderabad'\n",
    "}\n",
    "\n",
    "person1.pop('Location', None)\n",
    "person1\n",
    "\n",
    "# @Mentors plz look into this issue the output mentioned below is wrong and the below output is not possible\n",
    "# as the Age keyword was not mentioned earlier\n",
    "\n",
    "# {'Age': 27,\n",
    "#  'Gender': 'Male',\n",
    "#  'Name': 'Srikanth',\n",
    "#  'Occupation': 'Data Scientist'}"
   ]
  },
  {
   "cell_type": "code",
   "execution_count": 6,
   "metadata": {},
   "outputs": [
    {
     "data": {
      "text/plain": [
       "{'Age': 27,\n",
       " 'Gender': 'Male',\n",
       " 'Name': 'Srikanth',\n",
       " 'Occupation': 'Data Scientist'}"
      ]
     },
     "execution_count": 6,
     "metadata": {},
     "output_type": "execute_result"
    }
   ],
   "source": []
  },
  {
   "cell_type": "markdown",
   "metadata": {},
   "source": [
    "> **`Question:` Create dictionary of person2 with**\n",
    "- Name  = Raghu Ram\n",
    "- Gender = Male\n",
    "- Age  = 25\n",
    "- Occupation = Data Scienctist"
   ]
  },
  {
   "cell_type": "code",
   "execution_count": 67,
   "metadata": {},
   "outputs": [
    {
     "data": {
      "text/plain": [
       "{'Age': 25,\n",
       " 'Gender': 'Male',\n",
       " 'Name': 'Raghu Ram',\n",
       " 'Occupation': 'Data Scientist'}"
      ]
     },
     "execution_count": 67,
     "metadata": {},
     "output_type": "execute_result"
    }
   ],
   "source": [
    "# CODE HERE\n",
    "\n",
    "person2 = {\n",
    "    'Age': 25,\n",
    "    'Gender': 'Male',\n",
    "    'Name': 'Raghu Ram',\n",
    "    'Occupation': 'Data Scientist'\n",
    "}\n",
    "\n",
    "person2"
   ]
  },
  {
   "cell_type": "markdown",
   "metadata": {},
   "source": [
    "> **`Question:` Print the output as show below**"
   ]
  },
  {
   "cell_type": "code",
   "execution_count": 79,
   "metadata": {},
   "outputs": [
    {
     "name": "stdout",
     "output_type": "stream",
     "text": [
      "==================== person1 ====================\n",
      "{'Gender': 'Male', 'Location': 'Nizampet, Hyderabad', 'Name': 'John', 'Occupation': 'Data Scientist'}\n",
      "==================== person2 ====================\n",
      "{'Age': 25, 'Gender': 'Male', 'Name': 'Raghu Ram', 'Occupation': 'Data Scientist'}\n"
     ]
    }
   ],
   "source": [
    "# CODE HERE\n",
    "\n",
    "person1 = {\n",
    "    'Gender': 'Male',\n",
    "    'Location': 'Nizampet, Hyderabad',\n",
    "    'Name': 'John',\n",
    "    'Occupation': 'Data Scientist',\n",
    "}\n",
    "\n",
    "person2 = {\n",
    "    'Age': 25,\n",
    "    'Gender': 'Male',\n",
    "    'Name': 'Raghu Ram',\n",
    "    'Occupation': 'Data Scientist'\n",
    "}\n",
    "\n",
    "print(\"==================== person1 ====================\")\n",
    "print(person1)\n",
    "print(\"==================== person2 ====================\")\n",
    "print(person2)"
   ]
  },
  {
   "cell_type": "markdown",
   "metadata": {},
   "source": [
    "# create a dictionary\n",
    "#### `Question:` remove the elements from that dictionary using different methods\n",
    "{1: 1, 2: 4, 3: 9, 4: 16, 5: 25,6:36,7:49}"
   ]
  },
  {
   "cell_type": "code",
   "execution_count": 96,
   "metadata": {},
   "outputs": [
    {
     "name": "stdout",
     "output_type": "stream",
     "text": [
      "{}\n"
     ]
    }
   ],
   "source": [
    "# CODE HERE\n",
    "\n",
    "# Method 1\n",
    "\n",
    "dict = {1: 1, 2: 4, 3: 9, 4: 16, 5: 25, 6: 36, 7: 49}\n",
    "\n",
    "dict.pop(1)\n",
    "dict.pop(2)\n",
    "dict.pop(3)\n",
    "\n",
    "del dict[4]\n",
    "del dict[5]\n",
    "\n",
    "dict = {k: v for k, v in dict.items() if k not in {6, 7}}\n",
    "\n",
    "print(dict)\n",
    "\n",
    "# Method 2\n",
    "\n",
    "# dict = {1: 1, 2: 4, 3: 9, 4: 16, 5: 25, 6: 36, 7: 49}\n",
    "\n",
    "# keys_to_remove = [1, 2, 3, 4, 5, 6, 7]\n",
    "# for key in keys_to_remove:\n",
    "#     if key in dict:\n",
    "#         del dict[key]\n",
    "\n",
    "# print(dict)"
   ]
  },
  {
   "cell_type": "markdown",
   "metadata": {},
   "source": [
    "\n",
    "### `Question:` print the values from the given dictionary in descending order\n",
    "{0: 0, 1: 1, 3: 9, 5: 25, 7: 49, 9: 81}"
   ]
  },
  {
   "cell_type": "code",
   "execution_count": 100,
   "metadata": {},
   "outputs": [
    {
     "name": "stdout",
     "output_type": "stream",
     "text": [
      "[81, 49, 25, 9, 1, 0]\n"
     ]
    }
   ],
   "source": [
    "# CODE HERE\n",
    "\n",
    "dict = {0: 0, 1: 1, 3: 9, 5: 25, 7: 49, 9: 81}\n",
    "sorted_values = sorted(dict.values(), reverse=True)\n",
    "print(sorted_values)"
   ]
  },
  {
   "cell_type": "markdown",
   "metadata": {},
   "source": [
    "### `Question:` merge the below 3 dictionaries\n",
    "dict1 = { 'a': 1, 'b': 2 }\n",
    "dict2 = { 'b': 3, 'c': 4 }\n",
    "dict3 = { 'c': 5, 'd': 6 }"
   ]
  },
  {
   "cell_type": "code",
   "execution_count": 102,
   "metadata": {},
   "outputs": [
    {
     "name": "stdout",
     "output_type": "stream",
     "text": [
      "{'a': 1, 'b': 3, 'c': 5, 'd': 6}\n"
     ]
    }
   ],
   "source": [
    "# CODE HERE\n",
    "\n",
    "dict1 = {'a': 1, 'b': 2}\n",
    "dict2 = {'b': 3, 'c': 4}\n",
    "dict3 = {'c': 5, 'd': 6}\n",
    "\n",
    "merged_dict = {**dict1, **dict2, **dict3}\n",
    "print(merged_dict)"
   ]
  },
  {
   "cell_type": "markdown",
   "metadata": {},
   "source": [
    "**`Question:` change Charan’s salary to 8500 in the following dictionary**"
   ]
  },
  {
   "cell_type": "raw",
   "metadata": {},
   "source": [
    "sample_dict = {\n",
    "    'emp1': {'name': 'Jhony', 'salary': 7500},\n",
    "    'emp2': {'name': 'Ravi', 'salary': 8000},\n",
    "    'emp3': {'name': 'Charan', 'salary': 6500}\n",
    "}"
   ]
  },
  {
   "cell_type": "code",
   "execution_count": 106,
   "metadata": {},
   "outputs": [
    {
     "data": {
      "text/plain": [
       "{'emp1': {'name': 'Jhony', 'salary': 7500},\n",
       " 'emp2': {'name': 'Ravi', 'salary': 8000},\n",
       " 'emp3': {'name': 'Charan', 'salary': 8500}}"
      ]
     },
     "execution_count": 106,
     "metadata": {},
     "output_type": "execute_result"
    }
   ],
   "source": [
    "# CODE HERE\n",
    "\n",
    "sample_dict = {\n",
    "    'emp1': {'name': 'Jhony', 'salary': 7500},\n",
    "    'emp2': {'name': 'Ravi', 'salary': 8000},\n",
    "    'emp3': {'name': 'Charan', 'salary': 6500}\n",
    "}\n",
    "\n",
    "sample_dict['emp3']['salary'] = 8500\n",
    "sample_dict"
   ]
  },
  {
   "cell_type": "markdown",
   "metadata": {},
   "source": [
    "**`Question:` Print the value of key ‘history’ from the below dict**"
   ]
  },
  {
   "cell_type": "raw",
   "metadata": {},
   "source": [
    "sampleDict = {\n",
    "    \"class\": {\n",
    "        \"student\": {\n",
    "            \"name\": \"Mike\",\n",
    "            \"marks\": {\n",
    "                \"physics\": 70,\n",
    "                \"history\": 80\n",
    "            }\n",
    "        }\n",
    "    }\n",
    "}"
   ]
  },
  {
   "cell_type": "code",
   "execution_count": 111,
   "metadata": {},
   "outputs": [
    {
     "name": "stdout",
     "output_type": "stream",
     "text": [
      "80\n"
     ]
    }
   ],
   "source": [
    "# CODE HERE\n",
    "\n",
    "sampleDict = {\n",
    "    \"class\": {\n",
    "        \"student\": {\n",
    "            \"name\": \"Mike\",\n",
    "            \"marks\": {\n",
    "                \"physics\": 70,\n",
    "                \"history\": 80\n",
    "            }\n",
    "        }\n",
    "    }\n",
    "}\n",
    "\n",
    "history_mark = sampleDict['class']['student']['marks']['history']\n",
    "print(history_mark)"
   ]
  },
  {
   "cell_type": "markdown",
   "metadata": {},
   "source": [
    "**`Question:` Rename a key Location to a Area in the following dictionary**"
   ]
  },
  {
   "cell_type": "raw",
   "metadata": {},
   "source": [
    "{'Gender': 'Male',\n",
    " 'Location': 'Nizampet, Hyderabad',\n",
    " 'Name': 'John',\n",
    " 'Occupation': 'Data Scientist'}"
   ]
  },
  {
   "cell_type": "code",
   "execution_count": 131,
   "metadata": {},
   "outputs": [
    {
     "data": {
      "text/plain": [
       "{'Gender': 'Male',\n",
       " 'Area': 'Nizampet, Hyderabad',\n",
       " 'Name': 'John',\n",
       " 'Occupation': 'Data Scientist'}"
      ]
     },
     "execution_count": 131,
     "metadata": {},
     "output_type": "execute_result"
    }
   ],
   "source": [
    "# CODE HERE\n",
    "\n",
    "person = {\n",
    "    'Gender': 'Male',\n",
    "    'Location': 'Nizampet, Hyderabad',\n",
    "    'Name': 'John',\n",
    "    'Occupation': 'Data Scientist',\n",
    "}\n",
    "\n",
    "person['Area'] = person.pop('Location')\n",
    "\n",
    "person = {\n",
    "    'Gender': person['Gender'],\n",
    "    'Area': person['Area'],\n",
    "    'Name': person['Name'],\n",
    "    'Occupation': person['Occupation']\n",
    "}\n",
    "\n",
    "person"
   ]
  },
  {
   "cell_type": "markdown",
   "metadata": {},
   "source": [
    "**`Question:` database = {'ram':1234,'raghu':5678,'kanav':1357}**\n",
    "## Tasks :-\n",
    "### 1. if the username and password matches print hello username\n",
    "### 2. if the username and password doesnot match, ask, you want me to add into the database\n",
    "### 3. show the updated database list\n"
   ]
  },
  {
   "cell_type": "code",
   "execution_count": 163,
   "metadata": {},
   "outputs": [
    {
     "name": "stdin",
     "output_type": "stream",
     "text": [
      "Enter username:  RAGHU\n",
      "Enter password:  5678\n"
     ]
    },
    {
     "name": "stdout",
     "output_type": "stream",
     "text": [
      "Hello raghu\n",
      "Current Database:\n",
      "Username: ram, Password: 1234\n",
      "Username: raghu, Password: 5678\n",
      "Username: kanav, Password: 1357\n"
     ]
    }
   ],
   "source": [
    "database = {'ram': 1234, 'raghu': 5678, 'kanav': 1357}\n",
    "\n",
    "def check_credentials(username, password):\n",
    "    username = username.lower()\n",
    "    if username in database and database[username] == password:\n",
    "        print(f\"Hello {username}\")\n",
    "        return True\n",
    "    else:\n",
    "        return False\n",
    "\n",
    "def prompt_add_to_db(username, password):\n",
    "    add_to_db = input(\"Credentials do not match. Do you want me to add this into the database? (yes/no): \")\n",
    "    if add_to_db.lower() == 'yes':\n",
    "        username = username.lower()\n",
    "        database[username] = password\n",
    "        print(\"Credentials added to the database.\")\n",
    "    else:\n",
    "        print(\"Database remains unchanged.\")\n",
    "\n",
    "def show_database():\n",
    "    print(\"Current Database:\")\n",
    "    for user, pwd in database.items():\n",
    "        print(f\"Username: {user}, Password: {pwd}\")\n",
    "\n",
    "def main():\n",
    "    username = input(\"Enter username: \")\n",
    "    password = int(input(\"Enter password: \"))\n",
    "\n",
    "    if check_credentials(username, password):\n",
    "        show_database()\n",
    "    else:\n",
    "        prompt_add_to_db(username, password)\n",
    "        if check_credentials(username, password):\n",
    "            show_database()\n",
    "\n",
    "main()"
   ]
  },
  {
   "cell_type": "markdown",
   "metadata": {},
   "source": [
    "# [Innomatics Research Labs](https:/innomatics.in/)\n",
    "[www.innomatics.in](https:/innomatics.in/)"
   ]
  }
 ],
 "metadata": {
  "kernelspec": {
   "display_name": "Python 3 (ipykernel)",
   "language": "python",
   "name": "python3"
  },
  "language_info": {
   "codemirror_mode": {
    "name": "ipython",
    "version": 3
   },
   "file_extension": ".py",
   "mimetype": "text/x-python",
   "name": "python",
   "nbconvert_exporter": "python",
   "pygments_lexer": "ipython3",
   "version": "3.11.7"
  }
 },
 "nbformat": 4,
 "nbformat_minor": 4
}
