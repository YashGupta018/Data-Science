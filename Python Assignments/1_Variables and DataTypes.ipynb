{
 "cells": [
  {
   "cell_type": "markdown",
   "metadata": {},
   "source": [
    "# Assignment Instructions\n",
    "\n",
    "`Hello Innominion,`\n",
    "\n",
    "- **Try to attempt all the questions in every possible way.**\n",
    "- **Some other topics are required to solve some questions. don't panic.**\n",
    "- **Those questions can be answered after the topics are taught.**\n",
    "\n",
    "\n",
    "- `Join Mentoring Session for the Support/Doubts Resolving with Our Technical Mentors (2.00 PM - 6.00 PM  Mon-Sat)` \n",
    "\n",
    "Happy Learning !!!"
   ]
  },
  {
   "cell_type": "markdown",
   "metadata": {},
   "source": [
    "## Basics of Python"
   ]
  },
  {
   "cell_type": "markdown",
   "metadata": {},
   "source": [
    "> `Question:` Print your name"
   ]
  },
  {
   "cell_type": "code",
   "execution_count": 3,
   "metadata": {},
   "outputs": [
    {
     "name": "stdout",
     "output_type": "stream",
     "text": [
      "Yash Gupta\n"
     ]
    }
   ],
   "source": [
    "# CODE HERE\n",
    "\n",
    "print(\"Yash Gupta\")"
   ]
  },
  {
   "cell_type": "markdown",
   "metadata": {},
   "source": [
    "> `Question:` What is a variable? Write a Few words about Variables. Create a Variable with an Example. "
   ]
  },
  {
   "cell_type": "code",
   "execution_count": 7,
   "metadata": {},
   "outputs": [],
   "source": [
    "# WRITE HERE\n",
    "\n",
    "# A variable is a reserved memory location to store a value, in python every value has its datatype. These variable has some data on which the computer perform some processings like addition, subtraction, multiplication, division, etc"
   ]
  },
  {
   "cell_type": "code",
   "execution_count": 35,
   "metadata": {},
   "outputs": [
    {
     "name": "stdout",
     "output_type": "stream",
     "text": [
      "b = 12 & a = 10\n"
     ]
    }
   ],
   "source": [
    "# Code Here\n",
    "\n",
    "a = 10\n",
    "b = 12\n",
    "print(\"b =\", b, \"&\" , \"a =\", a)"
   ]
  },
  {
   "cell_type": "markdown",
   "metadata": {},
   "source": [
    ">`Question:` Assume that we execute the following assignment statements:\n",
    "width = 17\n",
    "height = 12.0\n",
    "delimiter = '.'\n",
    "For each of the following expressions, write the value of the expression and the type (of the value of\n",
    "the expression).\n",
    "1. width/2\n",
    "2. width/2.0\n",
    "3. height/3\n",
    "4. 1 + 2 * 5\n",
    "5. delimiter * 5"
   ]
  },
  {
   "cell_type": "code",
   "execution_count": 4,
   "metadata": {},
   "outputs": [
    {
     "name": "stdout",
     "output_type": "stream",
     "text": [
      "1. width/2 = 8.5\n",
      "2. width/2.0 = 8.5\n",
      "3. height/3 = 4.0\n",
      "4. 11\n",
      "5. .....\n"
     ]
    }
   ],
   "source": [
    "# CODE HERE\n",
    "\n",
    "width = 17\n",
    "height = 12.0\n",
    "delimiter = '.'\n",
    "\n",
    "print(\"1. width/2 =\", width/2)\n",
    "print(\"2. width/2.0 =\", width/2.0)\n",
    "print(\"3. height/3 =\", height/3)\n",
    "print(\"4.\", 1 + 2 * 5)\n",
    "print(\"5.\", delimiter * 5)"
   ]
  },
  {
   "cell_type": "raw",
   "metadata": {},
   "source": [
    "# Sample Outputs\n",
    "1. width/2 = 8.5\n",
    "2. width/2.0 = 8.5\n",
    "3. height/3 = 4.0\n",
    "4. 11\n",
    "5. ....."
   ]
  },
  {
   "cell_type": "code",
   "execution_count": 148,
   "metadata": {},
   "outputs": [
    {
     "name": "stdout",
     "output_type": "stream",
     "text": [
      "My first number is : 100\n",
      "My seccond number is : 200\n",
      "Addition of two numbers are : 300\n"
     ]
    }
   ],
   "source": [
    "#CODE HERE\n",
    "\n",
    "first = 100\n",
    "seccond = 200\n",
    "\n",
    "print(\"My first number is : 100\")\n",
    "print(\"My seccond number is : 200\")\n",
    "print(\"Addition of two numbers are :\", first + seccond )"
   ]
  },
  {
   "cell_type": "markdown",
   "metadata": {},
   "source": [
    "> `Question:` Add two number by taking variable names as first and seccond"
   ]
  },
  {
   "cell_type": "markdown",
   "metadata": {},
   "source": [
    "> `Question:` Add your first name and second name"
   ]
  },
  {
   "cell_type": "code",
   "execution_count": 144,
   "metadata": {},
   "outputs": [
    {
     "name": "stdout",
     "output_type": "stream",
     "text": [
      "My first name is : Yash\n",
      "My second name is : Gupta\n",
      "My full name is : Yash Gupta\n"
     ]
    }
   ],
   "source": [
    "# CODE HERE\n",
    "\n",
    "first_name = \"Yash\"\n",
    "second_name = \"Gupta\"\n",
    "\n",
    "print(\"My first name is : Yash\")\n",
    "print(\"My second name is : Gupta\")\n",
    "print(\"My full name is :\", first_name, second_name)"
   ]
  },
  {
   "cell_type": "markdown",
   "metadata": {},
   "source": [
    "> `Question:` print the datatypes of the following\n",
    "- 10,'10',True,10.5"
   ]
  },
  {
   "cell_type": "code",
   "execution_count": 142,
   "metadata": {},
   "outputs": [
    {
     "name": "stdout",
     "output_type": "stream",
     "text": [
      "Datatype of a : <class 'int'>\n",
      "Datatype of b : <class 'str'>\n",
      "Datatype of c : <class 'bool'>\n",
      "Datatype of d : <class 'float'>\n"
     ]
    }
   ],
   "source": [
    "# CODE HERE\n",
    "\n",
    "a = 10\n",
    "b = '10'\n",
    "c = True\n",
    "d = 10.5\n",
    "\n",
    "print(\"Datatype of a :\", type(a))\n",
    "print(\"Datatype of b :\", type(b))\n",
    "print(\"Datatype of c :\", type(c))\n",
    "print(\"Datatype of d :\", type(d))"
   ]
  },
  {
   "cell_type": "markdown",
   "metadata": {},
   "source": [
    " `Question:` \n",
    "> - num_int = 123\n",
    "> - num_str = \"456\"\n",
    "> - Add num_int and num_str\n",
    "- `hint: first need to convert num_str into integer`"
   ]
  },
  {
   "cell_type": "code",
   "execution_count": 138,
   "metadata": {},
   "outputs": [
    {
     "name": "stdout",
     "output_type": "stream",
     "text": [
      "Sum of num_int & num_str is : 579\n"
     ]
    }
   ],
   "source": [
    "# CODE HERE\n",
    "\n",
    "num_int = 123\n",
    "num_str = \"456\"\n",
    "\n",
    "converted_str = int(num_str)\n",
    "\n",
    "print(\"Sum of num_int & num_str is :\", num_int + converted_str)"
   ]
  },
  {
   "cell_type": "markdown",
   "metadata": {},
   "source": [
    "### Advanced Questions"
   ]
  },
  {
   "cell_type": "markdown",
   "metadata": {},
   "source": [
    "> `Question:` The volume of a sphere with radius r is  $\\frac{4} {3}πr^3$  . What is the volume of a sphere with radius 5?"
   ]
  },
  {
   "cell_type": "code",
   "execution_count": 132,
   "metadata": {},
   "outputs": [
    {
     "name": "stdout",
     "output_type": "stream",
     "text": [
      "Volume of sphere with radius 5 is : 523.3333333333334\n"
     ]
    }
   ],
   "source": [
    "# CODE HERE\n",
    "\n",
    "r = 5\n",
    "a = 4/3\n",
    "print(\"Volume of sphere with radius 5 is :\", (4/3) * 3.14 * r * r * r)"
   ]
  },
  {
   "cell_type": "markdown",
   "metadata": {},
   "source": [
    "> `Question:` Suppose the cover price of a book is Rs.24.95, but bookstores get a 40% discount. Shipping costs Rs.3 for the first copy and 75 paise for each additional copy. What is the total wholesale cost for 60 copies?"
   ]
  },
  {
   "cell_type": "code",
   "execution_count": 18,
   "metadata": {},
   "outputs": [
    {
     "name": "stdout",
     "output_type": "stream",
     "text": [
      "Total cost of selling 60 books will be : 945.4499999999999\n"
     ]
    }
   ],
   "source": [
    "# CODE HERE\n",
    "\n",
    "cover_price = 24.95\n",
    "discount = 0.40 #Which is basically 40%\n",
    "shipping_costs = 3\n",
    "additional_copy_cost = 0.75\n",
    "no_of_books = 60\n",
    "\n",
    "total_price = cover_price * (1 - 0.4) * no_of_books + shipping_costs + (additional_copy_cost * (no_of_books - 1))\n",
    "\n",
    "print(\"Total cost of selling 60 books will be :\", total_price)"
   ]
  },
  {
   "cell_type": "markdown",
   "metadata": {},
   "source": [
    "# [Innomatics Research Labs](https:/innomatics.in/)\n",
    "[www.innomatics.in](https:/innomatics.in/)"
   ]
  }
 ],
 "metadata": {
  "kernelspec": {
   "display_name": "Python 3 (ipykernel)",
   "language": "python",
   "name": "python3"
  },
  "language_info": {
   "codemirror_mode": {
    "name": "ipython",
    "version": 3
   },
   "file_extension": ".py",
   "mimetype": "text/x-python",
   "name": "python",
   "nbconvert_exporter": "python",
   "pygments_lexer": "ipython3",
   "version": "3.11.7"
  }
 },
 "nbformat": 4,
 "nbformat_minor": 4
}
