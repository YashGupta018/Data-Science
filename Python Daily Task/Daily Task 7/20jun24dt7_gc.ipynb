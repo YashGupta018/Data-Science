{
 "cells": [
  {
   "cell_type": "markdown",
   "id": "ee008c82-7f82-47df-954d-3896b760f0f0",
   "metadata": {},
   "source": [
    "# Daily Task - June 20, 2024"
   ]
  },
  {
   "cell_type": "markdown",
   "id": "fc055f03-ef52-43b3-92b4-150b11c8756c",
   "metadata": {},
   "source": [
    "### Ques. 1 :\n",
    "    a. Update the first set with items that don't exist in the second set.\n",
    "        - s1={150,200,400}\n",
    "        - s2={200,750,650}\n",
    "        - Expected output: s1={150,400}\n",
    "    b. Access value 20 from the tuple :\n",
    "        - tuple1 = (\"Orange\", [10, 20, 30], (5, 15, 25))"
   ]
  },
  {
   "cell_type": "code",
   "execution_count": 28,
   "id": "2f30d909-b277-426b-b6c0-1a4ca25ddadf",
   "metadata": {},
   "outputs": [
    {
     "name": "stdout",
     "output_type": "stream",
     "text": [
      "{400, 150}\n"
     ]
    }
   ],
   "source": [
    "# a. Update the first set with items that don't exist in the second set.\n",
    "    # - s1={150,200,400}\n",
    "    # - s2={200,750,650}\n",
    "    # - Expected output: s1={150,400}\n",
    "\n",
    "s1 = {150, 200, 400}\n",
    "s2 = {200, 750, 650}\n",
    "\n",
    "s1.difference_update(s2)\n",
    "\n",
    "print(s1)"
   ]
  },
  {
   "cell_type": "code",
   "execution_count": 30,
   "id": "f79d41fe-14fd-4f08-be73-63d4c3cd74ad",
   "metadata": {},
   "outputs": [
    {
     "name": "stdout",
     "output_type": "stream",
     "text": [
      "20\n"
     ]
    }
   ],
   "source": [
    "# b. Access value 20 from the tuple :\n",
    "    # - tuple1 = (\"Orange\", [10, 20, 30], (5, 15, 25))\n",
    "\n",
    "tuple1 = (\"Orange\", [10, 20, 30], (5, 15, 25))\n",
    "\n",
    "value_20 = tuple1[1][1]\n",
    "\n",
    "print(value_20)"
   ]
  },
  {
   "cell_type": "markdown",
   "id": "b10dde3f-4556-469d-be4f-977cec55f9bd",
   "metadata": {},
   "source": [
    "### Ques. 2 : Create a dictionary with key-value pairs for a person's name and age.\n",
    "    a. Add a new key-value pair \"city\" with the value \"Delhi\" to the person dictionary.\n",
    "    b. Remove the key-value pair with the key \"age\" from the person dictionary.\n",
    "    c. Sort the person's dictionary by its keys."
   ]
  },
  {
   "cell_type": "code",
   "execution_count": 43,
   "id": "d2844330-0dd7-433d-b881-58ce6cd68b15",
   "metadata": {},
   "outputs": [],
   "source": [
    "# a. Add a new key-value pair \"city\" with the value \"Delhi\" to the person dictionary.\n",
    "\n",
    "person = {\n",
    "    \"name\": \"Ram\",\n",
    "    \"age\": 30\n",
    "}\n",
    "\n",
    "person[\"city\"] = \"Delhi\""
   ]
  },
  {
   "cell_type": "code",
   "execution_count": 45,
   "id": "232d8495-aced-4b80-95e2-ec9662f452e2",
   "metadata": {},
   "outputs": [],
   "source": [
    "# b. Remove the key-value pair with the key \"age\" from the person dictionary.\n",
    "\n",
    "del person[\"age\"]"
   ]
  },
  {
   "cell_type": "code",
   "execution_count": 49,
   "id": "6fc6081d-e6d6-4b09-b414-5070d31b7bba",
   "metadata": {},
   "outputs": [
    {
     "name": "stdout",
     "output_type": "stream",
     "text": [
      "{'city': 'Delhi', 'name': 'Ram'}\n"
     ]
    }
   ],
   "source": [
    "# c. Sort the person's dictionary by its keys.\n",
    "\n",
    "# .items() is used in python to pass through all the keys from this .items() function\n",
    "sorted_person = dict(sorted(person.items()))\n",
    "\n",
    "print(sorted_person)"
   ]
  },
  {
   "cell_type": "markdown",
   "id": "2d34c084-8ba8-4c3a-be18-3a10351f6083",
   "metadata": {},
   "source": [
    "### Ques. 3 :\n",
    "    a. Remove empty strings from the list of strings.\n",
    "        - list3 = [\"Mike\", \"\", \"Emma\", \"Kelly\", \"\", \"Brad\"]\n",
    "    b. Reverse the above list."
   ]
  },
  {
   "cell_type": "code",
   "execution_count": 51,
   "id": "e1a74635-386d-4a2f-b1d9-c75a4602ce7e",
   "metadata": {},
   "outputs": [
    {
     "name": "stdout",
     "output_type": "stream",
     "text": [
      "['Mike', 'Emma', 'Kelly', 'Brad']\n"
     ]
    }
   ],
   "source": [
    "# a. Remove empty strings from the list of strings.\n",
    "    # - list3 = [\"Mike\", \"\", \"Emma\", \"Kelly\", \"\", \"Brad\"]\n",
    "\n",
    "list3 = [\"Mike\", \"\", \"Emma\", \"Kelly\", \"\", \"Brad\"]\n",
    "\n",
    "# List Comprehension to remove empty strings\n",
    "list3 = [string for string in list3 if string]\n",
    "\n",
    "print(list3)"
   ]
  },
  {
   "cell_type": "code",
   "execution_count": 58,
   "id": "078d3437-8e0c-45eb-922e-040ba3aee3e6",
   "metadata": {},
   "outputs": [
    {
     "name": "stdout",
     "output_type": "stream",
     "text": [
      "['Brad', 'Kelly', 'Emma', 'Mike']\n"
     ]
    }
   ],
   "source": [
    "# b. Reverse the above list.\n",
    "\n",
    "list3.reverse()\n",
    "\n",
    "print(list3)"
   ]
  },
  {
   "cell_type": "markdown",
   "id": "56ffdba7-0c0f-4691-aa11-e98ff0ccb5d3",
   "metadata": {},
   "source": [
    "### Ques. 4 : Construct a set1 using range () with elements from 500 to 700 elements inside it\n",
    "    a. Remove element 1000 such that it doesn’t throw an error in output.\n",
    "    b. Add elements from 750 to 850 in the set.\n",
    "    c. Say, set2={600,745,824,580}. Perform all set operations."
   ]
  },
  {
   "cell_type": "code",
   "execution_count": 62,
   "id": "8d499e25-4990-4249-8ee7-673fb9855b98",
   "metadata": {},
   "outputs": [
    {
     "name": "stdout",
     "output_type": "stream",
     "text": [
      "{512, 513, 514, 515, 516, 517, 518, 519, 520, 521, 522, 523, 524, 525, 526, 527, 528, 529, 530, 531, 532, 533, 534, 535, 536, 537, 538, 539, 540, 541, 542, 543, 544, 545, 546, 547, 548, 549, 550, 551, 552, 553, 554, 555, 556, 557, 558, 559, 560, 561, 562, 563, 564, 565, 566, 567, 568, 569, 570, 571, 572, 573, 574, 575, 576, 577, 578, 579, 580, 581, 582, 583, 584, 585, 586, 587, 588, 589, 590, 591, 592, 593, 594, 595, 596, 597, 598, 599, 600, 601, 602, 603, 604, 605, 606, 607, 608, 609, 610, 611, 612, 613, 614, 615, 616, 617, 618, 619, 620, 621, 622, 623, 624, 625, 626, 627, 628, 629, 630, 631, 632, 633, 634, 635, 636, 637, 638, 639, 640, 641, 642, 643, 644, 645, 646, 647, 648, 649, 650, 651, 652, 653, 654, 655, 656, 657, 658, 659, 660, 661, 662, 663, 664, 665, 666, 667, 668, 669, 670, 671, 672, 673, 674, 675, 676, 677, 678, 679, 680, 681, 682, 683, 684, 685, 686, 687, 688, 689, 690, 691, 692, 693, 694, 695, 696, 697, 698, 699, 700, 500, 501, 502, 503, 504, 505, 506, 507, 508, 509, 510, 511}\n"
     ]
    }
   ],
   "source": [
    "# a. Remove element 1000 such that it doesn’t throw an error in output.\n",
    "\n",
    "set1 = set(range(500, 701))\n",
    "\n",
    "set1.discard(1000)\n",
    "\n",
    "print(set1)"
   ]
  },
  {
   "cell_type": "code",
   "execution_count": 64,
   "id": "7b9aa0b6-3854-4168-b9d5-b4ec5ac0af06",
   "metadata": {},
   "outputs": [
    {
     "name": "stdout",
     "output_type": "stream",
     "text": [
      "{512, 513, 514, 515, 516, 517, 518, 519, 520, 521, 522, 523, 524, 525, 526, 527, 528, 529, 530, 531, 532, 533, 534, 535, 536, 537, 538, 539, 540, 541, 542, 543, 544, 545, 546, 547, 548, 549, 550, 551, 552, 553, 554, 555, 556, 557, 558, 559, 560, 561, 562, 563, 564, 565, 566, 567, 568, 569, 570, 571, 572, 573, 574, 575, 576, 577, 578, 579, 580, 581, 582, 583, 584, 585, 586, 587, 588, 589, 590, 591, 592, 593, 594, 595, 596, 597, 598, 599, 600, 601, 602, 603, 604, 605, 606, 607, 608, 609, 610, 611, 612, 613, 614, 615, 616, 617, 618, 619, 620, 621, 622, 623, 624, 625, 626, 627, 628, 629, 630, 631, 632, 633, 634, 635, 636, 637, 638, 639, 640, 641, 642, 643, 644, 645, 646, 647, 648, 649, 650, 651, 652, 653, 654, 655, 656, 657, 658, 659, 660, 661, 662, 663, 664, 665, 666, 667, 668, 669, 670, 671, 672, 673, 674, 675, 676, 677, 678, 679, 680, 681, 682, 683, 684, 685, 686, 687, 688, 689, 690, 691, 692, 693, 694, 695, 696, 697, 698, 699, 700, 750, 751, 752, 753, 754, 755, 756, 757, 758, 759, 760, 761, 762, 763, 764, 765, 766, 767, 768, 769, 770, 771, 772, 773, 774, 775, 776, 777, 778, 779, 780, 781, 782, 783, 784, 785, 786, 787, 788, 789, 790, 791, 792, 793, 794, 795, 796, 797, 798, 799, 800, 801, 802, 803, 804, 805, 806, 807, 808, 809, 810, 811, 812, 813, 814, 815, 816, 817, 818, 819, 820, 821, 822, 823, 824, 825, 826, 827, 828, 829, 830, 831, 832, 833, 834, 835, 836, 837, 838, 839, 840, 841, 842, 843, 844, 845, 846, 847, 848, 849, 850, 500, 501, 502, 503, 504, 505, 506, 507, 508, 509, 510, 511}\n"
     ]
    }
   ],
   "source": [
    "# b. Add elements from 750 to 850 in the set.\n",
    "\n",
    "set1.update(range(750, 851))\n",
    "\n",
    "print(set1)"
   ]
  },
  {
   "cell_type": "code",
   "execution_count": 87,
   "id": "19de9fe2-19e5-4629-9112-9786d4a0b907",
   "metadata": {},
   "outputs": [
    {
     "name": "stdout",
     "output_type": "stream",
     "text": [
      "\n",
      "Union: {500, 501, 502, 503, 504, 505, 506, 507, 508, 509, 510, 511, 512, 513, 514, 515, 516, 517, 518, 519, 520, 521, 522, 523, 524, 525, 526, 527, 528, 529, 530, 531, 532, 533, 534, 535, 536, 537, 538, 539, 540, 541, 542, 543, 544, 545, 546, 547, 548, 549, 550, 551, 552, 553, 554, 555, 556, 557, 558, 559, 560, 561, 562, 563, 564, 565, 566, 567, 568, 569, 570, 571, 572, 573, 574, 575, 576, 577, 578, 579, 580, 581, 582, 583, 584, 585, 586, 587, 588, 589, 590, 591, 592, 593, 594, 595, 596, 597, 598, 599, 600, 601, 602, 603, 604, 605, 606, 607, 608, 609, 610, 611, 612, 613, 614, 615, 616, 617, 618, 619, 620, 621, 622, 623, 624, 625, 626, 627, 628, 629, 630, 631, 632, 633, 634, 635, 636, 637, 638, 639, 640, 641, 642, 643, 644, 645, 646, 647, 648, 649, 650, 651, 652, 653, 654, 655, 656, 657, 658, 659, 660, 661, 662, 663, 664, 665, 666, 667, 668, 669, 670, 671, 672, 673, 674, 675, 676, 677, 678, 679, 680, 681, 682, 683, 684, 685, 686, 687, 688, 689, 690, 691, 692, 693, 694, 695, 696, 697, 698, 699, 700, 745, 750, 751, 752, 753, 754, 755, 756, 757, 758, 759, 760, 761, 762, 763, 764, 765, 766, 767, 768, 769, 770, 771, 772, 773, 774, 775, 776, 777, 778, 779, 780, 781, 782, 783, 784, 785, 786, 787, 788, 789, 790, 791, 792, 793, 794, 795, 796, 797, 798, 799, 800, 801, 802, 803, 804, 805, 806, 807, 808, 809, 810, 811, 812, 813, 814, 815, 816, 817, 818, 819, 820, 821, 822, 823, 824, 825, 826, 827, 828, 829, 830, 831, 832, 833, 834, 835, 836, 837, 838, 839, 840, 841, 842, 843, 844, 845, 846, 847, 848, 849, 850}\n",
      "\n",
      "Intersection: {600, 824, 580}\n",
      "\n",
      "Difference: {500, 501, 502, 503, 504, 505, 506, 507, 508, 509, 510, 511, 512, 513, 514, 515, 516, 517, 518, 519, 520, 521, 522, 523, 524, 525, 526, 527, 528, 529, 530, 531, 532, 533, 534, 535, 536, 537, 538, 539, 540, 541, 542, 543, 544, 545, 546, 547, 548, 549, 550, 551, 552, 553, 554, 555, 556, 557, 558, 559, 560, 561, 562, 563, 564, 565, 566, 567, 568, 569, 570, 571, 572, 573, 574, 575, 576, 577, 578, 579, 581, 582, 583, 584, 585, 586, 587, 588, 589, 590, 591, 592, 593, 594, 595, 596, 597, 598, 599, 601, 602, 603, 604, 605, 606, 607, 608, 609, 610, 611, 612, 613, 614, 615, 616, 617, 618, 619, 620, 621, 622, 623, 624, 625, 626, 627, 628, 629, 630, 631, 632, 633, 634, 635, 636, 637, 638, 639, 640, 641, 642, 643, 644, 645, 646, 647, 648, 649, 650, 651, 652, 653, 654, 655, 656, 657, 658, 659, 660, 661, 662, 663, 664, 665, 666, 667, 668, 669, 670, 671, 672, 673, 674, 675, 676, 677, 678, 679, 680, 681, 682, 683, 684, 685, 686, 687, 688, 689, 690, 691, 692, 693, 694, 695, 696, 697, 698, 699, 700, 750, 751, 752, 753, 754, 755, 756, 757, 758, 759, 760, 761, 762, 763, 764, 765, 766, 767, 768, 769, 770, 771, 772, 773, 774, 775, 776, 777, 778, 779, 780, 781, 782, 783, 784, 785, 786, 787, 788, 789, 790, 791, 792, 793, 794, 795, 796, 797, 798, 799, 800, 801, 802, 803, 804, 805, 806, 807, 808, 809, 810, 811, 812, 813, 814, 815, 816, 817, 818, 819, 820, 821, 822, 823, 825, 826, 827, 828, 829, 830, 831, 832, 833, 834, 835, 836, 837, 838, 839, 840, 841, 842, 843, 844, 845, 846, 847, 848, 849, 850}\n",
      "\n",
      "Symmetric Difference: {512, 513, 514, 515, 516, 517, 518, 519, 520, 521, 522, 523, 524, 525, 526, 527, 528, 529, 530, 531, 532, 533, 534, 535, 536, 537, 538, 539, 540, 541, 542, 543, 544, 545, 546, 547, 548, 549, 550, 551, 552, 553, 554, 555, 556, 557, 558, 559, 560, 561, 562, 563, 564, 565, 566, 567, 568, 569, 570, 571, 572, 573, 574, 575, 576, 577, 578, 579, 581, 582, 583, 584, 585, 586, 587, 588, 589, 590, 591, 592, 593, 594, 595, 596, 597, 598, 599, 601, 602, 603, 604, 605, 606, 607, 608, 609, 610, 611, 612, 613, 614, 615, 616, 617, 618, 619, 620, 621, 622, 623, 624, 625, 626, 627, 628, 629, 630, 631, 632, 633, 634, 635, 636, 637, 638, 639, 640, 641, 642, 643, 644, 645, 646, 647, 648, 649, 650, 651, 652, 653, 654, 655, 656, 657, 658, 659, 660, 661, 662, 663, 664, 665, 666, 667, 668, 669, 670, 671, 672, 673, 674, 675, 676, 677, 678, 679, 680, 681, 682, 683, 684, 685, 686, 687, 688, 689, 690, 691, 692, 693, 694, 695, 696, 697, 698, 699, 700, 745, 750, 751, 752, 753, 754, 755, 756, 757, 758, 759, 760, 761, 762, 763, 764, 765, 766, 767, 768, 769, 770, 771, 772, 773, 774, 775, 776, 777, 778, 779, 780, 781, 782, 783, 784, 785, 786, 787, 788, 789, 790, 791, 792, 793, 794, 795, 796, 797, 798, 799, 800, 801, 802, 803, 804, 805, 806, 807, 808, 809, 810, 811, 812, 813, 814, 815, 816, 817, 818, 819, 820, 821, 822, 823, 825, 826, 827, 828, 829, 830, 831, 832, 833, 834, 835, 836, 837, 838, 839, 840, 841, 842, 843, 844, 845, 846, 847, 848, 849, 850, 500, 501, 502, 503, 504, 505, 506, 507, 508, 509, 510, 511}\n"
     ]
    }
   ],
   "source": [
    "# c. Say, set2={600,745,824,580}. Perform all set operations.\n",
    "\n",
    "set2 = {600, 745, 824, 580}\n",
    "\n",
    "union_set = set1.union(set2)\n",
    "print()\n",
    "print(\"Union:\", union_set)\n",
    "\n",
    "intersection_set = set1.intersection(set2)\n",
    "print()\n",
    "print(\"Intersection:\", intersection_set)\n",
    "\n",
    "difference_set = set1.difference(set2)\n",
    "print()\n",
    "print(\"Difference:\", difference_set)\n",
    "\n",
    "symmetric_difference_set = set1.symmetric_difference(set2)\n",
    "print()\n",
    "print(\"Symmetric Difference:\", symmetric_difference_set)"
   ]
  },
  {
   "cell_type": "markdown",
   "id": "9e2de878-4a9f-40f5-bd44-9a7d0f807e0f",
   "metadata": {},
   "source": [
    "### Ques. 5 :\n",
    "    a. You have given a Python list below. Write a program to find value 20 in the list, and if it is present, replace it with 200. Only update the first occurrence of the item.\n",
    "        - list1 = [5, 10, 15, 20, 25, 50, 20]\n",
    "    b. tup=(1,2,3,2,4,5,3,4,2). Count the occurrences of element ‘2’ in the given tuple."
   ]
  },
  {
   "cell_type": "code",
   "execution_count": 89,
   "id": "f35b530d-b990-46ad-8766-03c923bc940d",
   "metadata": {},
   "outputs": [
    {
     "name": "stdout",
     "output_type": "stream",
     "text": [
      "[5, 10, 15, 200, 25, 50, 20]\n"
     ]
    }
   ],
   "source": [
    "# a. You have given a Python list below. Write a program to find value 20 in the list, and if it is present,\n",
    "# replace it with 200. Only update the first occurrence of the item.\n",
    "    # - list1 = [5, 10, 15, 20, 25, 50, 20]\n",
    "\n",
    "list1 = [5, 10, 15, 20, 25, 50, 20]\n",
    "\n",
    "list1 = list1[:list1.index(20)] + [200] + list1[list1.index(20) + 1:]\n",
    "\n",
    "# if 20 in list1:\n",
    "#     index = list1.index(20)\n",
    "#     list1[index] = 200\n",
    "\n",
    "print(list1)"
   ]
  },
  {
   "cell_type": "code",
   "execution_count": 97,
   "id": "ec404288-1ed1-49c5-8b64-ac61b7be7a0a",
   "metadata": {},
   "outputs": [
    {
     "name": "stdout",
     "output_type": "stream",
     "text": [
      "3\n"
     ]
    }
   ],
   "source": [
    "# b. tup=(1,2,3,2,4,5,3,4,2). Count the occurrences of element ‘2’ in the given tuple.\n",
    "\n",
    "tup = (1, 2, 3, 2, 4, 5, 3, 4, 2)\n",
    "\n",
    "count_2 = tup.count(2)\n",
    "\n",
    "print(count_2)"
   ]
  }
 ],
 "metadata": {
  "kernelspec": {
   "display_name": "Python 3 (ipykernel)",
   "language": "python",
   "name": "python3"
  },
  "language_info": {
   "codemirror_mode": {
    "name": "ipython",
    "version": 3
   },
   "file_extension": ".py",
   "mimetype": "text/x-python",
   "name": "python",
   "nbconvert_exporter": "python",
   "pygments_lexer": "ipython3",
   "version": "3.11.7"
  }
 },
 "nbformat": 4,
 "nbformat_minor": 5
}
