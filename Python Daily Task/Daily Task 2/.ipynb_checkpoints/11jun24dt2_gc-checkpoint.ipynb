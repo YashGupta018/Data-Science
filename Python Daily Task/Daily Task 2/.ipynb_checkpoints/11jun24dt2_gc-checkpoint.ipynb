{
  "cells": [
    {
      "cell_type": "markdown",
      "id": "a8ba72cd-d54a-4baf-ba65-edcbfd236d4f",
      "metadata": {
        "id": "a8ba72cd-d54a-4baf-ba65-edcbfd236d4f"
      },
      "source": [
        "# Daily Task - June 11, 2024"
      ]
    },
    {
      "cell_type": "markdown",
      "id": "99250728-2bb8-4804-b1b7-040a02580f1f",
      "metadata": {
        "id": "99250728-2bb8-4804-b1b7-040a02580f1f"
      },
      "source": [
        "### Ques. 1 : You bought 10 chocolates from a store. Each chocolate costs 5.68 rupees and you gave the shopkeeper 70 rupees. Find out using python, how many rupees is the shopkeeper going to give you back?"
      ]
    },
    {
      "cell_type": "code",
      "execution_count": null,
      "id": "9bf22210-f9e7-455f-871b-fb59da619ca1",
      "metadata": {
        "id": "9bf22210-f9e7-455f-871b-fb59da619ca1",
        "outputId": "a36aef61-e661-481b-ab62-ec80eb78c630"
      },
      "outputs": [
        {
          "name": "stdout",
          "output_type": "stream",
          "text": [
            "The shopkeeper is going to give you ₹13.200000000000003\n"
          ]
        },
        {
          "name": "stdin",
          "output_type": "stream",
          "text": [
            "Please enter the amount of chocolates you want : 10\n",
            "Please enter the cost of 1 chocolate : 6.68\n",
            "Please enter the amount given to the shopkeeper : 100\n"
          ]
        },
        {
          "name": "stdout",
          "output_type": "stream",
          "text": [
            "The shopkeeper is going to give you ₹33.2\n"
          ]
        }
      ],
      "source": [
        "chocolatesBought = 10\n",
        "costPerChocolate = 5.68\n",
        "amountGiven = 70\n",
        "\n",
        "totalCost = costPerChocolate * chocolatesBought\n",
        "\n",
        "# how many rupees is the shopkeeper going to give you back?\n",
        "amountReturned = amountGiven - totalCost\n",
        "\n",
        "print(\"The shopkeeper is going to give you\", \"₹\", end='')\n",
        "print(amountReturned)\n",
        "\n",
        "#############################################################\n",
        "\n",
        "# Same problem with user input\n",
        "\n",
        "chocolatesBought = int(input(\"Please enter the amount of chocolates you want :\"))\n",
        "costPerChocolate = float(input(\"Please enter the cost of 1 chocolate :\"))\n",
        "amountGiven = int(input(\"Please enter the amount given to the shopkeeper :\"))\n",
        "\n",
        "totalCost = costPerChocolate * chocolatesBought\n",
        "\n",
        "# # how many rupees is the shopkeeper going to give you back?\n",
        "amountReturned = amountGiven - totalCost\n",
        "\n",
        "print(\"The shopkeeper is going to give you\", \"₹\", end='')\n",
        "print(amountReturned)"
      ]
    },
    {
      "cell_type": "markdown",
      "id": "c43cb0aa-9318-4250-bb98-07b0a854f03c",
      "metadata": {
        "id": "c43cb0aa-9318-4250-bb98-07b0a854f03c"
      },
      "source": [
        "### Ques. 2 : You have a floor that is 52 meters long and 88.7 meters wide. Find out the total area using python and print it."
      ]
    },
    {
      "cell_type": "code",
      "execution_count": null,
      "id": "f948f001-0fc7-4f1f-8be5-94a35a44f0b8",
      "metadata": {
        "id": "f948f001-0fc7-4f1f-8be5-94a35a44f0b8",
        "outputId": "e1113285-4441-4a3f-f6cf-24c1d7f46d4e"
      },
      "outputs": [
        {
          "name": "stdout",
          "output_type": "stream",
          "text": [
            "Total area of the floor is : 4612.400000000001m\n"
          ]
        },
        {
          "name": "stdin",
          "output_type": "stream",
          "text": [
            "Please enter the length of the floor : 62\n",
            "Please enter the width of the floor : 99.2\n"
          ]
        },
        {
          "name": "stdout",
          "output_type": "stream",
          "text": [
            "Total area of the floor is : 6150.400000000001m\n"
          ]
        }
      ],
      "source": [
        "floorLength = 52\n",
        "floorWidth = 88.7\n",
        "\n",
        "# Formula to find out area of rectangle\n",
        "area_of_rectangle = floorLength * floorWidth\n",
        "\n",
        "print(\"Total area of the floor is :\", area_of_rectangle, end='')\n",
        "print(\"m\")\n",
        "\n",
        "#############################################################\n",
        "\n",
        "# Same problem with user input\n",
        "\n",
        "floorLength = float(input(\"Please enter the length of the floor :\"))\n",
        "floorWidth = float(input(\"Please enter the width of the floor :\"))\n",
        "\n",
        "# Formula to find out area of rectangle\n",
        "area_of_rectangle = floorLength * floorWidth\n",
        "\n",
        "print(\"Total area of the floor is :\", area_of_rectangle, end='')\n",
        "print(\"m\")"
      ]
    },
    {
      "cell_type": "markdown",
      "id": "9558d8a2-5341-4bd0-8108-09293fa056c0",
      "metadata": {
        "id": "9558d8a2-5341-4bd0-8108-09293fa056c0"
      },
      "source": [
        "### Ques. 3 : Create a variable called break and assign it a value 16. See what happens and find out the reason behind the behavior that you see."
      ]
    },
    {
      "cell_type": "code",
      "execution_count": null,
      "id": "5ae135f7-cdc2-4968-8c98-53a62914c07c",
      "metadata": {
        "id": "5ae135f7-cdc2-4968-8c98-53a62914c07c",
        "outputId": "c134b3de-c5fa-402a-c445-a9bc7737ea38"
      },
      "outputs": [
        {
          "ename": "SyntaxError",
          "evalue": "invalid syntax (3307648847.py, line 1)",
          "output_type": "error",
          "traceback": [
            "\u001b[0;36m  Cell \u001b[0;32mIn[47], line 1\u001b[0;36m\u001b[0m\n\u001b[0;31m    break = 16\u001b[0m\n\u001b[0m          ^\u001b[0m\n\u001b[0;31mSyntaxError\u001b[0m\u001b[0;31m:\u001b[0m invalid syntax\n"
          ]
        }
      ],
      "source": [
        "break = 16\n",
        "\n",
        "# break is a python keyword, and according to the rules of python we can’t use keywords as variable name in python"
      ]
    }
  ],
  "metadata": {
    "kernelspec": {
      "display_name": "Python 3 (ipykernel)",
      "language": "python",
      "name": "python3"
    },
    "language_info": {
      "codemirror_mode": {
        "name": "ipython",
        "version": 3
      },
      "file_extension": ".py",
      "mimetype": "text/x-python",
      "name": "python",
      "nbconvert_exporter": "python",
      "pygments_lexer": "ipython3",
      "version": "3.11.7"
    },
    "colab": {
      "provenance": []
    }
  },
  "nbformat": 4,
  "nbformat_minor": 5
}