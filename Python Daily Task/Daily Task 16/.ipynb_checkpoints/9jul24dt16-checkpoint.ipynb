{
 "cells": [
  {
   "cell_type": "markdown",
   "id": "bf19b9c4-5ec3-4685-b329-dd1a6bc04628",
   "metadata": {},
   "source": [
    "# Daily Task - July 9, 2024"
   ]
  },
  {
   "cell_type": "markdown",
   "id": "f79b6e54-990b-41a0-9c56-ec82a5fb4b79",
   "metadata": {},
   "source": [
    "### Ques. 1 :\n",
    "    a. Create a new list containing only the even numbers from the original list below.\n",
    "        list1 = [10,31,40,75,82,37,89,20]\n",
    "\n",
    "    b. Create a list that contains the lengths of each word in the sentence.\n",
    "        sentence = \"It matters not what someone is born, but what they grow to be\"\n",
    "        expected output : [2, 7, 3, 4, 7, 2, 5, 3, 4, 4, 4, 2, 2]"
   ]
  },
  {
   "cell_type": "code",
   "execution_count": 58,
   "id": "67180540-bd7f-4764-b977-1bdd4af3752e",
   "metadata": {},
   "outputs": [
    {
     "name": "stdout",
     "output_type": "stream",
     "text": [
      "[10, 40, 82, 20]\n"
     ]
    }
   ],
   "source": [
    "# a. Create a new list containing only the even numbers from the original list below\n",
    "#     list1 = [10,31,40,75,82,37,89,20]\n",
    "\n",
    "list1 = [10, 31, 40, 75, 82, 37, 89, 20]\n",
    "even_numbers = [num for num in list1 if num % 2 == 0]\n",
    "print(even_numbers)"
   ]
  },
  {
   "cell_type": "code",
   "execution_count": 60,
   "id": "d9cbcc2e-f0f1-4458-9333-f3edd7f6ab0e",
   "metadata": {},
   "outputs": [
    {
     "name": "stdout",
     "output_type": "stream",
     "text": [
      "[2, 7, 3, 4, 7, 2, 5, 3, 4, 4, 4, 2, 2]\n"
     ]
    }
   ],
   "source": [
    "# b. Create a list that contains the lengths of each word in the sentence\n",
    "#     sentence = \"It matters not what someone is born, but what they grow to be\"\n",
    "#     expected output : [2, 7, 3, 4, 7, 2, 5, 3, 4, 4, 4, 2, 2]\n",
    "\n",
    "sentence = \"It matters not what someone is born, but what they grow to be\"\n",
    "word_lengths = [len(word) for word in sentence.split()]\n",
    "print(word_lengths)"
   ]
  },
  {
   "cell_type": "markdown",
   "id": "bb7aa0dc-4f97-4282-a1c0-f48aa6b641a6",
   "metadata": {},
   "source": [
    "### Ques. 2 : Remove all occurrences of element 40 from the list below using list comprehension.\n",
    "    list4= [30,40,52,40,62,78,90,40,56]"
   ]
  },
  {
   "cell_type": "code",
   "execution_count": 63,
   "id": "706a7333-8df9-4227-8682-5c490b801b6f",
   "metadata": {},
   "outputs": [
    {
     "name": "stdout",
     "output_type": "stream",
     "text": [
      "[30, 52, 62, 78, 90, 56]\n"
     ]
    }
   ],
   "source": [
    "list4 = [30, 40, 52, 40, 62, 78, 90, 40, 56]\n",
    "list_without_40 = [num for num in list4 if num != 40]\n",
    "print(list_without_40)"
   ]
  },
  {
   "cell_type": "markdown",
   "id": "b7d13859-3a7c-4bff-b684-6959783a8189",
   "metadata": {},
   "source": [
    "### Ques. 3 : Generate a dictionary using dictionary comprehension that contains only the even numbers from 1 to 10 as keys, and their squares as values.\n",
    "    Expected Output : {2: 4, 4: 16, 6: 36, 8: 64, 10: 100}"
   ]
  },
  {
   "cell_type": "code",
   "execution_count": 66,
   "id": "59c85f4e-12a8-4993-b891-6fa97fc44f93",
   "metadata": {},
   "outputs": [
    {
     "name": "stdout",
     "output_type": "stream",
     "text": [
      "{2: 4, 4: 16, 6: 36, 8: 64, 10: 100}\n"
     ]
    }
   ],
   "source": [
    "even_squares = {num: num**2 for num in range(1, 11) if num % 2 == 0}\n",
    "print(even_squares)"
   ]
  },
  {
   "cell_type": "markdown",
   "id": "98114334-8075-48fd-80d0-1d6567f744d5",
   "metadata": {},
   "source": [
    "### Ques. 4 : Create a dictionary where the values are squares of the keys. Say, keys range from 3 to 25.\n",
    "    Expected Output :\n",
    "    {3: 9, 4: 16, 5: 25, 6: 36, 7: 49, 8: 64, 9: 81, 10: 100, 11: 121, 12: 144, 13: 169, 14: 196, 15: 225, 16: 256, 17: 289, 18: 324, 19: 361, 20: 400, 21: 441, 22: 484, 23: 529, 24: 576, 25: 625}"
   ]
  },
  {
   "cell_type": "code",
   "execution_count": 69,
   "id": "63a3fcf4-2b30-43ba-b9cd-6eaf2aa86bf0",
   "metadata": {},
   "outputs": [
    {
     "name": "stdout",
     "output_type": "stream",
     "text": [
      "{3: 9, 4: 16, 5: 25, 6: 36, 7: 49, 8: 64, 9: 81, 10: 100, 11: 121, 12: 144, 13: 169, 14: 196, 15: 225, 16: 256, 17: 289, 18: 324, 19: 361, 20: 400, 21: 441, 22: 484, 23: 529, 24: 576, 25: 625}\n"
     ]
    }
   ],
   "source": [
    "squares_dict = {num: num**2 for num in range(3, 26)}\n",
    "print(squares_dict)"
   ]
  }
 ],
 "metadata": {
  "kernelspec": {
   "display_name": "Python 3 (ipykernel)",
   "language": "python",
   "name": "python3"
  },
  "language_info": {
   "codemirror_mode": {
    "name": "ipython",
    "version": 3
   },
   "file_extension": ".py",
   "mimetype": "text/x-python",
   "name": "python",
   "nbconvert_exporter": "python",
   "pygments_lexer": "ipython3",
   "version": "3.11.7"
  }
 },
 "nbformat": 4,
 "nbformat_minor": 5
}
