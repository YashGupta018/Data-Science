{
  "cells": [
    {
      "cell_type": "markdown",
      "id": "399fefcf-84dd-4fa8-8a08-ce0b965575a1",
      "metadata": {
        "id": "399fefcf-84dd-4fa8-8a08-ce0b965575a1"
      },
      "source": [
        "# Daily Task - July 1, 2024"
      ]
    },
    {
      "cell_type": "markdown",
      "id": "7d46c171-572a-45f8-ab17-2fa8eb18e338",
      "metadata": {
        "id": "7d46c171-572a-45f8-ab17-2fa8eb18e338"
      },
      "source": [
        "### Ques. 1 : Write a program using a while loop that takes a positive integer and returns the number of steps required to reach 1 using the Collatz conjecture"
      ]
    },
    {
      "cell_type": "code",
      "execution_count": null,
      "id": "e300338c-5e45-4d34-96fd-7194b84816fd",
      "metadata": {
        "id": "e300338c-5e45-4d34-96fd-7194b84816fd",
        "outputId": "502c8e29-4bcc-48c5-92f0-f52b11ad9cbf"
      },
      "outputs": [
        {
          "name": "stdin",
          "output_type": "stream",
          "text": [
            "Enter a positive integer:  12\n"
          ]
        },
        {
          "name": "stdout",
          "output_type": "stream",
          "text": [
            "It takes 9 steps to reach 1 from 12 using the Collatz conjecture.\n"
          ]
        }
      ],
      "source": [
        "number = int(input(\"Enter a positive integer : \"))\n",
        "while number <= 0:\n",
        "    print(\"Please enter a positive integer\")\n",
        "    number = int(input(\"Enter a positive integer :\"))\n",
        "\n",
        "steps = 0\n",
        "n = number\n",
        "\n",
        "while n != 1:\n",
        "    if n % 2 == 0:\n",
        "        n = n // 2\n",
        "    else:\n",
        "        n = 3 * n + 1\n",
        "    steps += 1\n",
        "\n",
        "print(f\"It takes {steps} steps to reach 1 from {number} using the Collatz conjecture.\")"
      ]
    },
    {
      "cell_type": "markdown",
      "id": "56ee3558-572c-427e-8e88-8989945f3583",
      "metadata": {
        "id": "56ee3558-572c-427e-8e88-8989945f3583"
      },
      "source": [
        "### Ques. 2 : Write a program using a while loop that takes a list of words and returns a dictionary with the frequency count of each word"
      ]
    },
    {
      "cell_type": "code",
      "execution_count": null,
      "id": "395982a8-51a8-4c49-a22c-df4596e6aa13",
      "metadata": {
        "id": "395982a8-51a8-4c49-a22c-df4596e6aa13",
        "outputId": "7b7dde8b-e4d1-4893-f91d-f2d8a7a3951e"
      },
      "outputs": [
        {
          "name": "stdout",
          "output_type": "stream",
          "text": [
            "Enter words one by one. Enter an empty string to finish :\n"
          ]
        },
        {
          "name": "stdin",
          "output_type": "stream",
          "text": [
            "Enter a word : Yash\n",
            "Enter a word : Rahul\n",
            "Enter a word : Abbas\n",
            "Enter a word : Rahul\n",
            "Enter a word : Anil\n",
            "Enter a word : Chandra\n",
            "Enter a word : Akhil\n",
            "Enter a word : \n"
          ]
        },
        {
          "name": "stdout",
          "output_type": "stream",
          "text": [
            "Word frequency count :\n",
            "{'Yash': 1, 'Rahul': 2, 'Abbas': 1, 'Anil': 1, 'Chandra': 1, 'Akhil': 1}\n"
          ]
        }
      ],
      "source": [
        "words = []\n",
        "\n",
        "print(\"Enter words one by one. Enter an empty string to finish :\")\n",
        "while True:\n",
        "    word = input(\"Enter a word :\")\n",
        "    if word == \"\":\n",
        "        break\n",
        "    words.append(word)\n",
        "\n",
        "word_count = {}\n",
        "\n",
        "for word in words:\n",
        "    if word in word_count:\n",
        "        word_count[word] += 1\n",
        "    else:\n",
        "        word_count[word] = 1\n",
        "\n",
        "print(\"Word frequency count :\")\n",
        "print(word_count)"
      ]
    },
    {
      "cell_type": "markdown",
      "id": "5e1e57c4-b0d1-41bd-bcd9-772b93547482",
      "metadata": {
        "id": "5e1e57c4-b0d1-41bd-bcd9-772b93547482"
      },
      "source": [
        "### Ques. 3 : Count the number of vowels in a string using a while loop.\n",
        "    s2= \"Hello World\""
      ]
    },
    {
      "cell_type": "code",
      "execution_count": null,
      "id": "b9ad8d1e-bd70-4869-8780-3c0e4c2be317",
      "metadata": {
        "id": "b9ad8d1e-bd70-4869-8780-3c0e4c2be317",
        "outputId": "11b16981-7aa7-42fa-ded1-31e83c383dc8"
      },
      "outputs": [
        {
          "name": "stdout",
          "output_type": "stream",
          "text": [
            "The number of vowels in the string is : 3\n"
          ]
        }
      ],
      "source": [
        "s2 = \"Hello World\"\n",
        "\n",
        "vowel_count = 0\n",
        "\n",
        "index = 0\n",
        "\n",
        "vowels = \"aeiouAEIOU\"\n",
        "\n",
        "while index < len(s2):\n",
        "    if s2[index] in vowels:\n",
        "        vowel_count += 1\n",
        "    index += 1\n",
        "\n",
        "print(f\"The number of vowels in the string is : {vowel_count}\")"
      ]
    }
  ],
  "metadata": {
    "kernelspec": {
      "display_name": "Python 3 (ipykernel)",
      "language": "python",
      "name": "python3"
    },
    "language_info": {
      "codemirror_mode": {
        "name": "ipython",
        "version": 3
      },
      "file_extension": ".py",
      "mimetype": "text/x-python",
      "name": "python",
      "nbconvert_exporter": "python",
      "pygments_lexer": "ipython3",
      "version": "3.11.7"
    },
    "colab": {
      "provenance": []
    }
  },
  "nbformat": 4,
  "nbformat_minor": 5
}