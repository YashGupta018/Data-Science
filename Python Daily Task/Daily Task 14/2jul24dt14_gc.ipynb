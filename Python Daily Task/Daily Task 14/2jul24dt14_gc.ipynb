{
  "cells": [
    {
      "cell_type": "markdown",
      "id": "ddc41b51-02b8-4b2c-a8fc-3b4d6edbb10a",
      "metadata": {
        "id": "ddc41b51-02b8-4b2c-a8fc-3b4d6edbb10a"
      },
      "source": [
        "# Daily Task - July 2, 2024"
      ]
    },
    {
      "cell_type": "markdown",
      "id": "988c9ea3-eeba-4e47-abb8-33fc591b6107",
      "metadata": {
        "id": "988c9ea3-eeba-4e47-abb8-33fc591b6107"
      },
      "source": [
        "### Ques. 1 :\n",
        "    a. Print all uppercase letters in the string using a for loop.\n",
        "        s=”Innomatics Research Labs”\n",
        "    \n",
        "    b. Take 10 integers from the user using a while loop and print their average value on the screen."
      ]
    },
    {
      "cell_type": "code",
      "execution_count": null,
      "id": "7cd034ef-b9ec-427a-a179-af44ec5eec04",
      "metadata": {
        "id": "7cd034ef-b9ec-427a-a179-af44ec5eec04",
        "outputId": "e1a54eb2-8611-4e43-fd79-d3051edbcc68"
      },
      "outputs": [
        {
          "name": "stdout",
          "output_type": "stream",
          "text": [
            "I R L "
          ]
        }
      ],
      "source": [
        "# a. Print all uppercase letters in the string using a for loop\n",
        "#     s=”Innomatics Research Labs”\n",
        "s = \"Innomatics Research Labs\"\n",
        "\n",
        "for char in s:\n",
        "    if char.isupper():\n",
        "        print(char, end=\" \")"
      ]
    },
    {
      "cell_type": "code",
      "execution_count": null,
      "id": "b2b20177-c131-4542-b31b-76201f3fe2fd",
      "metadata": {
        "id": "b2b20177-c131-4542-b31b-76201f3fe2fd",
        "outputId": "dc0d3373-db0b-4a04-976c-cca2f57d1437"
      },
      "outputs": [
        {
          "name": "stdout",
          "output_type": "stream",
          "text": [
            "Enter 10 integers, one at a time :\n"
          ]
        },
        {
          "name": "stdin",
          "output_type": "stream",
          "text": [
            "Enter integer 1:  44\n",
            "Enter integer 2:  23\n",
            "Enter integer 3:  34\n",
            "Enter integer 4:  56\n",
            "Enter integer 5:  97\n",
            "Enter integer 6:  67\n",
            "Enter integer 7:  32\n",
            "Enter integer 8:  49\n",
            "Enter integer 9:  66\n",
            "Enter integer 10:  89\n"
          ]
        },
        {
          "name": "stdout",
          "output_type": "stream",
          "text": [
            "The average of the 10 integers is: 55.7\n"
          ]
        }
      ],
      "source": [
        "# b. Take 10 integers from the user using a while loop and print their average value on the screen\n",
        "\n",
        "count = 0\n",
        "total_sum = 0\n",
        "\n",
        "print(\"Enter 10 integers, one at a time :\")\n",
        "\n",
        "while count < 10:\n",
        "    user_input = input(f\"Enter integer {count + 1}: \")\n",
        "\n",
        "    if user_input.isdigit():\n",
        "        number = int(user_input)\n",
        "        total_sum += number\n",
        "        count += 1\n",
        "    else:\n",
        "        print(\"Invalid input. Please enter an integer\")\n",
        "\n",
        "if count > 0:\n",
        "    average = total_sum / count\n",
        "    print(f\"The average of the 10 integers is: {average}\")\n",
        "else:\n",
        "    print(\"No valid integers entered, cannot calculate average\")"
      ]
    },
    {
      "cell_type": "markdown",
      "id": "42cf3b45-87e3-487b-bada-f52b8eea85bb",
      "metadata": {
        "id": "42cf3b45-87e3-487b-bada-f52b8eea85bb"
      },
      "source": [
        "### Ques. 2 : Count the number of vowels in a string using a for loop.\n",
        "    s2= \"Hello World\""
      ]
    },
    {
      "cell_type": "code",
      "execution_count": null,
      "id": "07bff96d-88aa-428d-a0f9-679be4a89d92",
      "metadata": {
        "id": "07bff96d-88aa-428d-a0f9-679be4a89d92",
        "outputId": "b02bd5e3-0eaf-4279-9dbd-388a9bdfafb7"
      },
      "outputs": [
        {
          "name": "stdout",
          "output_type": "stream",
          "text": [
            "The number of vowels in the string 'Hello World' is: 3\n"
          ]
        }
      ],
      "source": [
        "s2 = \"Hello World\"\n",
        "\n",
        "vowel_count = 0\n",
        "\n",
        "vowels = \"aeiouAEIOU\"\n",
        "\n",
        "for char in s2:\n",
        "    if char in vowels:\n",
        "        vowel_count += 1\n",
        "\n",
        "print(f\"The number of vowels in the string '{s2}' is: {vowel_count}\")"
      ]
    },
    {
      "cell_type": "markdown",
      "id": "6e78afc0-7b77-43e9-9cf1-febc3b38c870",
      "metadata": {
        "id": "6e78afc0-7b77-43e9-9cf1-febc3b38c870"
      },
      "source": [
        "### Ques. 3 : Display numbers from -10 to -1 using a for loop."
      ]
    },
    {
      "cell_type": "code",
      "execution_count": null,
      "id": "873cf479-80f8-4822-9800-73f9acea1ccc",
      "metadata": {
        "id": "873cf479-80f8-4822-9800-73f9acea1ccc",
        "outputId": "447731a6-fa6a-4a60-aedb-eda23ad056bb"
      },
      "outputs": [
        {
          "name": "stdout",
          "output_type": "stream",
          "text": [
            "-10\n",
            "-9\n",
            "-8\n",
            "-7\n",
            "-6\n",
            "-5\n",
            "-4\n",
            "-3\n",
            "-2\n",
            "-1\n"
          ]
        }
      ],
      "source": [
        "for num in range(-10, 0):\n",
        "    print(num)"
      ]
    },
    {
      "cell_type": "markdown",
      "id": "ac6e62d7-6567-437d-af17-0edddfb4352d",
      "metadata": {
        "id": "ac6e62d7-6567-437d-af17-0edddfb4352d"
      },
      "source": [
        "### Ques. 4 : Find all prime numbers between 1 and 50 using for loop"
      ]
    },
    {
      "cell_type": "code",
      "execution_count": null,
      "id": "50065cc0-721c-4e15-b76d-f64041f74402",
      "metadata": {
        "id": "50065cc0-721c-4e15-b76d-f64041f74402",
        "outputId": "8ca1a351-9b0b-4e68-b2f4-2a236396303a"
      },
      "outputs": [
        {
          "name": "stdout",
          "output_type": "stream",
          "text": [
            "Prime numbers between 1 and 50 :\n",
            "[2, 3, 5, 7, 11, 13, 17, 19, 23, 29, 31, 37, 41, 43, 47]\n"
          ]
        }
      ],
      "source": [
        "prime_numbers = []\n",
        "\n",
        "for num in range(2, 51):\n",
        "    is_prime = True\n",
        "    for i in range(2, int(num**0.5) + 1):\n",
        "        if num % i == 0:\n",
        "            is_prime = False\n",
        "            break\n",
        "    if is_prime:\n",
        "        prime_numbers.append(num)\n",
        "\n",
        "print(\"Prime numbers between 1 and 50 :\")\n",
        "print(prime_numbers)"
      ]
    }
  ],
  "metadata": {
    "kernelspec": {
      "display_name": "Python 3 (ipykernel)",
      "language": "python",
      "name": "python3"
    },
    "language_info": {
      "codemirror_mode": {
        "name": "ipython",
        "version": 3
      },
      "file_extension": ".py",
      "mimetype": "text/x-python",
      "name": "python",
      "nbconvert_exporter": "python",
      "pygments_lexer": "ipython3",
      "version": "3.11.7"
    },
    "colab": {
      "provenance": []
    }
  },
  "nbformat": 4,
  "nbformat_minor": 5
}