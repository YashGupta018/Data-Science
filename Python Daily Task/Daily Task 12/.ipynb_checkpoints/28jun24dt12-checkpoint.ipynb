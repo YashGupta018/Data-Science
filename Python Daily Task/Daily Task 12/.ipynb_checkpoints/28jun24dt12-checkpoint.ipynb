{
 "cells": [
  {
   "cell_type": "markdown",
   "id": "c9a2ff82-938f-42c6-b15d-e74656593582",
   "metadata": {},
   "source": [
    "# Daily Task - June 28, 2024"
   ]
  },
  {
   "cell_type": "markdown",
   "id": "9a9d3f07-d10c-4897-89d0-34739bbd0ba0",
   "metadata": {},
   "source": [
    "### Ques. 1 :\n",
    "    a. Print the following number pattern using nested while loops:\n",
    "    \n",
    "    1\n",
    "    12\n",
    "    123\n",
    "    1234\n",
    "    12345\n",
    "\n",
    "    b. Print a rhombus pattern of asterisks with a side length of 5 using nested while loops."
   ]
  },
  {
   "cell_type": "code",
   "execution_count": 48,
   "id": "49811d09-590e-45ab-bcc5-d0d27f88d609",
   "metadata": {},
   "outputs": [
    {
     "name": "stdin",
     "output_type": "stream",
     "text": [
      "Enter the size of the right triangle : 5\n"
     ]
    },
    {
     "name": "stdout",
     "output_type": "stream",
     "text": [
      "1\n",
      "12\n",
      "123\n",
      "1234\n",
      "12345\n"
     ]
    }
   ],
   "source": [
    "# a. Print the following number pattern using nested while loops:\n",
    "\n",
    "# 1\n",
    "# 12\n",
    "# 123\n",
    "# 1234\n",
    "# 12345\n",
    "\n",
    "n = int(input(\"Enter the size of the right triangle :\"))\n",
    "row = 1\n",
    "\n",
    "while row <= n:\n",
    "    column = 1\n",
    "    while column <= row:\n",
    "        print(column, end=\"\")\n",
    "        column += 1\n",
    "    print(\"\")\n",
    "    row += 1"
   ]
  },
  {
   "cell_type": "code",
   "execution_count": 50,
   "id": "37cb48cc-e1a9-41e7-8852-294330b98196",
   "metadata": {},
   "outputs": [
    {
     "name": "stdin",
     "output_type": "stream",
     "text": [
      "Enter a number =  5\n"
     ]
    },
    {
     "name": "stdout",
     "output_type": "stream",
     "text": [
      "    *****\n",
      "   *****\n",
      "  *****\n",
      " *****\n",
      "*****\n"
     ]
    }
   ],
   "source": [
    "# b. Print a rhombus pattern of asterisks with a side length of 5 using nested while loops.\n",
    "\n",
    "rows = int(input(\"Enter a number = \"))\n",
    "i = rows\n",
    "\n",
    "while i > 0:\n",
    "    j = 1\n",
    "    while j < i:\n",
    "        print(' ', end='')\n",
    "        j += 1\n",
    "    k = 0\n",
    "    while k < rows:\n",
    "        print('*', end='')\n",
    "        k += 1\n",
    "    print()\n",
    "    i -= 1"
   ]
  },
  {
   "cell_type": "markdown",
   "id": "074fa891-a02f-44a4-9c39-c92ba60be016",
   "metadata": {},
   "source": [
    "#### Ques. 2 : Write a program that will accept an integer input from the user.\n",
    "    a. Print the square of the number if the number is even\n",
    "    b. If the number is odd, print the message “num is odd. Enter an even number” and keep the loop going (i.e prompt for input again to accept an integer from the user). \n",
    "    c. If the user gives the number \"0\", then print \"Exited the program. Please try again later starting from number 1\" and the program should stop prompting for input."
   ]
  },
  {
   "cell_type": "code",
   "execution_count": 34,
   "id": "8d9a8902-a53f-43f4-9df5-c8aadb3353cc",
   "metadata": {},
   "outputs": [
    {
     "name": "stdin",
     "output_type": "stream",
     "text": [
      "Enter an integer:  86\n"
     ]
    },
    {
     "name": "stdout",
     "output_type": "stream",
     "text": [
      "The square of 86 is 7396\n"
     ]
    }
   ],
   "source": [
    "# a. Print the square of the number if the number is evens\n",
    "\n",
    "number = int(input(\"Enter an integer: \"))\n",
    "\n",
    "if number % 2 == 0:\n",
    "    square = number ** 2\n",
    "    print(f\"The square of {number} is {square}\")\n",
    "\n",
    "else:\n",
    "    print(f\"The number {number} is odd\")"
   ]
  },
  {
   "cell_type": "code",
   "execution_count": 22,
   "id": "4550841c-a29c-49fa-b326-419e1ff1e961",
   "metadata": {},
   "outputs": [
    {
     "name": "stdin",
     "output_type": "stream",
     "text": [
      "Enter an integer:  43\n"
     ]
    },
    {
     "name": "stdout",
     "output_type": "stream",
     "text": [
      "43 is odd. Enter an even number.\n"
     ]
    },
    {
     "name": "stdin",
     "output_type": "stream",
     "text": [
      "Enter an integer:  55\n"
     ]
    },
    {
     "name": "stdout",
     "output_type": "stream",
     "text": [
      "55 is odd. Enter an even number.\n"
     ]
    },
    {
     "name": "stdin",
     "output_type": "stream",
     "text": [
      "Enter an integer:  98\n"
     ]
    },
    {
     "name": "stdout",
     "output_type": "stream",
     "text": [
      "The square of 98 is 9604.\n"
     ]
    }
   ],
   "source": [
    "# b. If the number is odd, print the message “num is odd.\n",
    "# Enter an even number” and keep the loop going\n",
    "# (i.e prompt for input again to accept an integer from the user).\n",
    "                                                                                                       \n",
    "while True:\n",
    "    number = int(input(\"Enter an integer: \"))\n",
    "    \n",
    "    if number % 2 == 0:\n",
    "        square = number ** 2\n",
    "        print(f\"The square of {number} is {square}.\")\n",
    "        break\n",
    "        \n",
    "    else:\n",
    "        print(f\"{number} is odd. Enter an even number.\")"
   ]
  },
  {
   "cell_type": "code",
   "execution_count": 44,
   "id": "2530f444-f58d-454c-a971-396ebf228d11",
   "metadata": {},
   "outputs": [
    {
     "name": "stdin",
     "output_type": "stream",
     "text": [
      "Enter an integer:  55\n"
     ]
    },
    {
     "name": "stdout",
     "output_type": "stream",
     "text": [
      "55 is odd. Enter an even number.\n"
     ]
    },
    {
     "name": "stdin",
     "output_type": "stream",
     "text": [
      "Enter an integer:  89\n"
     ]
    },
    {
     "name": "stdout",
     "output_type": "stream",
     "text": [
      "89 is odd. Enter an even number.\n"
     ]
    },
    {
     "name": "stdin",
     "output_type": "stream",
     "text": [
      "Enter an integer:  18\n"
     ]
    },
    {
     "name": "stdout",
     "output_type": "stream",
     "text": [
      "The square of 18 is 324.\n"
     ]
    }
   ],
   "source": [
    "# c. If the user gives the number \"0\", then print \"Exited the program.\n",
    "# Please try again later starting from number 1\" and the program should stop prompting for input.\n",
    "\n",
    "while True:\n",
    "    number = int(input(\"Enter an integer: \"))\n",
    "    \n",
    "    if number == 0:\n",
    "        print(\"Exited the program. Please try again later starting from number 1.\")\n",
    "        break\n",
    "\n",
    "    elif number % 2 == 0:\n",
    "        square = number ** 2\n",
    "        print(f\"The square of {number} is {square}.\")\n",
    "        break\n",
    "\n",
    "    else:\n",
    "        print(f\"{number} is odd. Enter an even number.\")\n",
    "# We didn’t added break here because we dont want to end the loop with a odd number thats why we created a infinite while loop"
   ]
  },
  {
   "cell_type": "markdown",
   "id": "64c60827-a3b4-4c21-a254-cfdc97d5d40a",
   "metadata": {},
   "source": [
    "### Ques. 3 :\n",
    "    a. Print the following pattern using nested while loops:\n",
    "    \n",
    "    12345\n",
    "    54321\n",
    "    12345\n",
    "    54321\n",
    "\n",
    "    b. Print a square pattern of asterisks with a side length of 5 using nested while loops."
   ]
  },
  {
   "cell_type": "code",
   "execution_count": 68,
   "id": "476911df-5e23-437c-a792-4a2e14bb3985",
   "metadata": {},
   "outputs": [
    {
     "name": "stdout",
     "output_type": "stream",
     "text": [
      "12345\n",
      "54321\n",
      "12345\n",
      "54321\n"
     ]
    }
   ],
   "source": [
    "# a. Print the following pattern using nested while loops:\n",
    "\n",
    "# 12345\n",
    "# 54321\n",
    "# 12345\n",
    "# 54321\n",
    "\n",
    "lines = 4\n",
    "line_counter = 1\n",
    "\n",
    "while line_counter <= lines:\n",
    "    if line_counter % 2 != 0:\n",
    "        num_counter = 1\n",
    "        while num_counter <= 5:\n",
    "            print(num_counter, end=\"\")\n",
    "            num_counter += 1\n",
    "    else:\n",
    "        num_counter = 5\n",
    "        while num_counter >= 1:\n",
    "            print(num_counter, end=\"\")\n",
    "            num_counter -= 1\n",
    "            \n",
    "    print()\n",
    "    line_counter += 1"
   ]
  },
  {
   "cell_type": "code",
   "execution_count": 70,
   "id": "388ff5b8-410e-4630-9b6f-cc63c5071514",
   "metadata": {},
   "outputs": [
    {
     "name": "stdout",
     "output_type": "stream",
     "text": [
      "*****\n",
      "*****\n",
      "*****\n",
      "*****\n",
      "*****\n"
     ]
    }
   ],
   "source": [
    "# b. Print a square pattern of asterisks with a side length of 5 using nested while loops.\n",
    "\n",
    "len = 5\n",
    "row = 0\n",
    "\n",
    "while row < len:\n",
    "    col = 0\n",
    "    while col < len:\n",
    "        print(\"*\", end=\"\")\n",
    "        col += 1\n",
    "    print()\n",
    "    row += 1"
   ]
  },
  {
   "cell_type": "markdown",
   "id": "ec9bda8a-067e-42c1-8cc8-b30f5d0dcc7e",
   "metadata": {},
   "source": [
    "### Ques. 4 : Display numbers from -10 to -1 using a while loop."
   ]
  },
  {
   "cell_type": "code",
   "execution_count": 73,
   "id": "c2e32745-2697-494a-b8d9-cbb1f797b58b",
   "metadata": {},
   "outputs": [
    {
     "name": "stdout",
     "output_type": "stream",
     "text": [
      "-10\n",
      "-9\n",
      "-8\n",
      "-7\n",
      "-6\n",
      "-5\n",
      "-4\n",
      "-3\n",
      "-2\n",
      "-1\n"
     ]
    }
   ],
   "source": [
    "number = -10\n",
    "\n",
    "while number <= -1:\n",
    "    print(number)\n",
    "    number += 1"
   ]
  },
  {
   "cell_type": "markdown",
   "id": "0bc73f4c-a46f-46a4-80c5-23f6780f52e4",
   "metadata": {},
   "source": [
    "### Ques. 5 : Write a while loop that repeatedly ask user for input for a number until they enter a number greater than 10."
   ]
  },
  {
   "cell_type": "code",
   "execution_count": 77,
   "id": "e42d6256-8edc-4d09-9b42-fe96727040f4",
   "metadata": {},
   "outputs": [
    {
     "name": "stdin",
     "output_type": "stream",
     "text": [
      "Enter a number:  5\n"
     ]
    },
    {
     "name": "stdout",
     "output_type": "stream",
     "text": [
      "Please enter a number greater than 10.\n"
     ]
    },
    {
     "name": "stdin",
     "output_type": "stream",
     "text": [
      "Enter a number:  7\n"
     ]
    },
    {
     "name": "stdout",
     "output_type": "stream",
     "text": [
      "Please enter a number greater than 10.\n"
     ]
    },
    {
     "name": "stdin",
     "output_type": "stream",
     "text": [
      "Enter a number:  8\n"
     ]
    },
    {
     "name": "stdout",
     "output_type": "stream",
     "text": [
      "Please enter a number greater than 10.\n"
     ]
    },
    {
     "name": "stdin",
     "output_type": "stream",
     "text": [
      "Enter a number:  10\n"
     ]
    },
    {
     "name": "stdout",
     "output_type": "stream",
     "text": [
      "Please enter a number greater than 10.\n"
     ]
    },
    {
     "name": "stdin",
     "output_type": "stream",
     "text": [
      "Enter a number:  67\n"
     ]
    },
    {
     "name": "stdout",
     "output_type": "stream",
     "text": [
      "Thank you! You entered 67, which is greater than 10.\n"
     ]
    }
   ],
   "source": [
    "number = 0\n",
    "\n",
    "while number <= 10:\n",
    "    number = int(input(\"Enter a number: \"))\n",
    "    if number <= 10:\n",
    "        print(\"Please enter a number greater than 10.\")\n",
    "\n",
    "print(f\"Thank you! You entered {number}, which is greater than 10.\")"
   ]
  },
  {
   "cell_type": "markdown",
   "id": "557933a2-5ce5-4426-acdf-175cc2806aeb",
   "metadata": {},
   "source": [
    "### Ques. 6 : Write a while loop that calculates the sum of digits in a given number.\n",
    "    \n",
    "    Example:\n",
    "    Input : 123\n",
    "    Output : 6\n",
    "    Explanation: 1+2+3 = 6"
   ]
  },
  {
   "cell_type": "code",
   "execution_count": 82,
   "id": "237ee7fb-d5db-45ac-b3e5-3b60a189f430",
   "metadata": {},
   "outputs": [
    {
     "name": "stdin",
     "output_type": "stream",
     "text": [
      "Enter a number:  334\n"
     ]
    },
    {
     "name": "stdout",
     "output_type": "stream",
     "text": [
      "The sum of digits is: 10\n"
     ]
    }
   ],
   "source": [
    "number = int(input(\"Enter a number: \"))\n",
    "\n",
    "sum_of_digits = 0\n",
    "\n",
    "while number > 0:\n",
    "    digit = number % 10\n",
    "    sum_of_digits += digit\n",
    "    number //= 10\n",
    "\n",
    "print(f\"The sum of digits is: {sum_of_digits}\")"
   ]
  },
  {
   "cell_type": "markdown",
   "id": "18a3269e-ed24-4fd5-9f2b-1147ddc60ed2",
   "metadata": {},
   "source": [
    "### Ques. 7 : Write a while loop that prints numbers from 1 to 10 and then prints “Lift, Off!!”"
   ]
  },
  {
   "cell_type": "code",
   "execution_count": 93,
   "id": "1b9b66cf-f337-444a-8944-9231c3c3f8e7",
   "metadata": {},
   "outputs": [
    {
     "name": "stdout",
     "output_type": "stream",
     "text": [
      "1\n",
      "2\n",
      "3\n",
      "4\n",
      "5\n",
      "6\n",
      "7\n",
      "8\n",
      "9\n",
      "10\n",
      "Lift Off!!\n"
     ]
    }
   ],
   "source": [
    "number = 1\n",
    "\n",
    "while number <= 10:\n",
    "    print(number)\n",
    "    number += 1\n",
    "\n",
    "print(\"Lift Off!!\")"
   ]
  },
  {
   "attachments": {
    "4dccae0c-3b76-4c77-9716-3660e8f377ef.png": {
     "image/png": "[encoded data removed]"
    }
   },
   "cell_type": "markdown",
   "id": "9e9f8d7b-1df4-45d9-8db1-73b7d13f5a0a",
   "metadata": {},
   "source": [
    "### Ques. 8 : with n=5\n",
    "\n",
    "![Screenshot 2024-07-05 at 3.38.41 PM.png](attachment:4dccae0c-3b76-4c77-9716-3660e8f377ef.png)"
   ]
  },
  {
   "cell_type": "code",
   "execution_count": 14,
   "id": "e720d551-e7c4-45ad-b3d4-29317b487b28",
   "metadata": {},
   "outputs": [
    {
     "name": "stdout",
     "output_type": "stream",
     "text": [
      "    *\n",
      "   **\n",
      "  ***\n",
      " ****\n",
      "*****\n",
      "\n",
      "\n",
      "    *\n",
      "   **\n",
      "  ***\n",
      " ****\n",
      "*****\n"
     ]
    }
   ],
   "source": [
    "# 1st Method\n",
    "n = 5\n",
    "for i in range(1, n + 1):\n",
    "  print(\" \" * (n - i), end=\"\")\n",
    "  print(\"*\" * i)\n",
    "\n",
    "print()\n",
    "# 2nd Method\n",
    "print()\n",
    "\n",
    "n = 5\n",
    "for i in range(1, n + 1):\n",
    "    for _ in range(1, n - i + 1):\n",
    "        print(\" \", end=\"\")\n",
    "    \n",
    "    for j in range(1, i + 1):\n",
    "        print(\"*\", end=\"\")\n",
    "        \n",
    "    print()"
   ]
  },
  {
   "attachments": {
    "0aeb861e-6bf0-4ceb-811a-6465f692242a.png": {
     "image/png": "[encoded data removed]"
    }
   },
   "cell_type": "markdown",
   "id": "14e45511-3e6a-49ed-a9ad-7993cfb07d91",
   "metadata": {},
   "source": [
    "### Ques. 9 : n = 4\n",
    "\n",
    "![Screenshot 2024-07-06 at 12.07.38 PM.png](attachment:0aeb861e-6bf0-4ceb-811a-6465f692242a.png)"
   ]
  },
  {
   "cell_type": "code",
   "execution_count": 41,
   "id": "56078dd5-5bcd-4397-957a-a51cadecb21b",
   "metadata": {},
   "outputs": [
    {
     "name": "stdout",
     "output_type": "stream",
     "text": [
      "   1 \n",
      "  1 2 \n",
      " 1 2 3 \n",
      "1 2 3 4 \n"
     ]
    }
   ],
   "source": [
    "n = 4\n",
    "\n",
    "for i in range(1, n + 1):\n",
    "    for _ in range(n - i):\n",
    "        print(\" \", end=\"\")\n",
    "    \n",
    "    for j in range(1, i + 1):\n",
    "        print(j, end=\" \")\n",
    "\n",
    "    print()"
   ]
  },
  {
   "cell_type": "code",
   "execution_count": 53,
   "id": "58d1e2cf-a58e-49db-b3d9-374ed6f3fc64",
   "metadata": {},
   "outputs": [
    {
     "name": "stdin",
     "output_type": "stream",
     "text": [
      "Enter an integer:  32\n",
      "Enter an integer:  24\n",
      "Enter an integer:  12\n",
      "Enter an integer:  45\n",
      "Enter an integer:  38\n",
      "Enter an integer:  84\n",
      "Enter an integer:  56\n",
      "Enter an integer:  63\n",
      "Enter an integer:  46\n",
      "Enter an integer:  39\n"
     ]
    },
    {
     "name": "stdout",
     "output_type": "stream",
     "text": [
      "The average value of the entered numbers is: 43.9\n"
     ]
    }
   ],
   "source": [
    "# Initialize variables to store the sum and count of numbers\n",
    "sum_of_numbers = 0\n",
    "count = 0\n",
    "\n",
    "while count < 10:\n",
    "    number = int(input(\"Enter an integer: \"))\n",
    "    sum_of_numbers += number\n",
    "    count += 1\n",
    "\n",
    "average = sum_of_numbers / 10\n",
    "\n",
    "print(\"The average value of the entered numbers is:\", average)"
   ]
  }
 ],
 "metadata": {
  "kernelspec": {
   "display_name": "Python 3 (ipykernel)",
   "language": "python",
   "name": "python3"
  },
  "language_info": {
   "codemirror_mode": {
    "name": "ipython",
    "version": 3
   },
   "file_extension": ".py",
   "mimetype": "text/x-python",
   "name": "python",
   "nbconvert_exporter": "python",
   "pygments_lexer": "ipython3",
   "version": "3.11.7"
  }
 },
 "nbformat": 4,
 "nbformat_minor": 5
}
