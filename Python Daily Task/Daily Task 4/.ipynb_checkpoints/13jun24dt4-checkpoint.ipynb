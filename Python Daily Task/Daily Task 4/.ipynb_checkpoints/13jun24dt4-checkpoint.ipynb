{
 "cells": [
  {
   "cell_type": "markdown",
   "id": "ee825f10-90ff-4114-9e48-62b4020dfc06",
   "metadata": {},
   "source": [
    "# Daily Task - June 13, 2024"
   ]
  },
  {
   "cell_type": "markdown",
   "id": "a451ac46-7ac8-449c-a8d7-2db30bc1c963",
   "metadata": {},
   "source": [
    "### Ques. 1 :\n",
    "    a. Consider the statement \"Four furious friends fought for the phone\". Print \"curious\" in place of “furious” using f-string.\n",
    "    Example output: “Four curious friends fought for the phone”\n",
    "    b. Write a program to check if \"nana\" is present in “banana” and print the result."
   ]
  },
  {
   "cell_type": "code",
   "execution_count": 12,
   "id": "6cb09f2d-ff4c-41e5-9c79-1cc731041663",
   "metadata": {},
   "outputs": [
    {
     "name": "stdout",
     "output_type": "stream",
     "text": [
      "Four curious friends fought for the phone\n"
     ]
    }
   ],
   "source": [
    "# a. Consider the statement \"Four furious friends fought for the phone\". Print \"curious\" in place of “furious” using f-string.\n",
    "\n",
    "original_string = \"Four furious friends fought for the phone\"\n",
    "modified_string = f\"Four {'curious'} friends fought for the phone\"\n",
    "\n",
    "print(modified_string)"
   ]
  },
  {
   "cell_type": "code",
   "execution_count": 26,
   "id": "fe701e86-7709-438c-a1d4-b88841967628",
   "metadata": {},
   "outputs": [
    {
     "data": {
      "text/plain": [
       "True"
      ]
     },
     "execution_count": 26,
     "metadata": {},
     "output_type": "execute_result"
    }
   ],
   "source": [
    "# b. Write a program to check if \"nana\" is present in “banana” and print the result.\n",
    "\n",
    "text = \"banana\"\n",
    "\n",
    "\"nana\" in text"
   ]
  },
  {
   "cell_type": "markdown",
   "id": "f7ea6d3e-2c8e-4a9e-9ae8-4c3ea7bd0fda",
   "metadata": {},
   "source": [
    "### Ques. 2 :\n",
    "    a. Create two variables to store how many fruits and vegetables you eat in a day. Now, Print \"I eat x veggies and y fruits daily\" where x and y presents vegetables and fruits that you eat everyday.\n",
    "    b. Say, a=100, b=32. Perform all arithmetic operations and Logical operations."
   ]
  },
  {
   "cell_type": "code",
   "execution_count": 30,
   "id": "3968a53c-09c0-4f95-8188-e45d385e0e4d",
   "metadata": {},
   "outputs": [
    {
     "name": "stdout",
     "output_type": "stream",
     "text": [
      "I eat 2 veggies and 3 fruits daily\n"
     ]
    }
   ],
   "source": [
    "# a. Create two variables to store how many fruits and vegetables you eat in a day. Now, Print \"I eat x veggies and y fruits daily\" where x and y presents vegetables and fruits that you eat everyday.\n",
    "\n",
    "variables = 2\n",
    "fruits = 3\n",
    "\n",
    "# Using f-string to print the statement\n",
    "print(f\"I eat {variables} veggies and {fruits} fruits daily\")"
   ]
  },
  {
   "cell_type": "code",
   "execution_count": 56,
   "id": "d567e9a7-f9a9-4761-848c-f0c8b53f1e1d",
   "metadata": {},
   "outputs": [
    {
     "name": "stdout",
     "output_type": "stream",
     "text": [
      "Addition: 132\n",
      "Subtraction: 68\n",
      "Multiplication: 3200\n",
      "Division: 3.125\n",
      "Modulus: 4\n",
      "Exponentiation: 10000000000000000000000000000000000000000000000000000000000000000\n",
      "Floor Division: 3\n",
      "Logical AND (and): True\n",
      "Bitwise AND (&): True\n",
      "Logical OR (or): True\n",
      "Bitwise OR (|): True\n",
      "Logical NOT A(not): False\n",
      "Bitwise NOT A(~): -2\n",
      "Logical NOT B(not): False\n",
      "Bitwise NOT B(~): -2\n"
     ]
    }
   ],
   "source": [
    "# b. Say, a=100, b=32. Perform all arithmetic operations and Logical operations.\n",
    "\n",
    "# Given values\n",
    "a = 100\n",
    "b = 32\n",
    "\n",
    "# Arithmetic operations\n",
    "addition = a + b\n",
    "subtraction = a - b\n",
    "multiplication = a * b\n",
    "division = a / b\n",
    "modulus = a % b\n",
    "exponentiation = a ** b\n",
    "floor_division = a // b\n",
    "\n",
    "# Logical operations\n",
    "logical_and = (a > 50) and (b < 50)\n",
    "bitwise_and = (a > 50) & (b < 50)\n",
    "\n",
    "logical_or = (a > 50) or (b > 50)\n",
    "bitwise_or = (a > 50) | (b > 50)\n",
    "\n",
    "logical_not_a = not (a > 50)\n",
    "bitwise_not_a = ~(a > 50)\n",
    "\n",
    "logical_not_b = not (b < 50)\n",
    "bitwise_not_b = ~(b < 50)\n",
    "\n",
    "# Print results\n",
    "print(f\"Addition: {addition}\")\n",
    "print(f\"Subtraction: {subtraction}\")\n",
    "print(f\"Multiplication: {multiplication}\")\n",
    "print(f\"Division: {division}\")\n",
    "print(f\"Modulus: {modulus}\")\n",
    "print(f\"Exponentiation: {exponentiation}\")\n",
    "print(f\"Floor Division: {floor_division}\")\n",
    "\n",
    "print(f\"Logical AND (and): {logical_and}\")\n",
    "print(f\"Bitwise AND (&): {bitwise_and}\")\n",
    "\n",
    "print(f\"Logical OR (or): {logical_or}\")\n",
    "print(f\"Bitwise OR (|): {bitwise_or}\")\n",
    "\n",
    "print(f\"Logical NOT A(not): {logical_not_a}\")\n",
    "print(f\"Bitwise NOT A(~): {bitwise_not_a}\")\n",
    "\n",
    "print(f\"Logical NOT B(not): {logical_not_b}\")\n",
    "print(f\"Bitwise NOT B(~): {bitwise_not_b}\")"
   ]
  },
  {
   "cell_type": "markdown",
   "id": "225dd21e-1122-4cff-a03e-4eda0c3e12ac",
   "metadata": {},
   "source": [
    "### Ques. 3 :\n",
    "    a. Create 3 variables to store street, city and country, now create address variables to store the entire address. Use two ways of creating this variable, one using + operator and the other using f-string. Now, Print the address in such a way that the street, city and country prints in a separate line.\n",
    "    b. Say, c= 5 and d=2. Perform all arithmetic operations and explain ‘float’ and ‘int’ division."
   ]
  },
  {
   "cell_type": "code",
   "execution_count": 62,
   "id": "a917f968-f46a-4f68-883b-dfaf68bed5a1",
   "metadata": {},
   "outputs": [
    {
     "name": "stdout",
     "output_type": "stream",
     "text": [
      "Address using + operator:\n",
      "Kukatpally\n",
      "Hyderabad\n",
      "India\n",
      "\n",
      "Address using f-string:\n",
      "Kukatpally\n",
      "Hyderabad\n",
      "India\n"
     ]
    }
   ],
   "source": [
    "# a. Create 3 variables to store street, city and country, now create address variables to store the entire address.\n",
    "# Use two ways of creating this variable, one using + operator and the other using f-string.\n",
    "# Now, Print the address in such a way that the street, city and country prints in a separate line.\n",
    "\n",
    "# Variables to store street, city, and country\n",
    "street = \"Kukatpally\"\n",
    "city = \"Hyderabad\"\n",
    "country = \"India\"\n",
    "\n",
    "# Creating the address variable using the + operator\n",
    "address_with_plus = street + \"\\n\" + city + \"\\n\" + country\n",
    "\n",
    "# Creating the address variable using f-string\n",
    "address_with_fstring = f\"{street}\\n{city}\\n{country}\"\n",
    "\n",
    "# Print the address\n",
    "print(\"Address using + operator:\")\n",
    "print(address_with_plus)\n",
    "\n",
    "print(\"\\nAddress using f-string:\")\n",
    "print(address_with_fstring)"
   ]
  },
  {
   "cell_type": "code",
   "execution_count": 12,
   "id": "16b291b0-9f7d-4b36-af49-aa8308c5889c",
   "metadata": {},
   "outputs": [
    {
     "name": "stdout",
     "output_type": "stream",
     "text": [
      "Addition: 5 + 2 = 7\n",
      "Subtraction: 5 - 2 = 3\n",
      "Multiplication: 5 * 2 = 10\n",
      "Float Division: 5 / 2 = 2.5\n",
      "Int Division: 5 // 2 = 2\n",
      "Modulus: 5 % 2 = 1\n",
      "Exponentiation: 5 ** 2 = 25\n",
      "\n",
      "Explanation:\n",
      "Float Division (5 / 2): 5 divided by 2 results in a floating-point number.\n",
      "Int Division (5 // 2): 5 divided by 2 results in an integer, where any fractional part is discarded.\n"
     ]
    }
   ],
   "source": [
    "# b. Say, c= 5 and d=2. Perform all arithmetic operations and explain ‘float’ and ‘int’ division.\n",
    "\n",
    "# Given values\n",
    "c = 5\n",
    "d = 2\n",
    "\n",
    "# Arithmetic operations\n",
    "addition = c + d  # Addition\n",
    "subtraction = c - d  # Subtraction\n",
    "multiplication = c * d  # Multiplication\n",
    "float_division = c / d  # Float division\n",
    "int_division = c // d  # Integer (floor) division\n",
    "modulus = c % d  # Modulus\n",
    "exponentiation = c ** d  # Exponentiation\n",
    "\n",
    "# Print results with explanations\n",
    "print(f\"Addition: {c} + {d} = {addition}\")  # Addition\n",
    "print(f\"Subtraction: {c} - {d} = {subtraction}\")  # Subtraction\n",
    "print(f\"Multiplication: {c} * {d} = {multiplication}\")  # Multiplication\n",
    "print(f\"Float Division: {c} / {d} = {float_division}\")  # Float division\n",
    "print(f\"Int Division: {c} // {d} = {int_division}\")  # Integer division\n",
    "print(f\"Modulus: {c} % {d} = {modulus}\")  # Modulus\n",
    "print(f\"Exponentiation: {c} ** {d} = {exponentiation}\")  # Exponentiation\n",
    "\n",
    "# Explanation of float and int division\n",
    "print(\"\\nExplanation:\")\n",
    "print(f\"Float Division ({c} / {d}): {c} divided by {d} results in a floating-point number.\")\n",
    "print(f\"Int Division ({c} // {d}): {c} divided by {d} results in an integer, where any fractional part is discarded.\")"
   ]
  },
  {
   "cell_type": "markdown",
   "id": "2b6522dd-7481-49b1-a714-6017ac7e87d0",
   "metadata": {},
   "source": [
    "### Ques. 4 :\n",
    "    a. Say, a = 4, b = 11. Perform all bitwise operations.\n",
    "    b. Write a program to swap above two numbers in python."
   ]
  },
  {
   "cell_type": "code",
   "execution_count": 14,
   "id": "939d267b-27bc-4ba8-8bee-eaee7f28b747",
   "metadata": {},
   "outputs": [
    {
     "name": "stdout",
     "output_type": "stream",
     "text": [
      "Bitwise AND (a & b): 0\n",
      "Bitwise OR (a | b): 15\n",
      "Bitwise XOR (a ^ b): 15\n",
      "Bitwise NOT (~a): -5\n",
      "Bitwise NOT (~b): -12\n",
      "Bitwise Left Shift (a << 2): 16\n",
      "Bitwise Right Shift (a >> 1): 2\n"
     ]
    }
   ],
   "source": [
    "# a. Say, a = 4, b = 11. Perform all bitwise operations.\n",
    "\n",
    "# Given values\n",
    "a = 4\n",
    "b = 11\n",
    "\n",
    "# Bitwise operations\n",
    "bitwise_and = a & b\n",
    "bitwise_or = a | b\n",
    "bitwise_xor = a ^ b\n",
    "bitwise_not_a = ~a\n",
    "bitwise_not_b = ~b\n",
    "left_shift = a << 2\n",
    "right_shift = a >> 1\n",
    "\n",
    "# Print results with explanations\n",
    "print(f\"Bitwise AND (a & b): {bitwise_and}\")\n",
    "print(f\"Bitwise OR (a | b): {bitwise_or}\")\n",
    "print(f\"Bitwise XOR (a ^ b): {bitwise_xor}\")\n",
    "print(f\"Bitwise NOT (~a): {bitwise_not_a}\")\n",
    "print(f\"Bitwise NOT (~b): {bitwise_not_b}\")\n",
    "print(f\"Bitwise Left Shift (a << 2): {left_shift}\")\n",
    "print(f\"Bitwise Right Shift (a >> 1): {right_shift}\")"
   ]
  },
  {
   "cell_type": "code",
   "execution_count": 4,
   "id": "75c4b3fe-7284-4919-a19d-88a2dbd24969",
   "metadata": {},
   "outputs": [
    {
     "name": "stdout",
     "output_type": "stream",
     "text": [
      "Original values: a = 4, b = 11\n",
      "Swapped values: a = 11, b = 4\n"
     ]
    }
   ],
   "source": [
    "# b. Write a program to swap above two numbers in python.\n",
    "\n",
    "# Given values\n",
    "a = 4\n",
    "b = 11\n",
    "\n",
    "# Print original values\n",
    "print(f\"Original values: a = {a}, b = {b}\")\n",
    "\n",
    "# Swap the values using addition and subtraction\n",
    "a = a + b\n",
    "b = a - b\n",
    "a = a - b\n",
    "\n",
    "# Print swapped values\n",
    "print(f\"Swapped values: a = {a}, b = {b}\")"
   ]
  },
  {
   "cell_type": "markdown",
   "id": "e465e6e4-bcaa-47dc-92b0-8bcbe2b45214",
   "metadata": {},
   "source": [
    "### Ques. 5 :\n",
    "    a. Say, a=10, b=20. Perform all assignment operations.\n",
    "    b. Write a Python program that takes an integer as input and returns its negation."
   ]
  },
  {
   "cell_type": "code",
   "execution_count": 6,
   "id": "e25c6559-ef6e-4642-918d-93d39b1ac5bc",
   "metadata": {},
   "outputs": [
    {
     "name": "stdout",
     "output_type": "stream",
     "text": [
      "Original values: a = 10, b = 20\n",
      "a += b: 30\n",
      "a -= b: -10\n",
      "a *= b: 200\n",
      "a /= b: 0.5\n",
      "a //= b: 0\n",
      "a %= b: 10\n",
      "a **= 2: 100\n",
      "a &= b: 0\n",
      "a |= b: 30\n",
      "a ^= b: 30\n",
      "a <<= 2: 40\n",
      "a >>= 2: 2\n"
     ]
    }
   ],
   "source": [
    "# a. Say, a=10, b=20. Perform all assignment operations.\n",
    "\n",
    "# Given values\n",
    "a = 10\n",
    "b = 20\n",
    "\n",
    "# Print original values\n",
    "print(f\"Original values: a = {a}, b = {b}\")\n",
    "\n",
    "# Add and Assign\n",
    "a += b\n",
    "print(f\"a += b: {a}\")  # Output: 30\n",
    "\n",
    "# Reset a for next operation\n",
    "a = 10\n",
    "\n",
    "# Subtract and Assign\n",
    "a -= b\n",
    "print(f\"a -= b: {a}\")  # Output: -10\n",
    "\n",
    "# Reset a for next operation\n",
    "a = 10\n",
    "\n",
    "# Multiply and Assign\n",
    "a *= b\n",
    "print(f\"a *= b: {a}\")  # Output: 200\n",
    "\n",
    "# Reset a for next operation\n",
    "a = 10\n",
    "\n",
    "# Divide and Assign\n",
    "a /= b\n",
    "print(f\"a /= b: {a}\")  # Output: 0.5\n",
    "\n",
    "# Reset a for next operation\n",
    "a = 10\n",
    "\n",
    "# Floor Divide and Assign\n",
    "a //= b\n",
    "print(f\"a //= b: {a}\")  # Output: 0\n",
    "\n",
    "# Reset a for next operation\n",
    "a = 10\n",
    "\n",
    "# Modulus and Assign\n",
    "a %= b\n",
    "print(f\"a %= b: {a}\")  # Output: 10\n",
    "\n",
    "# Reset a for next operation\n",
    "a = 10\n",
    "\n",
    "# Exponent and Assign\n",
    "a **= 2\n",
    "print(f\"a **= 2: {a}\")  # Output: 100\n",
    "\n",
    "# Reset a for next operation\n",
    "a = 10\n",
    "\n",
    "# Bitwise AND and Assign\n",
    "a &= b\n",
    "print(f\"a &= b: {a}\")  # Output: 0\n",
    "\n",
    "# Reset a for next operation\n",
    "a = 10\n",
    "\n",
    "# Bitwise OR and Assign\n",
    "a |= b\n",
    "print(f\"a |= b: {a}\")  # Output: 30\n",
    "\n",
    "# Reset a for next operation\n",
    "a = 10\n",
    "\n",
    "# Bitwise XOR and Assign\n",
    "a ^= b\n",
    "print(f\"a ^= b: {a}\")  # Output: 30\n",
    "\n",
    "# Reset a for next operation\n",
    "a = 10\n",
    "\n",
    "# Bitwise Left Shift and Assign\n",
    "a <<= 2\n",
    "print(f\"a <<= 2: {a}\")  # Output: 40\n",
    "\n",
    "# Reset a for next operation\n",
    "a = 10\n",
    "\n",
    "# Bitwise Right Shift and Assign\n",
    "a >>= 2\n",
    "print(f\"a >>= 2: {a}\")  # Output: 2"
   ]
  },
  {
   "cell_type": "code",
   "execution_count": 16,
   "id": "5bcede06-d159-4015-889e-ffb651ce5051",
   "metadata": {},
   "outputs": [
    {
     "name": "stdin",
     "output_type": "stream",
     "text": [
      "Enter an integer:  10\n"
     ]
    },
    {
     "name": "stdout",
     "output_type": "stream",
     "text": [
      "The bitwise negation of 10 is -11\n"
     ]
    }
   ],
   "source": [
    "# b. Write a Python program that takes an integer as input and returns its negation.\n",
    "\n",
    "# Take integer input from the user\n",
    "number = int(input(\"Enter an integer: \"))\n",
    "\n",
    "# Get the bitwise negation of the integer\n",
    "negated_number = ~number\n",
    "\n",
    "# Print the bitwise negated integer\n",
    "print(f\"The bitwise negation of {number} is {negated_number}\")"
   ]
  }
 ],
 "metadata": {
  "kernelspec": {
   "display_name": "Python 3 (ipykernel)",
   "language": "python",
   "name": "python3"
  },
  "language_info": {
   "codemirror_mode": {
    "name": "ipython",
    "version": 3
   },
   "file_extension": ".py",
   "mimetype": "text/x-python",
   "name": "python",
   "nbconvert_exporter": "python",
   "pygments_lexer": "ipython3",
   "version": "3.11.7"
  }
 },
 "nbformat": 4,
 "nbformat_minor": 5
}
