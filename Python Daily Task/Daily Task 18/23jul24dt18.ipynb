{
 "cells": [
  {
   "cell_type": "markdown",
   "id": "2f9fe636-09c1-4ea0-9df3-255afc343d7b",
   "metadata": {},
   "source": [
    "# Daily Task - July 23, 2024"
   ]
  },
  {
   "cell_type": "markdown",
   "id": "95529d48-49aa-4ebe-a082-e73f41580d94",
   "metadata": {},
   "source": [
    "### Ques. 1 : Create a class named 'Powers' with property 'number'. Include various methods like squares, cubes and exponents.\n",
    "    Example: \n",
    "    class powers :\n",
    "    property -- number\n",
    "        methods:\n",
    "            squares\n",
    "            cubes\n",
    "            exponent\n",
    "    \n",
    "    Expected Output : \n",
    "        p= Classname(5)\n",
    "        p.squares()----25\n",
    "        p.cubes()---- 125\n",
    "        p.exponent(7)----(5,7)= 78125\n",
    "        \n",
    "        k = 12\n",
    "        k.squares()   --- 144\n",
    "        k.cubes() --- 1728\n",
    "        k.exponent(9) --- (12 9)= 5159780352"
   ]
  },
  {
   "cell_type": "code",
   "execution_count": 43,
   "id": "85e7ee0f-b639-419e-a11c-33d64c244eca",
   "metadata": {},
   "outputs": [
    {
     "name": "stdout",
     "output_type": "stream",
     "text": [
      "25\n",
      "125\n",
      "78125\n",
      "144\n",
      "1728\n",
      "5159780352\n"
     ]
    }
   ],
   "source": [
    "class Powers:\n",
    "    def __init__(self, number):\n",
    "        self.number = number\n",
    "    \n",
    "    def squares(self):\n",
    "        return self.number ** 2\n",
    "    \n",
    "    def cubes(self):\n",
    "        return self.number ** 3\n",
    "    \n",
    "    def exponent(self, exp):\n",
    "        return self.number ** exp\n",
    "\n",
    "p = Powers(5)\n",
    "print(p.squares())\n",
    "print(p.cubes())\n",
    "print(p.exponent(7))\n",
    "\n",
    "k = Powers(12)\n",
    "print(k.squares())\n",
    "print(k.cubes())\n",
    "print(k.exponent(9))"
   ]
  },
  {
   "cell_type": "markdown",
   "id": "6156bfd0-dd4d-4e3b-966c-357bd1ffefda",
   "metadata": {},
   "source": [
    "### Ques. 2 : Write a Python program to create a ‘Vehicle’ class with static variables max_speed and mileage instance attributes. Print the attributes.\n",
    "    Example output:\n",
    "        max_speed = 240\n",
    "        mileage = 18"
   ]
  },
  {
   "cell_type": "code",
   "execution_count": 46,
   "id": "52c43328-8a05-43c9-97d2-09a51b8d2cbb",
   "metadata": {},
   "outputs": [
    {
     "name": "stdout",
     "output_type": "stream",
     "text": [
      "max_speed = 240\n",
      "mileage = 18\n"
     ]
    }
   ],
   "source": [
    "class Vehicle:\n",
    "    max_speed = 240\n",
    "    \n",
    "    def __init__(self, mileage):\n",
    "        self.mileage = mileage\n",
    "\n",
    "v = Vehicle(18)\n",
    "print(f\"max_speed = {Vehicle.max_speed}\")\n",
    "print(f\"mileage = {v.mileage}\")"
   ]
  },
  {
   "cell_type": "markdown",
   "id": "10100b31-7c4d-4fb6-9f1a-4b4118bc87e8",
   "metadata": {},
   "source": [
    "### Ques. 3 :\n",
    "    a. Create a Python class called 'Car' with attributes 'make' and 'model'. Instantiate an object of this class and print its attributes.\n",
    "    b. Expand the 'Car' class by adding a method called ‘display_info’ that prints the make and model of the car. Create an object and call this method."
   ]
  },
  {
   "cell_type": "code",
   "execution_count": 75,
   "id": "430aff30-613a-442e-acc1-9709f9736c2d",
   "metadata": {},
   "outputs": [
    {
     "name": "stdout",
     "output_type": "stream",
     "text": [
      "Make : Toyota\n",
      "Model : Corolla\n"
     ]
    }
   ],
   "source": [
    "# a. Create a Python class called 'Car' with attributes 'make' and 'model'.\n",
    "# Instantiate an object of this class and print its attributes.\n",
    "\n",
    "class Car:\n",
    "    def __init__(self, make, model):\n",
    "        self.make = make\n",
    "        self.model = model\n",
    "\n",
    "car = Car(\"Toyota\", \"Corolla\")\n",
    "print(f\"Make : {car.make}\")\n",
    "print(f\"Model : {car.model}\")"
   ]
  },
  {
   "cell_type": "code",
   "execution_count": 77,
   "id": "6de071f9-3021-4d48-a023-67214b4b487c",
   "metadata": {},
   "outputs": [
    {
     "name": "stdout",
     "output_type": "stream",
     "text": [
      "Make: Toyota\n",
      "Model: Corolla\n",
      "\n",
      "Make: Honda\n",
      "Model: Civic\n"
     ]
    }
   ],
   "source": [
    "# b. Expand the 'Car' class by adding a method called ‘display_info’ that prints the make and model of the car.\n",
    "# Create an object and call this method.\n",
    "\n",
    "class Car:\n",
    "    def __init__(self, make, model):\n",
    "        self.make = make\n",
    "        self.model = model\n",
    "    \n",
    "    def display_info(self):\n",
    "        print(f\"Make: {self.make}\")\n",
    "        print(f\"Model: {self.model}\")\n",
    "\n",
    "car1 = Car(\"Toyota\", \"Corolla\")\n",
    "car2 = Car(\"Honda\", \"Civic\")\n",
    "\n",
    "car1.display_info()\n",
    "print()\n",
    "car2.display_info()"
   ]
  },
  {
   "cell_type": "markdown",
   "id": "55029f31-02ae-4496-88ba-67b0bbfd8610",
   "metadata": {},
   "source": [
    "### Ques. 4 :\n",
    "    a. Modify the ‘Car’ class to include a constructor (__init__) that initializes the make and model attributes. Instantiate an object using the constructor.\n",
    "    b. Add a method 'get_total_cars' to the 'Car' class that returns the total number of cars created. "
   ]
  },
  {
   "cell_type": "code",
   "execution_count": 80,
   "id": "b22aa890-4c52-49f6-9f4e-91eb2ce2639a",
   "metadata": {},
   "outputs": [
    {
     "name": "stdout",
     "output_type": "stream",
     "text": [
      "Make: Toyota\n",
      "Model: Corolla\n"
     ]
    }
   ],
   "source": [
    "# a. Modify the ‘Car’ class to include a constructor (__init__) that initializes the make and model attributes.\n",
    "# Instantiate an object using the constructor.\n",
    "\n",
    "class Car:\n",
    "    def __init__(self, make, model):\n",
    "        self.make = make\n",
    "        self.model = model\n",
    "\n",
    "car = Car(\"Toyota\", \"Corolla\")\n",
    "print(f\"Make: {car.make}\")\n",
    "print(f\"Model: {car.model}\")"
   ]
  },
  {
   "cell_type": "code",
   "execution_count": 95,
   "id": "09f8d8c3-3ecd-49ab-895a-92ae34b86cb8",
   "metadata": {},
   "outputs": [
    {
     "name": "stdout",
     "output_type": "stream",
     "text": [
      "Make: Toyota\n",
      "Model: Corolla\n",
      "Make: Honda\n",
      "Model: Civic\n",
      "Total cars created: 2\n"
     ]
    }
   ],
   "source": [
    "# b. Add a method 'get_total_cars' to the 'Car' class that returns the total number of cars created.\n",
    "\n",
    "class Car:\n",
    "    total_cars = 0\n",
    "    \n",
    "    def __init__(self, make, model):\n",
    "        self.make = make\n",
    "        self.model = model\n",
    "        Car.total_cars += 1\n",
    "    \n",
    "    def display_info(self):\n",
    "        print(f\"Make: {self.make}\")\n",
    "        print(f\"Model: {self.model}\")\n",
    "    \n",
    "    @classmethod\n",
    "    def get_total_cars(cls):\n",
    "        return cls.total_cars\n",
    "\n",
    "car1 = Car(\"Toyota\", \"Corolla\")\n",
    "car2 = Car(\"Honda\", \"Civic\")\n",
    "car1.display_info()\n",
    "car2.display_info()\n",
    "print(f\"Total cars created: {Car.get_total_cars()}\")"
   ]
  },
  {
   "cell_type": "code",
   "execution_count": 84,
   "id": "f4a3236b-a488-4c24-85a5-00b8c394c435",
   "metadata": {},
   "outputs": [
    {
     "data": {
      "text/plain": [
       "2"
      ]
     },
     "execution_count": 84,
     "metadata": {},
     "output_type": "execute_result"
    }
   ],
   "source": [
    "Car.total_cars"
   ]
  },
  {
   "cell_type": "code",
   "execution_count": 92,
   "id": "7a4b8983-da8f-4dee-ba49-0c3657975bb9",
   "metadata": {},
   "outputs": [
    {
     "data": {
      "text/plain": [
       "2"
      ]
     },
     "execution_count": 92,
     "metadata": {},
     "output_type": "execute_result"
    }
   ],
   "source": [
    "car2.total_cars"
   ]
  }
 ],
 "metadata": {
  "kernelspec": {
   "display_name": "Python 3 (ipykernel)",
   "language": "python",
   "name": "python3"
  },
  "language_info": {
   "codemirror_mode": {
    "name": "ipython",
    "version": 3
   },
   "file_extension": ".py",
   "mimetype": "text/x-python",
   "name": "python",
   "nbconvert_exporter": "python",
   "pygments_lexer": "ipython3",
   "version": "3.11.7"
  }
 },
 "nbformat": 4,
 "nbformat_minor": 5
}
