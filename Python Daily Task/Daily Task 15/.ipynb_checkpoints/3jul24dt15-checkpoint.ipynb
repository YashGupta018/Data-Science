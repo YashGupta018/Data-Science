{
 "cells": [
  {
   "cell_type": "markdown",
   "id": "dfe2bdd6-2c9c-4c2d-bbb8-9c4ade9f95eb",
   "metadata": {},
   "source": [
    "# Daily Task - July 3, 2024"
   ]
  },
  {
   "cell_type": "markdown",
   "id": "f0bda053-19c6-4c9a-b2b1-31279df02d64",
   "metadata": {},
   "source": [
    "### Ques. 1 : Maximum value of a string in an array:\n",
    "    The numeric representation of the string in base 10, if it comprises of digits only.\n",
    "    The length of the string, otherwise.\n",
    "    Given an array strs of alphanumeric strings, return the maximum value of any string in strs.\n",
    "        Example: Input: strs = [\"alic3\",\"bob\",\"3\",\"4\",\"00000\"]\n",
    "    \n",
    "    Output: 5\n",
    "    \n",
    "    Explanation: \n",
    "        - \"alic3\" consists of both letters and digits, so its value is its length, i.e. 5.\n",
    "        - \"bob\" consists only of letters, so its value is also its length, i.e. 3.\n",
    "        - \"3\" consists only of digits, so its value is its numeric equivalent, i.e. 3.\n",
    "        - \"4\" also consists only of digits, so its value is 4.\n",
    "        - \"00000\" consists only of digits, so its value is 0.\n",
    "    Hence, the maximum value is 5, of \"alic3\"."
   ]
  },
  {
   "cell_type": "code",
   "execution_count": 44,
   "id": "a1c9928a-d0e9-4d3a-9aca-6e24f22a6d85",
   "metadata": {},
   "outputs": [
    {
     "name": "stdout",
     "output_type": "stream",
     "text": [
      "Maximum value of any string in strs : 5\n"
     ]
    }
   ],
   "source": [
    "strs = [\"alic3\", \"bob\", \"3\", \"4\", \"00000\"]\n",
    "\n",
    "max_val = 0\n",
    "\n",
    "for s in strs:\n",
    "    if s.isdigit():\n",
    "        val = int(s)\n",
    "    else:\n",
    "        val = len(s)\n",
    "    \n",
    "    if val > max_val:\n",
    "        max_val = val\n",
    "\n",
    "print(\"Maximum value of any string in strs :\", max_val)"
   ]
  },
  {
   "cell_type": "markdown",
   "id": "d094b60d-3304-4590-a3fd-06b79a1e3754",
   "metadata": {},
   "source": [
    "### Ques. 2 : Replace all digits with characters.\n",
    "    Example 1:\n",
    "        Input: s = \"a1c1e1\"\n",
    "        Output: \"abcdef\"\n",
    "    \n",
    "    Explanation: The digits are replaced as follows:\n",
    "        - s[1] -> shift('a',1) = 'b'\n",
    "        - s[3] -> shift('c',1) = 'd'\n",
    "        - s[5] -> shift('e',1) = 'f'\n",
    "\n",
    "    Example 2:\n",
    "        Input: s = \"a1b2c3d4e\"\n",
    "        Output: \"abbdcfdhe\"\n",
    "    \n",
    "    Explanation: The digits are replaced as follows:\n",
    "        - s[1] -> shift('a',1) = 'b'\n",
    "        - s[3] -> shift('b',2) = 'd'\n",
    "        - s[5] -> shift('c',3) = 'f'\n",
    "        - s[7] -> shift('d',4) = 'h'"
   ]
  },
  {
   "cell_type": "code",
   "execution_count": 54,
   "id": "39548abe-4505-4274-b291-a2e17decda79",
   "metadata": {},
   "outputs": [
    {
     "name": "stdout",
     "output_type": "stream",
     "text": [
      "Example 1 Output: abcbeb\n",
      "Example 2 Output: abbccddee\n"
     ]
    }
   ],
   "source": [
    "# Example 1\n",
    "s1 = \"a1c1e1\"\n",
    "output1 = []\n",
    "shift = 1 \n",
    "\n",
    "for i, char in enumerate(s1):\n",
    "    if char.isdigit():\n",
    "        new_char = chr(ord(char) - ord('0') + shift + ord('a') - 1)\n",
    "        output1.append(new_char)\n",
    "    else:\n",
    "        output1.append(char)\n",
    "\n",
    "result1 = \"\".join(output1)\n",
    "print(\"Example 1 Output:\", result1)  # Output: \"abcdef\"\n",
    "\n",
    "# Example 2\n",
    "s2 = \"a1b2c3d4e\"\n",
    "output2 = []\n",
    "shift = 1\n",
    "\n",
    "for i, char in enumerate(s2):\n",
    "    if char.isdigit():\n",
    "        new_char = chr(ord(char) - ord('0') + shift + ord('a') - 1)\n",
    "        output2.append(new_char)\n",
    "    else:\n",
    "        output2.append(char)\n",
    "\n",
    "result2 = \"\".join(output2)\n",
    "print(\"Example 2 Output:\", result2)"
   ]
  }
 ],
 "metadata": {
  "kernelspec": {
   "display_name": "Python 3 (ipykernel)",
   "language": "python",
   "name": "python3"
  },
  "language_info": {
   "codemirror_mode": {
    "name": "ipython",
    "version": 3
   },
   "file_extension": ".py",
   "mimetype": "text/x-python",
   "name": "python",
   "nbconvert_exporter": "python",
   "pygments_lexer": "ipython3",
   "version": "3.11.7"
  }
 },
 "nbformat": 4,
 "nbformat_minor": 5
}
