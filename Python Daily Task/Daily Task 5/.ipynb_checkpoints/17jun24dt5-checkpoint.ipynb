{
 "cells": [
  {
   "cell_type": "markdown",
   "id": "91a7fd5f-180a-4958-9db3-decfe025ca23",
   "metadata": {},
   "source": [
    "# Daily Task - June 17, 2024"
   ]
  },
  {
   "cell_type": "markdown",
   "id": "11112834-3580-4a96-b6a8-5b2a76997f05",
   "metadata": {},
   "source": [
    "## Ques. 1 : \n",
    "    a. Create a variable to store the string \"Earth revolves around the sun\"\n",
    "        - Print \"revolves\" using slice operator\n",
    "        - Print \"sun\" using negative index\n",
    "    b. Write a program to create a new string made of an input string’s first, middle, and last character.\n",
    "        Example input: Holiday\n",
    "        Example output: Hiy\n",
    "        And Create a string made of the middle two characters.\n",
    "        Example input: Innomatics\n",
    "        Example output: ma"
   ]
  },
  {
   "cell_type": "code",
   "execution_count": 35,
   "id": "03a95f11-53e6-4a69-9ede-ffa56e4215dd",
   "metadata": {},
   "outputs": [
    {
     "name": "stdout",
     "output_type": "stream",
     "text": [
      "revolves\n",
      "sun\n"
     ]
    }
   ],
   "source": [
    "# a. Create a variable to store the string \"Earth revolves around the sun\"\n",
    "     # - Print \"revolves\" using slice operator\n",
    "     # - Print \"sun\" using negative index\n",
    "\n",
    "str = \"Earth revolves around the sun\"\n",
    "print(str[6:14])\n",
    "print(str[-3:])"
   ]
  },
  {
   "cell_type": "code",
   "execution_count": 78,
   "id": "08a0766d-7fc3-44b7-8dce-eca9a886c1f7",
   "metadata": {},
   "outputs": [
    {
     "name": "stdout",
     "output_type": "stream",
     "text": [
      "Total character count : 6\n",
      "Center number is : 3\n",
      "Original input string : Holiday\n",
      "Final output : Hiy\n",
      "Total character count : 9\n",
      "Center number is : 4 & 5\n",
      "Original input string : Innomatics\n",
      "Final output : ma\n"
     ]
    }
   ],
   "source": [
    "# b. Write a program to create a new string made of an input string’s first, middle, and last character.\n",
    "    # Example input: Holiday\n",
    "    # Example output: Hiy\n",
    "    # And Create a string made of the middle two characters.\n",
    "    # Example input: Innomatics\n",
    "    # Example output: ma\n",
    "\n",
    "str = \"Holiday\"\n",
    "strCount = len(str) - 1\n",
    "print(\"Total character count :\",strCount)\n",
    "\n",
    "centerChar = strCount // 2\n",
    "print(\"Center number is :\",centerChar)\n",
    "\n",
    "start = 0\n",
    "end = strCount\n",
    "print(\"Original input string :\", str)\n",
    "print(\"Final output :\",str[start]+str[centerChar]+str[end])\n",
    "\n",
    "str = \"Innomatics\"\n",
    "strCount = len(str) - 1\n",
    "print(\"Total character count :\",strCount)\n",
    "\n",
    "centerChar1 = strCount // 2\n",
    "centerChar2 = centerChar1 + 1\n",
    "print(\"Center number is :\",centerChar1, \"&\", centerChar2)\n",
    "\n",
    "start = 0\n",
    "end = strCount\n",
    "print(\"Original input string :\", str)\n",
    "print(\"Final output :\",str[centerChar1]+str[centerChar2])"
   ]
  },
  {
   "cell_type": "markdown",
   "id": "5aec4409-0564-4ecd-8621-30dee5a02319",
   "metadata": {},
   "source": [
    "### Ques. 2 :\n",
    "    a. Write a program that takes a sentence ='Give papa a cup of proper coffee in a copper coffee cup' as input and replaces all occurrences of the word \"coffee\" with \"tea\".\n",
    "    b. Check if the above sentence starts with \"Hello\" and ends with \"cup\".\n",
    "    c. Return the above sentence in title case and capital case."
   ]
  },
  {
   "cell_type": "code",
   "execution_count": 80,
   "id": "0da4d4ec-040c-4caa-9a83-5f39fa8a7677",
   "metadata": {},
   "outputs": [
    {
     "name": "stdout",
     "output_type": "stream",
     "text": [
      "Original sentence : Give papa a cup of proper coffee in a copper coffee cup\n",
      "New sentence      : Give papa a cup of proper tea in a copper tea cup\n"
     ]
    }
   ],
   "source": [
    "# a. Write a program that takes a sentence ='Give papa a cup of proper coffee in a copper coffee cup'\n",
    "# as input and replaces all occurrences of the word \"coffee\" with \"tea\".\n",
    "\n",
    "sentence1 = \"Give papa a cup of proper coffee in a copper coffee cup\"\n",
    "sentence2 = sentence1.replace(\"coffee\", \"tea\")\n",
    "print(\"Original sentence :\", sentence1)\n",
    "print(\"New sentence      :\", sentence2)"
   ]
  },
  {
   "cell_type": "code",
   "execution_count": 82,
   "id": "28c99d59-abb3-458f-a1f0-96ff006bc567",
   "metadata": {},
   "outputs": [
    {
     "name": "stdout",
     "output_type": "stream",
     "text": [
      "False\n",
      "True\n"
     ]
    }
   ],
   "source": [
    "# b. Check if the above sentence starts with \"Hello\" and ends with \"cup\".\n",
    "\n",
    "sentence1 = \"Give papa a cup of proper coffee in a copper coffee cup\"\n",
    "\n",
    "print(sentence1.startswith(\"Hello\"))\n",
    "print(sentence1.endswith(\"cup\"))"
   ]
  },
  {
   "cell_type": "code",
   "execution_count": 84,
   "id": "1d058371-5c3f-4523-a8c7-aa30a5e62093",
   "metadata": {},
   "outputs": [
    {
     "name": "stdout",
     "output_type": "stream",
     "text": [
      "Give Papa A Cup Of Proper Coffee In A Copper Coffee Cup\n",
      "Give papa a cup of proper coffee in a copper coffee cup\n"
     ]
    }
   ],
   "source": [
    "# c. Return the above sentence in title case and capital case.\n",
    "\n",
    "sentence1 = \"Give papa a cup of proper coffee in a copper coffee cup\"\n",
    "titleCase = sentence1.title()\n",
    "capitalCase = titleCase.capitalize()\n",
    "\n",
    "print(titleCase)\n",
    "print(capitalCase)"
   ]
  },
  {
   "cell_type": "markdown",
   "id": "c8a86e0c-c9b9-4a00-9137-e7e4f921c720",
   "metadata": {},
   "source": [
    "### Ques. 3 :\n",
    "    a. Convert the above sentence into uppercase and count how many times the letter ‘P’ is repeated.\n",
    "    b. Now, convert the whole string into lowercase and find the index of letter ‘c’."
   ]
  },
  {
   "cell_type": "code",
   "execution_count": 89,
   "id": "686e0c0b-78d6-4be2-a922-7a3d72ae6765",
   "metadata": {},
   "outputs": [
    {
     "name": "stdout",
     "output_type": "stream",
     "text": [
      "8\n"
     ]
    }
   ],
   "source": [
    "# a. Convert the above sentence into uppercase and count how many times the letter ‘P’ is repeated.\n",
    "\n",
    "sentence1 = \"Give papa a cup of proper coffee in a copper coffee cup\"\n",
    "uppercase = sentence1.upper()\n",
    "\n",
    "print(uppercase.count(\"P\"))"
   ]
  },
  {
   "cell_type": "code",
   "execution_count": 93,
   "id": "0689d0c0-760e-40bf-bc27-21e4bd9ca9c8",
   "metadata": {},
   "outputs": [
    {
     "name": "stdout",
     "output_type": "stream",
     "text": [
      "12\n"
     ]
    }
   ],
   "source": [
    "# b. Now, convert the whole string into lowercase and find the index of letter ‘c’.\n",
    "\n",
    "sentence1 = \"Give papa a cup of proper coffee in a copper coffee cup\"\n",
    "lowercase = sentence1.lower()\n",
    "\n",
    "print(lowercase.find(\"c\"))"
   ]
  },
  {
   "cell_type": "markdown",
   "id": "c41fe87f-9d65-4ed4-b37b-e9d0733dd6bd",
   "metadata": {},
   "source": [
    "### Ques. 4 :\n",
    "    a. Explore join() and swapcase(). Write two examples each.\n",
    "    b. Explore five different string methods from documentation as explained in class. \n",
    "       Also, Prepare a cheat sheet for all strings methods."
   ]
  },
  {
   "cell_type": "code",
   "execution_count": 7,
   "id": "bb8f1d34-d094-4137-8e6e-1dacc4ccfe13",
   "metadata": {},
   "outputs": [
    {
     "name": "stdout",
     "output_type": "stream",
     "text": [
      "Hello, world! This is Python 101\n",
      "pYthOn pRogRAMmIng\n"
     ]
    }
   ],
   "source": [
    "# a. Explore join() and swapcase(). Write two examples each.\n",
    "\n",
    "a = [\"Hello,\", \"world!\", \"This\", \"is\", \"Python\", \"101\"]\n",
    "b = \" \".join(a) # It is used to concatenate the elements such as a list or tuple into a single string,\n",
    "print(b)        # with a specified separator between each element.\n",
    "\n",
    "originalStr = \"PyTHoN PrOGramMiNG\"\n",
    "swappedStr = originalStr.swapcase() # It is used to returns a new string with all uppercase letters\n",
    "print(swappedStr)                   # converted to lowercase and all lowercase letters converted to uppercase."
   ]
  },
  {
   "cell_type": "code",
   "execution_count": 33,
   "id": "3c66583b-3c6e-4f79-a508-1cbe56566e60",
   "metadata": {},
   "outputs": [
    {
     "name": "stdout",
     "output_type": "stream",
     "text": [
      "Is the above sentence follows title case : True\n",
      "['Hello,', 'world!', 'This', 'is', 'Python', '101']\n",
      "Is the above strings case is in upper case : True\n",
      "Is the above strings case is in lower case : True\n",
      "Is the above strings contains only alphanumeric characters or not : True\n",
      "Is the above strings contains only alphabetic characters or not : True\n",
      "Is the above strings contains only digits or not : True\n"
     ]
    }
   ],
   "source": [
    "# b. Explore five different string methods from documentation as explained in class.\n",
    "# Also, Prepare a cheat sheet for all strings methods.\n",
    "\n",
    "# .istitle()\n",
    "str = \"This Is A Title\"\n",
    "isTitled = str.istitle() # Checks if a string follows title case or not!\n",
    "print(\"Is the above sentence follows title case :\", isTitled)\n",
    "\n",
    "# .split()\n",
    "sentence = \"Hello, world! This is Python 101\"\n",
    "sentenceSplit = sentence.split()\n",
    "print(sentenceSplit)\n",
    "\n",
    "# .isupper()\n",
    "caseCheck = \"ALL CAPS\"\n",
    "isUpper = caseCheck.isupper()\n",
    "print(\"Is the above strings case is in upper case :\", isUpper)\n",
    "\n",
    "# .islower()\n",
    "caseCheck = \"all lowercase\"\n",
    "is_lower = caseCheck.islower()\n",
    "print(\"Is the above strings case is in lower case :\", is_lower)\n",
    "\n",
    "# .isalnum()\n",
    "str = \"alpha123\"\n",
    "isAlphanumeric = str.isalnum() # Checks if the string consists only alphanumeric characters or not!\n",
    "print(\"Is the above strings contains only alphanumeric characters or not :\", isAlphanumeric)\n",
    "\n",
    "# .isalpha()\n",
    "text = \"letters\"\n",
    "isAlphabetic = text.isalpha() # Checks if the string consists only alphabetic characters or not!\n",
    "print(\"Is the above strings contains only alphabetic characters or not :\", isAlphabetic)\n",
    "\n",
    "# .isdigit()\n",
    "text = \"12345\"\n",
    "is_digits = text.isdigit() # Checks if the string consists only digits or not!\n",
    "print(\"Is the above strings contains only digits or not :\", is_digits)"
   ]
  }
 ],
 "metadata": {
  "kernelspec": {
   "display_name": "Python 3 (ipykernel)",
   "language": "python",
   "name": "python3"
  },
  "language_info": {
   "codemirror_mode": {
    "name": "ipython",
    "version": 3
   },
   "file_extension": ".py",
   "mimetype": "text/x-python",
   "name": "python",
   "nbconvert_exporter": "python",
   "pygments_lexer": "ipython3",
   "version": "3.11.7"
  }
 },
 "nbformat": 4,
 "nbformat_minor": 5
}
