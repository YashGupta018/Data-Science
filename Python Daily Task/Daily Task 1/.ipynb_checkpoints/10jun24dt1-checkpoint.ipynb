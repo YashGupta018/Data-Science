{
 "cells": [
  {
   "cell_type": "markdown",
   "id": "1e66800e-2dad-4b69-af9b-da948633323e",
   "metadata": {},
   "source": [
    "# Daily Task - June 10, 2024"
   ]
  },
  {
   "cell_type": "markdown",
   "id": "b54a76b2-2a46-4675-9a78-038ae916f0f5",
   "metadata": {},
   "source": [
    "### Ques. 1 : Create different variables to store your name, your age, your parents name.\n",
    "    a. Print your name.\n",
    "    b. Create more variables needed for a Biodata. \n",
    "    c. Now print your whole Bio data using above variables."
   ]
  },
  {
   "cell_type": "code",
   "execution_count": 2,
   "id": "5c38bb70-b969-49cc-a586-cac91b55c6b5",
   "metadata": {},
   "outputs": [
    {
     "name": "stdout",
     "output_type": "stream",
     "text": [
      "My name is Yash Gupta\n"
     ]
    }
   ],
   "source": [
    "# a. Print your name\n",
    "\n",
    "name = \"Yash Gupta\"\n",
    "age = 23\n",
    "fatherName = \"Harish Gupta\"\n",
    "motherName = \"Swati Gupta\"\n",
    "\n",
    "print(\"My name is\", name)"
   ]
  },
  {
   "cell_type": "code",
   "execution_count": 3,
   "id": "a9c8c9ec-ba96-4ad8-a2c8-b9eac3ada2cd",
   "metadata": {},
   "outputs": [],
   "source": [
    "#b. Create more variables needed for a Biodata. \n",
    "\n",
    "name = \"Yash Gupta\"\n",
    "age = 23\n",
    "fatherName = \"Harish Gupta\"\n",
    "motherName = \"Swati Gupta\"\n",
    "location = \"Hyderabad, India\"\n",
    "linkedinProfile = \"https://www.linkedin.com/in/yash-harish-gupta-71b011189/\""
   ]
  },
  {
   "cell_type": "code",
   "execution_count": 4,
   "id": "8bf4ce62-fe56-449a-b061-753c58705a01",
   "metadata": {},
   "outputs": [
    {
     "name": "stdout",
     "output_type": "stream",
     "text": [
      "My BioData\n",
      "\n",
      "My name is Yash Gupta and I'm 23 years old\n",
      "My father's name is Harish Gupta\n",
      "My mother's name is Swati Gupta\n",
      "Currently I'm staying in Hyderabad, India\n",
      "And here is my LinkedIN Profile https://www.linkedin.com/in/yash-harish-gupta-71b011189/\n"
     ]
    }
   ],
   "source": [
    "#c. Now print your whole Bio data using above variables.\n",
    "\n",
    "print(\"My BioData\")\n",
    "print(\"\")\n",
    "print(\"My name is\", name, \"and I'm\", age, \"years old\")\n",
    "print(\"My father's name is\", fatherName)\n",
    "print(\"My mother's name is\", motherName)\n",
    "print(\"Currently I'm staying in\", location)\n",
    "print(\"And here is my LinkedIN Profile\", linkedinProfile)"
   ]
  },
  {
   "cell_type": "markdown",
   "id": "4ca5fc0b-ffaa-4550-b30e-e1274299ba41",
   "metadata": {},
   "source": [
    "### Ques. 2 : Create two variables. One to store your First name and another one to store your surname. Now, Print your name such that the surname prints first.\n"
   ]
  },
  {
   "cell_type": "code",
   "execution_count": 5,
   "id": "49dac5a4-b7ee-4f95-a4ad-727174d2bcf6",
   "metadata": {},
   "outputs": [
    {
     "name": "stdout",
     "output_type": "stream",
     "text": [
      "Gupta Yash\n"
     ]
    }
   ],
   "source": [
    "firstName = \"Yash\"\n",
    "secondName = \"Gupta\"\n",
    "\n",
    "print(secondName, firstName)"
   ]
  },
  {
   "cell_type": "markdown",
   "id": "4fc0074f-9199-43bc-b027-7db3abe378fc",
   "metadata": {},
   "source": [
    "### Ques. 3 :\n",
    "    a. Write rules on how to create a Variable in markdown cell using text formatting.\n",
    "    b. Print type of the below variables:\n",
    "        1. a = 4.5\n",
    "        2. b = “Innomatics” \n",
    "        3. c = 100\n",
    "        4. d = True\n",
    "\n"
   ]
  },
  {
   "cell_type": "markdown",
   "id": "1e129505-3a85-488b-92fb-238c7f63df62",
   "metadata": {},
   "source": [
    "#### Rules for Creating a Variable in Python\n",
    "\n",
    "Creating a variable in Python is straightforward, but there are some important rules and best practices to follow. Below are the guidelines presented in a structured format:\n",
    "\n",
    "##### Variable Naming Rules\n",
    "\n",
    "1. **Start with a Letter or Underscore:**\n",
    "   \n",
    "   * Variable names must begin with a letter (a-z, A-Z) or an underscore (\\_).\n",
    "   ```python\n",
    "   \n",
    "   valid_variable = 10\n",
    "   _valid_variable = 20\n",
    "\n",
    "\n",
    "\n",
    "2. **Use Letters, Numbers, and Underscores:**\n",
    "\n",
    "   * After the first character, variable names can contain letters, numbers (0-9), and underscores (_).\n",
    "   ```python\n",
    "\n",
    "   variable1 = 30\n",
    "   variable_2 = 40\n",
    "\n",
    "\n",
    "\n",
    "3. **Case Sensitivity:**\n",
    "\n",
    "   * Variable names are case-sensitive, meaning variable and Variable are different variables.\n",
    "   ```python\n",
    "   \n",
    "   variable = 50\n",
    "   Variable = 60\n",
    "\n",
    "\n",
    "\n",
    "4. **Avoid Reserved Keywords:**\n",
    "\n",
    "   * Do not use Python reserved keywords (like for, while, class, etc.) as variable names.\n",
    "   ```python\n",
    "\n",
    "   # Incorrect\n",
    "   for = 70\n",
    "   # Correct\n",
    "   for_value = 70\n",
    "\n",
    "\n",
    "\n",
    "##### Best Practices for Variable Naming\n",
    "\n",
    "1. **Descriptive Names:**\n",
    "\n",
    "   * Use descriptive names that convey the meaning or purpose of the variable.\n",
    "   ```python\n",
    "\n",
    "   total_price = 100.50\n",
    "   user_age = 25\n",
    "\n",
    "\n",
    "\n",
    "2. **Use Lowercase with Underscores for Multi-word Variables:**\n",
    "\n",
    "   * For readability, use lowercase letters with underscores to separate words in multi-word variable names.\n",
    "   ```python\n",
    "\n",
    "   user_first_name = \"John\"\n",
    "   account_balance = 1500.75\n",
    "\n",
    "\n",
    "\n",
    "3. **Consistent Naming Conventions:**\n",
    "\n",
    "   * Stick to a consistent naming convention throughout your codebase.\n",
    "   ```python\n",
    "\n",
    "   # Consistent use of lowercase and underscores\n",
    "   user_id = 101\n",
    "   product_id = 202\n",
    "\n",
    "\n",
    "\n",
    "4. **Avoid Single-character Variable Names:**\n",
    "\n",
    "   * Avoid using single-character variable names, except for common cases like loop counters (i, j) or in mathematical contexts.\n",
    "   ```python\n",
    "\n",
    "   # Less clear\n",
    "   a = 5\n",
    "   b = 10\n",
    "\n",
    "   # More clear\n",
    "   width = 5\n",
    "   height = 10\n",
    "\n",
    "\n",
    "\n",
    "##### Assigning Values to Variables\n",
    "\n",
    "1. **Direct Assignment:**\n",
    "\n",
    "   * Use the assignment operator (=) to assign a value to a variable.\n",
    "   ```python\n",
    "\n",
    "   x = 5\n",
    "   y = \"Hello\"\n",
    "\n",
    "\n",
    "\n",
    "2. **Multiple Assignments:**\n",
    "\n",
    "   * You can assign the same value to multiple variables in one line.\n",
    "   ```python\n",
    "\n",
    "   a = b = c = 10\n",
    "\n",
    "\n",
    "\n",
    "3. **Tuple Unpacking:**\n",
    "\n",
    "   * Assign values to multiple variables using tuple unpacking.\n",
    "   ```python\n",
    "\n",
    "   x, y, z = 1, 2, 3\n",
    "\n",
    "\n",
    "\n",
    "##### Variable Types\n",
    "\n",
    "1. **Dynamic Typing:**\n",
    "\n",
    "   * Python is dynamically typed, so you don’t need to declare the variable type. It’s inferred from the value assigned.\n",
    "   ```python\n",
    "\n",
    "   x = 10       # Integer\n",
    "   y = 3.14     # Float\n",
    "   z = \"Python\" # String\n",
    "\n",
    "\n",
    "\n",
    "2. **Changing Types:**\n",
    "\n",
    "   * Variable types can change based on the value assigned.\n",
    "   ```python\n",
    "\n",
    "   x = 5       # Integer\n",
    "   x = \"five\"  # Now a String\n",
    "\n",
    "\n",
    "\n",
    "**By following these rules and best practices, you can write clear, readable, and maintainable Python code.**"
   ]
  },
  {
   "cell_type": "code",
   "execution_count": 6,
   "id": "1cd7455b-25e2-4800-bd0f-9b5dfb75e3ae",
   "metadata": {},
   "outputs": [
    {
     "name": "stdout",
     "output_type": "stream",
     "text": [
      "Type of variables:\n",
      "\n",
      "A is a  <class 'float'> type of variable\n",
      "B is a  <class 'str'> type of variable\n",
      "C is a  <class 'int'> type of variable\n",
      "D is a  <class 'bool'> type of variable\n"
     ]
    }
   ],
   "source": [
    "print(\"Type of variables:\")\n",
    "print(\"\")\n",
    "\n",
    "a = 4.5\n",
    "b = \"Innomatics\"\n",
    "c = 100\n",
    "d = True\n",
    "\n",
    "print(\"A is a \", type(a), \"type of variable\")\n",
    "print(\"B is a \", type(b), \"type of variable\")\n",
    "print(\"C is a \", type(c), \"type of variable\")\n",
    "print(\"D is a \", type(d), \"type of variable\")"
   ]
  }
 ],
 "metadata": {
  "kernelspec": {
   "display_name": "Python 3 (ipykernel)",
   "language": "python",
   "name": "python3"
  },
  "language_info": {
   "codemirror_mode": {
    "name": "ipython",
    "version": 3
   },
   "file_extension": ".py",
   "mimetype": "text/x-python",
   "name": "python",
   "nbconvert_exporter": "python",
   "pygments_lexer": "ipython3",
   "version": "3.11.7"
  }
 },
 "nbformat": 4,
 "nbformat_minor": 5
}
