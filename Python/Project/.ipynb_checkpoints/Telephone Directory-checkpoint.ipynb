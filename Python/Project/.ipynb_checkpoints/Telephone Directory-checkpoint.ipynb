{
 "cells": [
  {
   "cell_type": "markdown",
   "id": "f9b51f81-c288-4ae1-80b3-8a87ab4a7a0c",
   "metadata": {},
   "source": [
    "## Telephone Directory"
   ]
  },
  {
   "cell_type": "code",
   "execution_count": 1,
   "id": "0212b425-8e9f-476b-a0cc-a916efb95aa3",
   "metadata": {},
   "outputs": [
    {
     "name": "stdout",
     "output_type": "stream",
     "text": [
      "1. Display Phone Numbers\n",
      "2. Add a Phone Number\n",
      "3. Search contact\n",
      "4. Quit\n"
     ]
    },
    {
     "name": "stdin",
     "output_type": "stream",
     "text": [
      "Type in a number (1-4):  1\n"
     ]
    },
    {
     "name": "stdout",
     "output_type": "stream",
     "text": [
      "No contacts available.\n",
      "1. Display Phone Numbers\n",
      "2. Add a Phone Number\n",
      "3. Search contact\n",
      "4. Quit\n"
     ]
    },
    {
     "name": "stdin",
     "output_type": "stream",
     "text": [
      "Type in a number (1-4):  2\n",
      "Enter Name:  Ram\n",
      "Enter Phone Number:  7848571200\n"
     ]
    },
    {
     "name": "stdout",
     "output_type": "stream",
     "text": [
      "Contact added successfully.\n",
      "1. Display Phone Numbers\n",
      "2. Add a Phone Number\n",
      "3. Search contact\n",
      "4. Quit\n"
     ]
    },
    {
     "name": "stdin",
     "output_type": "stream",
     "text": [
      "Type in a number (1-4):  1\n"
     ]
    },
    {
     "name": "stdout",
     "output_type": "stream",
     "text": [
      "******** Telephone Numbers: ********\n",
      "Name: Ram Number: 7848571200\n",
      "1. Display Phone Numbers\n",
      "2. Add a Phone Number\n",
      "3. Search contact\n",
      "4. Quit\n"
     ]
    },
    {
     "name": "stdin",
     "output_type": "stream",
     "text": [
      "Type in a number (1-4):  3\n",
      "Enter name you are searching for:  Ram\n"
     ]
    },
    {
     "name": "stdout",
     "output_type": "stream",
     "text": [
      "7848571200\n",
      "1. Display Phone Numbers\n",
      "2. Add a Phone Number\n",
      "3. Search contact\n",
      "4. Quit\n"
     ]
    },
    {
     "name": "stdin",
     "output_type": "stream",
     "text": [
      "Type in a number (1-4):  2542\n"
     ]
    },
    {
     "name": "stdout",
     "output_type": "stream",
     "text": [
      "Invalid choice. Please enter a number between 1 and 4.\n",
      "1. Display Phone Numbers\n",
      "2. Add a Phone Number\n",
      "3. Search contact\n",
      "4. Quit\n"
     ]
    },
    {
     "name": "stdin",
     "output_type": "stream",
     "text": [
      "Type in a number (1-4):  4\n"
     ]
    },
    {
     "name": "stdout",
     "output_type": "stream",
     "text": [
      "Exiting the program. Goodbye!\n"
     ]
    }
   ],
   "source": [
    "def display_phnums(phone_book):\n",
    "    if not phone_book:\n",
    "        print(\"No contacts available.\")\n",
    "    else:\n",
    "        print(\"******** Telephone Numbers: ********\")\n",
    "        for name, number in phone_book.items():\n",
    "            print(f\"Name: {name} Number: {number}\")\n",
    "\n",
    "def add_phnums(phone_book):\n",
    "    name = input(\"Enter Name: \")\n",
    "    number = input(\"Enter Phone Number: \")\n",
    "    phone_book[name] = number\n",
    "    print(\"Contact added successfully.\")\n",
    "\n",
    "def search_phnums(phone_book):\n",
    "    name = input(\"Enter name you are searching for: \")\n",
    "    if name in phone_book:\n",
    "        print(phone_book[name])\n",
    "    else:\n",
    "        print(\"Contact not found.\")\n",
    "        add_new = input(\"Would you like to add this contact? (yes/no): \")\n",
    "        if add_new.lower() == 'yes':\n",
    "            number = input(\"Enter Phone Number: \")\n",
    "            phone_book[name] = number\n",
    "            print(\"Contact added successfully.\")\n",
    "\n",
    "def main():\n",
    "    phone_book = {}\n",
    "    while True:\n",
    "        print(\"1. Display Phone Numbers\")\n",
    "        print(\"2. Add a Phone Number\")\n",
    "        print(\"3. Search contact\")\n",
    "        print(\"4. Quit\")\n",
    "        choice = input(\"Type in a number (1-4): \")\n",
    "\n",
    "        if choice == '1':\n",
    "            display_phnums(phone_book)\n",
    "        elif choice == '2':\n",
    "            add_phnums(phone_book)\n",
    "        elif choice == '3':\n",
    "            search_phnums(phone_book)\n",
    "        elif choice == '4':\n",
    "            print(\"Exiting the program. Goodbye!\")\n",
    "            break\n",
    "        else:\n",
    "            print(\"Invalid choice. Please enter a number between 1 and 4.\")\n",
    "\n",
    "if __name__ == \"__main__\":\n",
    "    main()"
   ]
  }
 ],
 "metadata": {
  "kernelspec": {
   "display_name": "Python 3 (ipykernel)",
   "language": "python",
   "name": "python3"
  },
  "language_info": {
   "codemirror_mode": {
    "name": "ipython",
    "version": 3
   },
   "file_extension": ".py",
   "mimetype": "text/x-python",
   "name": "python",
   "nbconvert_exporter": "python",
   "pygments_lexer": "ipython3",
   "version": "3.11.7"
  }
 },
 "nbformat": 4,
 "nbformat_minor": 5
}
