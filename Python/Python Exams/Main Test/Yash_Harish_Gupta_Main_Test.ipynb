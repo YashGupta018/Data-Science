{
 "cells": [
  {
   "cell_type": "markdown",
   "id": "4621601f",
   "metadata": {},
   "source": [
    "### Q1. Take input from the user. Write a function that stutters that word as if someone is struggling to read it. The first two letters are repeated twice with an ellipsis ... and space after each, and then the word is pronounced with a question mark ?.\n",
    "\n",
    "**Examples:**\n",
    "\n",
    "stutter(\"incredible\") **➞ Output:**  \"in... in... incredible?\"\n",
    "\n",
    "stutter(\"enthusiastic\") **➞ Output:** \"en... en... enthusiastic?\"\n",
    "\n",
    "stutter(\"outstanding\") **➞ Output:** \"ou... ou... outstanding?\"\n",
    "\n",
    "**Hint :** Assume all input is in lower case and at least two characters long.\n"
   ]
  },
  {
   "cell_type": "code",
   "execution_count": 6,
   "id": "cc43434c",
   "metadata": {},
   "outputs": [
    {
     "name": "stdout",
     "output_type": "stream",
     "text": [
      "in... in... incredible?\n",
      "en... en... enthusiastic?\n",
      "ou... ou... outstanding?\n"
     ]
    }
   ],
   "source": [
    "#code here\n",
    "\n",
    "def stutter_func(my_input):\n",
    "    first_word = my_input[:2]\n",
    "    stutter = f\"{first_word}... {first_word}...\"\n",
    "    result = f\"{stutter} {my_input}?\"\n",
    "    return result\n",
    "\n",
    "print(stutter_func(\"incredible\"))\n",
    "print(stutter_func(\"enthusiastic\"))\n",
    "print(stutter_func(\"outstanding\"))"
   ]
  },
  {
   "cell_type": "code",
   "execution_count": 3,
   "id": "029c6fb0",
   "metadata": {},
   "outputs": [
    {
     "name": "stdout",
     "output_type": "stream",
     "text": [
      "in... in... incredible?\n",
      "en... en... enthusiastic?\n",
      "ou... ou... outstanding?\n"
     ]
    }
   ],
   "source": [
    "stutter(\"incredible\") \n",
    "stutter(\"enthusiastic\") \n",
    "stutter(\"outstanding\") \n",
    "\n",
    "#Expected Output:"
   ]
  },
  {
   "cell_type": "markdown",
   "id": "4114af0c",
   "metadata": {},
   "source": []
  },
  {
   "cell_type": "markdown",
   "id": "9b58af16",
   "metadata": {},
   "source": [
    "### Q2. Create a function that replaces all the vowels in a string with a specified character.   \n",
    "\n",
    "**Examples:**\n",
    "\n",
    "replace_vowels(\"the aardvark\", \"#\") **➞ Output:** `\"th# ##rdv#rk\"`\n",
    "\n",
    "replace_vowels(\"minnie mouse\", \"?\") **➞ Output:** `\"m?nn?? m??s?\"`\n",
    "\n",
    "replace_vowels(\"shakespeare\", \"*\") **➞ Output:** `\"sh*k*sp**r*\"`\n"
   ]
  },
  {
   "cell_type": "code",
   "execution_count": 24,
   "id": "f6befcfc",
   "metadata": {},
   "outputs": [
    {
     "name": "stdout",
     "output_type": "stream",
     "text": [
      "th# ##rdv#rk\n",
      "m?nn?? m??s?\n",
      "sh*k*sp**r*\n"
     ]
    }
   ],
   "source": [
    "#code here\n",
    "\n",
    "def replace_char_func(symbol, str):\n",
    "    vowels = 'aeiou'\n",
    "    result = []\n",
    "\n",
    "    for character in str:\n",
    "        if character in vowels:\n",
    "            result.append(symbol)\n",
    "        else:\n",
    "            result.append(character)\n",
    "\n",
    "    return ''.join(result)\n",
    "\n",
    "print(replace_char_func(\"#\", \"the aardvark\"))\n",
    "print(replace_char_func(\"?\", \"minnie mouse\"))\n",
    "print(replace_char_func(\"*\", \"shakespeare\"))"
   ]
  },
  {
   "cell_type": "code",
   "execution_count": 10,
   "id": "fb8b50d0",
   "metadata": {},
   "outputs": [
    {
     "name": "stdout",
     "output_type": "stream",
     "text": [
      "th# ##rdv#rk\n",
      "m?nn?? m??s?\n",
      "sh*k*sp**r*\n"
     ]
    }
   ],
   "source": [
    "replace_vowels(\"the aardvark\", \"#\") \n",
    "replace_vowels(\"minnie mouse\", \"?\") \n",
    "replace_vowels(\"shakespeare\", \"*\") \n",
    "\n",
    "#Expected Output:"
   ]
  },
  {
   "cell_type": "markdown",
   "id": "ffe82cb4",
   "metadata": {},
   "source": []
  },
  {
   "cell_type": "markdown",
   "id": "c6d93fa5",
   "metadata": {},
   "source": []
  },
  {
   "cell_type": "markdown",
   "id": "5da6a1ed",
   "metadata": {},
   "source": [
    "### Q3. Write a Python program to create a class representing a shopping cart. Include methods for adding and removing items, and calculating the total price. The expected output of the program is given below:\n"
   ]
  },
  {
   "cell_type": "code",
   "execution_count": 68,
   "id": "f62a97b8",
   "metadata": {},
   "outputs": [
    {
     "name": "stdout",
     "output_type": "stream",
     "text": [
      "Current Items in Cart:\n",
      "PAPAYA - 100\n",
      "GUAVA - 200\n",
      "ORANGE - 150\n",
      "Total Quantity: 450\n"
     ]
    },
    {
     "name": "stdout",
     "output_type": "stream",
     "text": [
      "\n",
      "Enter which item to remove:  orange\n"
     ]
    },
    {
     "name": "stdout",
     "output_type": "stream",
     "text": [
      "\n",
      "Updated Items in Cart after removing ORANGE:\n",
      "PAPAYA - 100\n",
      "GUAVA - 200\n",
      "Total Quantity: 300\n"
     ]
    }
   ],
   "source": [
    "#code here\n",
    "\n",
    "class ShoppingBag:\n",
    "    def __init__(self):\n",
    "        self.cart_items = {}\n",
    "        print(\"Current Items in Cart:\")\n",
    "\n",
    "    def add_item(self, name, price):\n",
    "        self.cart_items[name.upper()] = price\n",
    "\n",
    "    def remove_item(self, name):\n",
    "        upper_name = name.upper()\n",
    "        if upper_name in self.cart_items:\n",
    "            del self.cart_items[upper_name]\n",
    "        else:\n",
    "            print(f\"'{name}' is not present in the cart.\")\n",
    "\n",
    "    def calculate_total(self):\n",
    "        return sum(self.cart_items.values())\n",
    "\n",
    "    def show_cart(self):\n",
    "        if not self.cart_items:\n",
    "            print(\"The cart is empty.\")\n",
    "            return\n",
    "\n",
    "        for item, cost in self.cart_items.items():\n",
    "            print(f\"{item} - {cost}\")\n",
    "\n",
    "        print(f\"Total Quantity: {self.calculate_total()}\")\n",
    "\n",
    "if __name__ == \"__main__\":\n",
    "    bag = ShoppingBag()\n",
    "    \n",
    "    bag.add_item(\"Papaya\", 100)\n",
    "    bag.add_item(\"Guava\", 200)\n",
    "    bag.add_item(\"Orange\", 150)\n",
    "    \n",
    "    bag.show_cart()\n",
    "    \n",
    "    item_to_remove = input(\"\\nEnter which item to remove: \").strip()\n",
    "    bag.remove_item(item_to_remove)\n",
    "    \n",
    "    print(f\"\\nUpdated Items in Cart after removing {item_to_remove.upper()}:\")\n",
    "    bag.show_cart()"
   ]
  },
  {
   "cell_type": "code",
   "execution_count": 18,
   "id": "1b1c0f4f",
   "metadata": {},
   "outputs": [
    {
     "name": "stdout",
     "output_type": "stream",
     "text": [
      "Current Items in Cart:\n",
      "PAPAYA - 100\n",
      "GUAVA - 200\n",
      "ORANGE - 150\n",
      "Total Quantity: 450 \n",
      "\n",
      "Enter which item to remove: orange\n",
      "\n",
      "Updated Items in Cart after removing ORANGE:\n",
      "PAPAYA - 100\n",
      "GUAVA - 200\n",
      "Total Quantity: 300\n"
     ]
    }
   ],
   "source": [
    "#Expected Output:"
   ]
  },
  {
   "cell_type": "markdown",
   "id": "e10608f1",
   "metadata": {},
   "source": []
  },
  {
   "cell_type": "markdown",
   "id": "e9076888",
   "metadata": {},
   "source": [
    "### Q4. WAP to print the following pattern:"
   ]
  },
  {
   "cell_type": "code",
   "execution_count": 44,
   "id": "b6b4a2e9",
   "metadata": {},
   "outputs": [
    {
     "name": "stdout",
     "output_type": "stream",
     "text": [
      "Enter your number : 9\n"
     ]
    },
    {
     "name": "stdout",
     "output_type": "stream",
     "text": [
      "1\n",
      "3 3\n",
      "5 5 5\n",
      "7 7 7 7\n",
      "9 9 9 9 9\n"
     ]
    }
   ],
   "source": [
    "#code here\n",
    "\n",
    "num = int(input(\"Enter your number :\"))\n",
    "\n",
    "if (num > 0) and (num % 2) != 0:\n",
    "    current = 1\n",
    "    while current <= num:\n",
    "        row = (str(current) + ' ') * (current // 2 + 1)\n",
    "        print(row.strip())\n",
    "        current += 2\n",
    "else:\n",
    "    print(\"Please enter a positive odd number.\")"
   ]
  },
  {
   "cell_type": "code",
   "execution_count": 19,
   "id": "dba74a4f",
   "metadata": {},
   "outputs": [
    {
     "name": "stdout",
     "output_type": "stream",
     "text": [
      "Enter your number : 9\n",
      "1 \n",
      "3 3 \n",
      "5 5 5 \n",
      "7 7 7 7 \n",
      "9 9 9 9 9 \n"
     ]
    }
   ],
   "source": [
    "#Expected Output:"
   ]
  }
 ],
 "metadata": {
  "kernelspec": {
   "display_name": "Python 3 (ipykernel)",
   "language": "python",
   "name": "python3"
  },
  "language_info": {
   "codemirror_mode": {
    "name": "ipython",
    "version": 3
   },
   "file_extension": ".py",
   "mimetype": "text/x-python",
   "name": "python",
   "nbconvert_exporter": "python",
   "pygments_lexer": "ipython3",
   "version": "3.11.7"
  }
 },
 "nbformat": 4,
 "nbformat_minor": 5
}
