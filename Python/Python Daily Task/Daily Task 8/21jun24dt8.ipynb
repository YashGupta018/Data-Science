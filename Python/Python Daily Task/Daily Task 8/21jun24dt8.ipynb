{
 "cells": [
  {
   "cell_type": "markdown",
   "id": "5a1cda9d-edac-47e4-8303-d9f0d8acbf75",
   "metadata": {},
   "source": [
    "# Daily Task - June 21, 2024"
   ]
  },
  {
   "cell_type": "markdown",
   "id": "bdf4fcef-0fb9-4d42-8b7a-0196f4985776",
   "metadata": {},
   "source": [
    "### Ques. 1 :\n",
    "    a. Write a program to check whether the last digit of a number (entered by user) is divisible by 3 or not.\n",
    "    b. Create two dictionaries: dict1 and dict2 with the following key-value pairs:\n",
    "        - dict1: {'a': 1, 'b': 2}\n",
    "        - dict2: {'c': 3, 'd': 4}\n",
    "    Merge dict2 into dict1 to create a new dictionary named 'merged_dict'.\n",
    "    Calculate and print the length of 'merged_dict'."
   ]
  },
  {
   "cell_type": "code",
   "execution_count": 82,
   "id": "65291ee5-5c94-4eee-ac02-47f46cd22ca1",
   "metadata": {},
   "outputs": [
    {
     "name": "stdin",
     "output_type": "stream",
     "text": [
      "Enter a number : 433\n"
     ]
    },
    {
     "name": "stdout",
     "output_type": "stream",
     "text": [
      "3 which is the last number of 433 is divisible by 3\n"
     ]
    }
   ],
   "source": [
    "# a. Write a program to check whether the last digit of a number (entered by user) is divisible by 3 or not.\n",
    "\n",
    "number = int(input(\"Enter a number :\"))\n",
    "lastDigit = number % 10\n",
    "if lastDigit % 3 == 0:\n",
    "    print(f\"{lastDigit} which is the last number of {number} is divisible by 3\")\n",
    "else:\n",
    "    print(f\"{lastDigit} which is the last number of {number} is not divisible by 3\")"
   ]
  },
  {
   "cell_type": "code",
   "execution_count": 84,
   "id": "e1029821-0bb5-448b-b1ca-579952a3a634",
   "metadata": {},
   "outputs": [
    {
     "name": "stdout",
     "output_type": "stream",
     "text": [
      "Merged Dictionary : {'a': 1, 'b': 2, 'c': 3, 'd': 4}\n",
      "Length of Merged Dictionary : 4\n"
     ]
    }
   ],
   "source": [
    "# b. Create two dictionaries: dict1 and dict2 with the following key-value pairs:\n",
    "    # - dict1: {'a': 1, 'b': 2}\n",
    "    # - dict2: {'c': 3, 'd': 4}\n",
    "# Merge dict2 into dict1 to create a new dictionary named 'merged_dict'.\n",
    "# Calculate and print the length of 'merged_dict'.\n",
    "\n",
    "dict1 = {'a': 1, 'b': 2}\n",
    "dict2 = {'c': 3, 'd': 4}\n",
    "\n",
    "merged_dict = {**dict1, **dict2}\n",
    "print(\"Merged Dictionary :\", merged_dict)\n",
    "\n",
    "print(\"Length of Merged Dictionary :\", len(merged_dict))"
   ]
  },
  {
   "cell_type": "markdown",
   "id": "52728b22-dbef-4e02-af9f-50d9743f32bd",
   "metadata": {},
   "source": [
    "### Ques. 2 :\n",
    "    a. A company decided to give a bonus of 5% of their salary to employees if his/her years of service is more than 5 years. Ask the user for their salary and years of service and print the net amount of that person.\n",
    "    b. Create a nested dictionary named 'students' that stores information about students. Each student has a unique ID (integer) as the key, and the corresponding value is another dictionary containing 'name' (string) and 'grades' (list of integers) as shown in below example. Calculate and print the average grade for each student.\n",
    "        - Example: \n",
    "                    students = {\n",
    "                    1: {'name': 'Alice', 'grades': [85, 92, 78]},\n",
    "                    2: {'name': 'Bob', 'grades': [90, 88, 85]},\n",
    "                    3: {'name': 'Charlie', 'grades': [92, 94, 90]}}"
   ]
  },
  {
   "cell_type": "code",
   "execution_count": 86,
   "id": "5b59bf0d-445d-4436-9abe-6e15ce9e94f1",
   "metadata": {},
   "outputs": [
    {
     "name": "stdin",
     "output_type": "stream",
     "text": [
      "Enter your salary : 245000\n",
      "Enter your years of service : 8\n"
     ]
    },
    {
     "name": "stdout",
     "output_type": "stream",
     "text": [
      "Net amount after bonus : 257250.0\n"
     ]
    }
   ],
   "source": [
    "# a. A company decided to give a bonus of 5% of their salary to employees if his/her years of service is more than 5 years.\n",
    "# Ask the user for their salary and years of service and print the net amount of that person.\n",
    "\n",
    "salary = float(input(\"Enter your salary :\"))\n",
    "yearsOfService = int(input(\"Enter your years of service :\"))\n",
    "\n",
    "if yearsOfService > 5:\n",
    "    bonus = salary * 0.05\n",
    "else:\n",
    "    bonus = 0\n",
    "\n",
    "net_amount = salary + bonus\n",
    "\n",
    "print(\"Net amount after bonus :\", net_amount)"
   ]
  },
  {
   "cell_type": "code",
   "execution_count": 88,
   "id": "df031cb3-dffc-4ba1-b191-314d01c5c940",
   "metadata": {},
   "outputs": [
    {
     "name": "stdout",
     "output_type": "stream",
     "text": [
      "Average grade for Alice : 85.00\n",
      "Average grade for Bob : 87.67\n",
      "Average grade for Charlie : 92.00\n"
     ]
    }
   ],
   "source": [
    "# b. Create a nested dictionary named 'students' that stores information about students.\n",
    "# Each student has a unique ID (integer) as the key, and the corresponding value is another\n",
    "# dictionary containing 'name' (string) and 'grades' (list of integers) as shown in below example.\n",
    "# Calculate and print the average grade for each student.\n",
    "\n",
    "    # - Example: \n",
    "    #             students = {\n",
    "    #             1: {'name': 'Alice', 'grades': [85, 92, 78]},\n",
    "    #             2: {'name': 'Bob', 'grades': [90, 88, 85]},\n",
    "    #             3: {'name': 'Charlie', 'grades': [92, 94, 90]}}\n",
    "\n",
    "students = {\n",
    "    1: {'name': 'Alice', 'grades': [85, 92, 78]},\n",
    "    2: {'name': 'Bob', 'grades': [90, 88, 85]},\n",
    "    3: {'name': 'Charlie', 'grades': [92, 94, 90]}\n",
    "}\n",
    "\n",
    "for student_id, student_info in students.items():\n",
    "    grades = student_info['grades']\n",
    "    average_grade = sum(grades) / len(grades)\n",
    "    print(f\"Average grade for {student_info['name']} : {average_grade:.2f}\")"
   ]
  },
  {
   "cell_type": "markdown",
   "id": "a9a7465b-400b-4447-b69d-f3b3c06f3337",
   "metadata": {},
   "source": [
    "### Ques. 3 : Initialize a dictionary named 'fruit_inventory' with the following items and their quantities:\n",
    "        'apple': 10\n",
    "        'banana': 15\n",
    "        'orange': 8\n",
    "    Update the quantity of 'banana' to 20 in the dictionary.\n",
    "    Remove the item 'orange' from the dictionary.\n",
    "    Sort the inventory based on the item names in descending order (from 'z' to 'a'). and Print the sorted inventory."
   ]
  },
  {
   "cell_type": "code",
   "execution_count": 7,
   "id": "2c295019-5b4d-4c77-ae93-c0e8d9fca470",
   "metadata": {},
   "outputs": [
    {
     "name": "stdout",
     "output_type": "stream",
     "text": [
      "Sorted Inventory : {'banana': 20, 'apple': 10}\n"
     ]
    }
   ],
   "source": [
    "fruit_inventory = {\n",
    "    'apple': 10,\n",
    "    'banana': 15,\n",
    "    'orange': 8\n",
    "}\n",
    "\n",
    "# Update the quantity of Bananas\n",
    "# Or we can use .udpate() function like this : fruit_inventory.update({'banana': 20})\n",
    "fruit_inventory['banana'] = 20\n",
    "\n",
    "# Remove item Orange\n",
    "del fruit_inventory['orange']\n",
    "\n",
    "# Sort the inventory based on item names in descending order\n",
    "sorted_inventory = dict(sorted(fruit_inventory.items(), key=lambda item: item[0], reverse=True))\n",
    "print(\"Sorted Inventory :\", sorted_inventory)"
   ]
  }
 ],
 "metadata": {
  "kernelspec": {
   "display_name": "Python 3 (ipykernel)",
   "language": "python",
   "name": "python3"
  },
  "language_info": {
   "codemirror_mode": {
    "name": "ipython",
    "version": 3
   },
   "file_extension": ".py",
   "mimetype": "text/x-python",
   "name": "python",
   "nbconvert_exporter": "python",
   "pygments_lexer": "ipython3",
   "version": "3.11.7"
  }
 },
 "nbformat": 4,
 "nbformat_minor": 5
}
