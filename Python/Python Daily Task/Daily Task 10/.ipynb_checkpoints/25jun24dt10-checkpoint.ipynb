{
 "cells": [
  {
   "cell_type": "markdown",
   "id": "48474959-a12c-4f45-9676-a851ee84c7ce",
   "metadata": {},
   "source": [
    "# # Daily Task - June 25, 2024"
   ]
  },
  {
   "cell_type": "markdown",
   "id": "405afe84-1c12-4596-9548-6b3fa7564c26",
   "metadata": {},
   "source": [
    "### Ques. 1 : Write a program to check whether the last digit of a number (entered by user) is divisible by 3 or not."
   ]
  },
  {
   "cell_type": "code",
   "execution_count": 31,
   "id": "6263b884-378a-4d09-99f4-a4a4bd97fe2e",
   "metadata": {},
   "outputs": [
    {
     "name": "stdin",
     "output_type": "stream",
     "text": [
      "Enter a number : 12.8\n"
     ]
    },
    {
     "name": "stdout",
     "output_type": "stream",
     "text": [
      "The last digit of the number 12.8 is 8 which is not divisible by 3\n"
     ]
    }
   ],
   "source": [
    "number = (input(\"Enter a number :\"))\n",
    "lastDigit = number[-1]\n",
    "\n",
    "if float(lastDigit) % 3 == 0:\n",
    "    print(f\"The last digit of the number {number} is {number[-1]} which is divisible by 3\")\n",
    "else:\n",
    "    print(f\"The last digit of the number {number} is {number[-1]} which is not divisible by 3\")"
   ]
  },
  {
   "cell_type": "markdown",
   "id": "42d8a2c8-4232-4318-9132-b03f456984e9",
   "metadata": {},
   "source": [
    "### Ques. 2 : A company decided to give a bonus of 5% of their salary to employees if his/her years of service is more than 5 years. Ask the user for their salary and years of service and print the net amount of that person."
   ]
  },
  {
   "cell_type": "code",
   "execution_count": 37,
   "id": "df042c8b-9bfc-454b-86b9-8adf62aea81d",
   "metadata": {},
   "outputs": [
    {
     "name": "stdin",
     "output_type": "stream",
     "text": [
      "Enter your salary : 845000\n",
      "Enter your years of service : 6\n"
     ]
    },
    {
     "name": "stdout",
     "output_type": "stream",
     "text": [
      "Net amount after bonus : 887250.0\n"
     ]
    }
   ],
   "source": [
    "salary = float(input(\"Enter your salary :\"))\n",
    "yearsOfService = int(input(\"Enter your years of service :\"))\n",
    "\n",
    "if yearsOfService > 5:\n",
    "    bonus = salary * 0.05\n",
    "else:\n",
    "    bonus = 0\n",
    "\n",
    "net_amount = salary + bonus\n",
    "\n",
    "print(\"Net amount after bonus :\", net_amount)"
   ]
  },
  {
   "cell_type": "markdown",
   "id": "02062f3b-b902-43e0-afe0-a73e6e20dcc3",
   "metadata": {},
   "source": [
    "### Ques. 3 : A school has following rules for grading system:\n",
    "    - a. Below 25 - F grade\n",
    "    - b. 25 to 45 - E\n",
    "    - c. 45 to 50 - D\n",
    "    - d. 50 to 60 - C\n",
    "    - e. 60 to 80 - B\n",
    "    - f. Above 80 - A\n",
    "##### Ask the user to enter marks and print the corresponding grade.\n"
   ]
  },
  {
   "cell_type": "code",
   "execution_count": 72,
   "id": "371a1e5b-70ce-4f50-acf4-94d8f12323da",
   "metadata": {},
   "outputs": [
    {
     "name": "stdin",
     "output_type": "stream",
     "text": [
      "Enter your marks : 88\n"
     ]
    },
    {
     "name": "stdout",
     "output_type": "stream",
     "text": [
      "Grade A\n"
     ]
    }
   ],
   "source": [
    "marks = float(input(\"Enter your marks :\"))\n",
    "\n",
    "if marks > 100:\n",
    "    print(\"Invalid Input\")\n",
    "elif marks > 80:\n",
    "    print(\"Grade A\")\n",
    "elif (marks > 60) and (marks <= 80):\n",
    "    print(\"Grade B\")\n",
    "elif (marks > 50) and (marks <= 60):\n",
    "    print(\"Grade C\")\n",
    "elif (marks > 45) and (marks <= 50):\n",
    "    print(\"Grade D\")\n",
    "elif (marks > 25) and (marks <= 45):\n",
    "    print(\"Grade E\")\n",
    "elif (marks <= 25):\n",
    "    print(\"Grade F\")"
   ]
  },
  {
   "cell_type": "markdown",
   "id": "21ded104-a8f0-4ead-a07f-3e3d779db324",
   "metadata": {},
   "source": [
    "### Ques. 4 :\n",
    "    a. Take input from the user. Check if a given year is a leap year.\n",
    "    - Example: \n",
    "        - Enter a year: 2022\n",
    "        - 2022 is not a leap year\n",
    "    b. Given a month (as a string) and a year, determine the number of days in that month."
   ]
  },
  {
   "cell_type": "code",
   "execution_count": 101,
   "id": "1f82c428-ef81-492b-8e41-84505ea2e9fe",
   "metadata": {},
   "outputs": [
    {
     "name": "stdin",
     "output_type": "stream",
     "text": [
      "Enter a year to check if its a leap year or not (Format YYYY) : 2013\n"
     ]
    },
    {
     "name": "stdout",
     "output_type": "stream",
     "text": [
      "2013 is not a leap year\n"
     ]
    }
   ],
   "source": [
    "# a. Take input from the user. Check if a given year is a leap year.\n",
    "        # - Example:\n",
    "        #     - Enter a year: 2022\n",
    "        #     - 2022 is not a leap year\n",
    "\n",
    "year = input(\"Enter a year to check if its a leap year or not (Format YYYY) :\")\n",
    "\n",
    "if len(year) != 4:\n",
    "    print(\"Please Enter the year in YYYY Format\")\n",
    "else:\n",
    "    if int(year) % 4 == 0:\n",
    "        print(f\"{year} is a leap year\")\n",
    "    else:\n",
    "        print(f\"{year} is not a leap year\")"
   ]
  },
  {
   "cell_type": "code",
   "execution_count": 113,
   "id": "05f285d5-3b68-454f-877f-245d74e1093e",
   "metadata": {},
   "outputs": [
    {
     "name": "stdin",
     "output_type": "stream",
     "text": [
      "Enter the name of the month : February\n",
      "Enter the year (Format YYYY) : 2004\n"
     ]
    },
    {
     "name": "stdout",
     "output_type": "stream",
     "text": [
      "The number of days in February 2004 is 29\n"
     ]
    }
   ],
   "source": [
    "# b. Given a month (as a string) and a year, determine the number of days in that month.\n",
    "\n",
    "month = input(\"Enter the name of the month :\").title()\n",
    "year = input(\"Enter the year (Format YYYY) :\")\n",
    "\n",
    "days_in_month = {\n",
    "    \"January\": 31,\n",
    "    \"February\": 28,\n",
    "    \"March\": 31,\n",
    "    \"April\": 30,\n",
    "    \"May\": 31,\n",
    "    \"June\": 30,\n",
    "    \"July\": 31,\n",
    "    \"August\": 31,\n",
    "    \"September\": 30,\n",
    "    \"October\": 31,\n",
    "    \"November\": 30,\n",
    "    \"December\": 31\n",
    "}\n",
    "\n",
    "# Checking if the year is a leap year\n",
    "if len(year) != 4:\n",
    "    print(\"Please Enter the year in YYYY Format\")\n",
    "else:\n",
    "    if int(year) % 4 == 0:\n",
    "        leapYear = True\n",
    "    else:\n",
    "        leapYear = False\n",
    "\n",
    "# Now here are adjusting the number of days for february in a leap year\n",
    "if month == \"February\" and leapYear:\n",
    "    days = 29\n",
    "else:\n",
    "    days = days_in_month[month]\n",
    "\n",
    "print(f\"The number of days in {month} {year} is {days}\")"
   ]
  }
 ],
 "metadata": {
  "kernelspec": {
   "display_name": "Python 3 (ipykernel)",
   "language": "python",
   "name": "python3"
  },
  "language_info": {
   "codemirror_mode": {
    "name": "ipython",
    "version": 3
   },
   "file_extension": ".py",
   "mimetype": "text/x-python",
   "name": "python",
   "nbconvert_exporter": "python",
   "pygments_lexer": "ipython3",
   "version": "3.11.7"
  }
 },
 "nbformat": 4,
 "nbformat_minor": 5
}
