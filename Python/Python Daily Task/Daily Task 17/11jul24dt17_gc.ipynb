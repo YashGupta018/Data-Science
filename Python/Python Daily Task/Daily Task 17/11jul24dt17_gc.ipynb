{
  "cells": [
    {
      "cell_type": "markdown",
      "id": "7a8be38e-65f1-4e67-badc-d5c86953196f",
      "metadata": {
        "id": "7a8be38e-65f1-4e67-badc-d5c86953196f"
      },
      "source": [
        "# Daily Task - July 11, 2024"
      ]
    },
    {
      "cell_type": "markdown",
      "id": "b89bf970-b160-4de4-988d-7fc60d0a2f0a",
      "metadata": {
        "id": "b89bf970-b160-4de4-988d-7fc60d0a2f0a"
      },
      "source": [
        "### Ques. 1 :\n",
        "    a. Write a Python function to find the maximum of three numbers.\n",
        "    b. Write a Python function to sum all the numbers in a list."
      ]
    },
    {
      "cell_type": "code",
      "execution_count": null,
      "id": "493135bc-4c53-4be5-9753-34cf00809acd",
      "metadata": {
        "id": "493135bc-4c53-4be5-9753-34cf00809acd",
        "outputId": "cf3403cb-e123-4ede-baa3-4341d5fd533d"
      },
      "outputs": [
        {
          "name": "stdout",
          "output_type": "stream",
          "text": [
            "31\n"
          ]
        }
      ],
      "source": [
        "# a. Write a Python function to find the maximum of three numbers\n",
        "\n",
        "def find_max_of_three(a, b, c):\n",
        "    return max(a, b, c)\n",
        "\n",
        "print(find_max_of_three(10, 31, 25))"
      ]
    },
    {
      "cell_type": "code",
      "execution_count": null,
      "id": "616131c3-a245-4178-ab36-1c2ce8224dcb",
      "metadata": {
        "id": "616131c3-a245-4178-ab36-1c2ce8224dcb",
        "outputId": "f4ef8825-37b1-48f5-8fa5-bf9b8bb54d39"
      },
      "outputs": [
        {
          "name": "stdout",
          "output_type": "stream",
          "text": [
            "384\n"
          ]
        }
      ],
      "source": [
        "# b. Write a Python function to sum all the numbers in a list\n",
        "\n",
        "def sum_of_list(numbers):\n",
        "    return sum(numbers)\n",
        "\n",
        "numbers = [10, 31, 40, 75, 82, 37, 89, 20]\n",
        "print(sum_of_list(numbers))"
      ]
    },
    {
      "cell_type": "markdown",
      "id": "0e6e662b-d4ff-4e5a-85ba-c520f789f098",
      "metadata": {
        "id": "0e6e662b-d4ff-4e5a-85ba-c520f789f098"
      },
      "source": [
        "### Ques. 2 :\n",
        "    a. Write a Python function to check whether a number falls within a given range.\n",
        "    b. Write a Python function that takes a list and returns a new list with distinct elements from the first list."
      ]
    },
    {
      "cell_type": "code",
      "execution_count": null,
      "id": "945ae6a5-86d0-41d6-8b7f-5cf8b7d40fe0",
      "metadata": {
        "id": "945ae6a5-86d0-41d6-8b7f-5cf8b7d40fe0",
        "outputId": "a0d00fc7-317a-44fe-b562-598a6571168d"
      },
      "outputs": [
        {
          "name": "stdout",
          "output_type": "stream",
          "text": [
            "True\n",
            "False\n"
          ]
        }
      ],
      "source": [
        "# a. Write a Python function to check whether a number falls within a given range\n",
        "\n",
        "def is_in_range(number, start, end):\n",
        "    return start <= number <= end\n",
        "\n",
        "print(is_in_range(25, 10, 50))\n",
        "print(is_in_range(5, 10, 50))"
      ]
    },
    {
      "cell_type": "code",
      "execution_count": null,
      "id": "fa528f62-6f4c-4383-9a11-add06a3a38e0",
      "metadata": {
        "id": "fa528f62-6f4c-4383-9a11-add06a3a38e0",
        "outputId": "c31a0ac5-9eca-424b-8d18-4dad36e897dc"
      },
      "outputs": [
        {
          "name": "stdout",
          "output_type": "stream",
          "text": [
            "[1, 2, 3, 4, 5]\n"
          ]
        }
      ],
      "source": [
        "# b. Write a Python function that takes a list and returns a new list with distinct elements from the first list\n",
        "\n",
        "def distinct_elements(lst):\n",
        "    return list(set(lst))\n",
        "\n",
        "list_with_duplicates = [1, 2, 2, 3, 4, 4, 5]\n",
        "print(distinct_elements(list_with_duplicates))"
      ]
    },
    {
      "cell_type": "markdown",
      "id": "1a3ba405-2156-4489-ba00-691c3797b431",
      "metadata": {
        "id": "1a3ba405-2156-4489-ba00-691c3797b431"
      },
      "source": [
        "### Ques. 3 : Write a Python function that accepts a string and counts the number of upper and lower case letters."
      ]
    },
    {
      "cell_type": "code",
      "execution_count": null,
      "id": "737a1318-4a2e-4344-81bf-704974724fee",
      "metadata": {
        "id": "737a1318-4a2e-4344-81bf-704974724fee",
        "outputId": "3536d2c5-3b7e-4181-bd22-183ef0da11ea"
      },
      "outputs": [
        {
          "name": "stdout",
          "output_type": "stream",
          "text": [
            "Upper case letters: 13\n",
            "Lower case letters: 35\n"
          ]
        }
      ],
      "source": [
        "def count_case_letters(s):\n",
        "    upper_case = sum(1 for char in s if char.isupper())\n",
        "    lower_case = sum(1 for char in s if char.islower())\n",
        "    return upper_case, lower_case\n",
        "\n",
        "string = \"It Matters Not What Someone Is Born, But What They Grow To Be\"\n",
        "upper_case_count, lower_case_count = count_case_letters(string)\n",
        "print(f\"Upper case letters: {upper_case_count}\")\n",
        "print(f\"Lower case letters: {lower_case_count}\")"
      ]
    }
  ],
  "metadata": {
    "kernelspec": {
      "display_name": "Python 3 (ipykernel)",
      "language": "python",
      "name": "python3"
    },
    "language_info": {
      "codemirror_mode": {
        "name": "ipython",
        "version": 3
      },
      "file_extension": ".py",
      "mimetype": "text/x-python",
      "name": "python",
      "nbconvert_exporter": "python",
      "pygments_lexer": "ipython3",
      "version": "3.11.7"
    },
    "colab": {
      "provenance": []
    }
  },
  "nbformat": 4,
  "nbformat_minor": 5
}