{
 "cells": [
  {
   "cell_type": "markdown",
   "id": "1782cd55-07cf-44c1-9d0b-d924a51e3cbc",
   "metadata": {
    "id": "1782cd55-07cf-44c1-9d0b-d924a51e3cbc"
   },
   "source": [
    "# Daily Task - June 18, 2024"
   ]
  },
  {
   "cell_type": "markdown",
   "id": "f787dfc0-992c-4183-b108-1f6c60bdaedc",
   "metadata": {
    "id": "f787dfc0-992c-4183-b108-1f6c60bdaedc"
   },
   "source": [
    "### Ques. 1 : You have a list of your favorite Marvel superheroes. <br> heroes=['spider man','thor','hulk','iron man','captain america'] Using this list,\n",
    "    a. Find Length of the list\n",
    "    b. Add 'black panther' at the end of this list.\n",
    "    c. You realize that you need to add 'black panther' after 'hulk', so remove it from the list first and then add it after 'hulk'.\n",
    "    d. Now you don't like thor and hulk because they get angry easily 🙂. So you want to remove thor and hulk from the list and replace them with Doctor Strange (because he is cool).Do that with one line of code.\n",
    "    e. Sort the list in alphabetical order."
   ]
  },
  {
   "cell_type": "code",
   "execution_count": null,
   "id": "49f3d49d-b2e8-432f-aaf5-70a338f3a2a5",
   "metadata": {
    "id": "49f3d49d-b2e8-432f-aaf5-70a338f3a2a5",
    "outputId": "21ba633b-2023-470a-d34b-559b979faf5e"
   },
   "outputs": [
    {
     "name": "stdout",
     "output_type": "stream",
     "text": [
      "Length of the list : 5\n"
     ]
    }
   ],
   "source": [
    "# a. Find Length of the list\n",
    "\n",
    "heroes = ['spider man', 'thor', 'hulk', 'iron man', 'captain america']\n",
    "\n",
    "listLength = len(heroes)\n",
    "print(\"Length of the list :\", listLength)"
   ]
  },
  {
   "cell_type": "code",
   "execution_count": null,
   "id": "c60607fe-38cd-419e-9daa-0023a1268bfb",
   "metadata": {
    "id": "c60607fe-38cd-419e-9daa-0023a1268bfb",
    "outputId": "8fea5246-3bbe-41c3-a89b-7c5b08c5f4e8"
   },
   "outputs": [
    {
     "name": "stdout",
     "output_type": "stream",
     "text": [
      "['spider man', 'thor', 'hulk', 'iron man', 'captain america']\n",
      "['spider man', 'thor', 'hulk', 'iron man', 'captain america', 'black panther']\n"
     ]
    }
   ],
   "source": [
    "# b. Add 'black panther' at the end of this list.\n",
    "\n",
    "heroes = ['spider man', 'thor', 'hulk', 'iron man', 'captain america']\n",
    "print(heroes)\n",
    "heroes.append('black panther')\n",
    "print(heroes)"
   ]
  },
  {
   "cell_type": "code",
   "execution_count": null,
   "id": "d9c2d1ae-4dc1-4d73-8894-474d0b281148",
   "metadata": {
    "id": "d9c2d1ae-4dc1-4d73-8894-474d0b281148",
    "outputId": "e7f2e487-94c7-420d-eb5b-ad9b0013a3e8"
   },
   "outputs": [
    {
     "name": "stdout",
     "output_type": "stream",
     "text": [
      "['spider man', 'thor', 'hulk', 'iron man', 'captain america', 'black panther']\n",
      "['spider man', 'thor', 'hulk', 'black panther', 'iron man', 'captain america']\n"
     ]
    }
   ],
   "source": [
    "# c. You realize that you need to add 'black panther' after 'hulk',\n",
    "# so remove it from the list first and then add it after 'hulk'.\n",
    "\n",
    "heroes = ['spider man', 'thor', 'hulk', 'iron man', 'captain america', 'black panther']\n",
    "print(heroes)\n",
    "heroes.remove('black panther')\n",
    "heroes.insert(3, 'black panther')\n",
    "print(heroes)"
   ]
  },
  {
   "cell_type": "code",
   "execution_count": null,
   "id": "dc259995-f7af-4d9e-8ef4-fca1ec39531a",
   "metadata": {
    "id": "dc259995-f7af-4d9e-8ef4-fca1ec39531a",
    "outputId": "84ff38d5-2fff-40bb-c361-79df2cdc4cef"
   },
   "outputs": [
    {
     "name": "stdout",
     "output_type": "stream",
     "text": [
      "['spider man', 'thor', 'hulk', 'iron man', 'captain america', 'black panther']\n",
      "['spider man', 'Doctor Strange', 'iron man', 'captain america', 'black panther']\n"
     ]
    }
   ],
   "source": [
    "# d. Now you don't like thor and hulk because they get angry easily 🙂.\n",
    "# So you want to remove thor and hulk from the list and replace them with Doctor Strange (because he is cool).\n",
    "# Do that with one line of code.\n",
    "\n",
    "heroes = ['spider man', 'thor', 'hulk', 'iron man', 'captain america', 'black panther']\n",
    "print(heroes)\n",
    "heroes[1:3] = ['Doctor Strange']\n",
    "print(heroes)"
   ]
  },
  {
   "cell_type": "code",
   "execution_count": null,
   "id": "822366d4-137b-4f42-ac5c-7673959d337f",
   "metadata": {
    "id": "822366d4-137b-4f42-ac5c-7673959d337f",
    "outputId": "3cf299a7-c5ec-4c3e-eb17-ef2b07b21ac8"
   },
   "outputs": [
    {
     "name": "stdout",
     "output_type": "stream",
     "text": [
      "['spider man', 'Doctor Strange', 'iron man', 'captain america', 'black panther']\n",
      "['Doctor Strange', 'black panther', 'captain america', 'iron man', 'spider man']\n"
     ]
    }
   ],
   "source": [
    "# e. Sort the list in alphabetical order.\n",
    "\n",
    "heroes = ['spider man', 'Doctor Strange', 'iron man', 'captain america', 'black panther']\n",
    "print(heroes)\n",
    "heroes.sort()\n",
    "print(heroes)"
   ]
  },
  {
   "cell_type": "markdown",
   "id": "5cc2ceaf-dfc3-4388-a412-ac644019f358",
   "metadata": {
    "id": "5cc2ceaf-dfc3-4388-a412-ac644019f358"
   },
   "source": [
    "### Ques. 2 : Let us say your expense for every month are listed below,\n",
    "##### January -  2200 <br> <br> February - 2350 <br> <br> March - 2600 <br> <br> April - 2130 <br> <br> May - 2190\n",
    "    a. Create a list to store the above monthly expenses and using that find out, in Feb, how many dollars you spent extra compared to January?\n",
    "    b. Find out your total expense in the first quarter (first three months) of the year.\n",
    "    c. Find out if you spent exactly 2000 dollars in any month.\n",
    "    d. Say, June month just finished and your expense is 1980 dollars. Add this item to our monthly expense list.\n",
    "    e. You returned an item that you bought in the month of April and got a refund of 200$. Make a correction to your monthly expense list based on this.\n"
   ]
  },
  {
   "cell_type": "code",
   "execution_count": null,
   "id": "b3e41897-446d-4ec3-a7ab-620564e032fa",
   "metadata": {
    "id": "b3e41897-446d-4ec3-a7ab-620564e032fa",
    "outputId": "5c07820b-08a1-4ea5-885c-ce2aea772abc"
   },
   "outputs": [
    {
     "name": "stdout",
     "output_type": "stream",
     "text": [
      "Extra expenses as compared to january : 150\n"
     ]
    }
   ],
   "source": [
    "# a. Create a list to store the above monthly expenses and using that find out,\n",
    "# in Feb, how many dollars you spent extra compared to January?\n",
    "\n",
    "expenses = [2200, 2350, 2600, 2130, 2190]\n",
    "\n",
    "febExpenses = expenses[1] - expenses[0]\n",
    "print(\"Extra expenses as compared to january :\", febExpenses)"
   ]
  },
  {
   "cell_type": "code",
   "execution_count": null,
   "id": "f4d6a487-80ea-4df8-88a0-096545c6d230",
   "metadata": {
    "id": "f4d6a487-80ea-4df8-88a0-096545c6d230",
    "outputId": "801b1f94-9eba-4bba-9cbb-80fda8d7ce2e"
   },
   "outputs": [
    {
     "name": "stdout",
     "output_type": "stream",
     "text": [
      "Total expenses of first quarter is : 7150\n"
     ]
    }
   ],
   "source": [
    "# b. Find out your total expense in the first quarter (first three months) of the year.\n",
    "\n",
    "expenses = [2200, 2350, 2600, 2130, 2190]\n",
    "\n",
    "firstQuarterExpenses = sum(expenses[:3])\n",
    "print(\"Total expenses of first quarter is :\", firstQuarterExpenses)"
   ]
  },
  {
   "cell_type": "code",
   "execution_count": null,
   "id": "10f29d5f-6f7b-4715-812e-d3196a7772d5",
   "metadata": {
    "id": "10f29d5f-6f7b-4715-812e-d3196a7772d5",
    "outputId": "e1aa5343-685e-414e-f7f3-610eceb13af7"
   },
   "outputs": [
    {
     "name": "stdout",
     "output_type": "stream",
     "text": [
      "False\n"
     ]
    }
   ],
   "source": [
    "# c. Find out if you spent exactly 2000 dollars in any month.\n",
    "\n",
    "expenses = [2200, 2350, 2600, 2130, 2190]\n",
    "\n",
    "findExpenses = 2000 in expenses\n",
    "print(findExpenses)"
   ]
  },
  {
   "cell_type": "code",
   "execution_count": null,
   "id": "5d72c85c-4649-4509-9c27-0d09a556f298",
   "metadata": {
    "id": "5d72c85c-4649-4509-9c27-0d09a556f298",
    "outputId": "26bab5ba-98ae-4731-c1db-2cb255e4c19f"
   },
   "outputs": [
    {
     "name": "stdout",
     "output_type": "stream",
     "text": [
      "[2200, 2350, 2600, 2130, 2190, 1980]\n"
     ]
    }
   ],
   "source": [
    "# d. Say, June month just finished and your expense is 1980 dollars. Add this item to our monthly expense list.\n",
    "\n",
    "expenses = [2200, 2350, 2600, 2130, 2190]\n",
    "\n",
    "expenses.append(1980)\n",
    "print(expenses)"
   ]
  },
  {
   "cell_type": "code",
   "execution_count": 1,
   "id": "77cdbfa8-83aa-4938-b8b3-8715f0f9bba2",
   "metadata": {
    "colab": {
     "base_uri": "https://localhost:8080/"
    },
    "id": "77cdbfa8-83aa-4938-b8b3-8715f0f9bba2",
    "outputId": "866f3388-b1bf-4af0-a275-72279511aceb"
   },
   "outputs": [
    {
     "name": "stdout",
     "output_type": "stream",
     "text": [
      "[2200, 2350, 2600, 1930, 2190, 1980]\n"
     ]
    }
   ],
   "source": [
    "# e. You returned an item that you bought in the month of April and got a refund of $200.\n",
    "# Make a correction to your monthly expense list based on this.\n",
    "\n",
    "expenses = [2200, 2350, 2600, 2130, 2190, 1980]\n",
    "\n",
    "expenses[3] -= 200\n",
    "print(expenses)"
   ]
  },
  {
   "cell_type": "markdown",
   "id": "228695a7-a572-4f13-baf1-cbcd490123a7",
   "metadata": {
    "id": "228695a7-a572-4f13-baf1-cbcd490123a7"
   },
   "source": [
    "### Ques. 3 :\n",
    "\n",
    "    a. Write a program to add item 7000 after 6000 in the following Python List:\n",
    "        - list1 = [10, 20, [300, 400, [5000, 6000], 500], 30, 40]\n",
    "    b. Now that you have a nested list from the above output. Write a program to extend it by adding a sublist [\"h\", \"i\", \"j\"] in such a way that output will look like the following list below.\n",
    "    \n",
    "##### Expected Output : [10, 20, [300, 400, [5000, 6000, 7000,\"h\", \"i\", \"j\"], 500], 30, 40]\n"
   ]
  },
  {
   "cell_type": "code",
   "execution_count": null,
   "id": "0ed21472-1e58-4975-aeb6-e4960246ddea",
   "metadata": {
    "id": "0ed21472-1e58-4975-aeb6-e4960246ddea",
    "outputId": "2ff1c6d1-b5b6-4720-e15a-fe922326a7e0"
   },
   "outputs": [
    {
     "name": "stdout",
     "output_type": "stream",
     "text": [
      "[10, 20, [300, 400, [5000, 6000, 7000], 500], 30, 40]\n"
     ]
    }
   ],
   "source": [
    "# a. Write a program to add item 7000 after 6000 in the following Python List:\n",
    "# list1 = [10, 20, [300, 400, [5000, 6000], 500], 30, 40]\n",
    "\n",
    "list1 = [10, 20, [300, 400, [5000, 6000], 500], 30, 40]\n",
    "\n",
    "list1[2][2].append(7000)\n",
    "print(list1)"
   ]
  },
  {
   "cell_type": "code",
   "execution_count": null,
   "id": "d323dde5-c6e7-45f3-bfc7-a774e46eed33",
   "metadata": {
    "id": "d323dde5-c6e7-45f3-bfc7-a774e46eed33",
    "outputId": "1f954d75-661a-4539-dfc3-2dfbb788801b"
   },
   "outputs": [
    {
     "name": "stdout",
     "output_type": "stream",
     "text": [
      "[10, 20, [300, 400, [5000, 6000, 7000, 'h', 'i', 'j'], 500], 30, 40]\n"
     ]
    }
   ],
   "source": [
    "# b. Now that you have a nested list from the above output.\n",
    "# Write a program to extend it by adding a sublist [\"h\", \"i\", \"j\"] in such a way that,\n",
    "# The output will look like the following list below.\n",
    "#\n",
    "# Expected Output : [10, 20, [300, 400, [5000, 6000, 7000,\"h\", \"i\", \"j\"], 500], 30, 40]\n",
    "\n",
    "list1 = [10, 20, [300, 400, [5000, 6000, 7000], 500], 30, 40]\n",
    "\n",
    "list1[2][2].extend([\"h\", \"i\", \"j\"])\n",
    "print(list1)"
   ]
  }
 ],
 "metadata": {
  "colab": {
   "provenance": []
  },
  "kernelspec": {
   "display_name": "Python 3 (ipykernel)",
   "language": "python",
   "name": "python3"
  },
  "language_info": {
   "codemirror_mode": {
    "name": "ipython",
    "version": 3
   },
   "file_extension": ".py",
   "mimetype": "text/x-python",
   "name": "python",
   "nbconvert_exporter": "python",
   "pygments_lexer": "ipython3",
   "version": "3.11.7"
  }
 },
 "nbformat": 4,
 "nbformat_minor": 5
}
