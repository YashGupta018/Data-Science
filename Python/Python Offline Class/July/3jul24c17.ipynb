{
 "cells": [
  {
   "cell_type": "code",
   "execution_count": 3,
   "id": "71f1ee7f-4f8c-4b39-876c-18aa1795b191",
   "metadata": {},
   "outputs": [
    {
     "name": "stdout",
     "output_type": "stream",
     "text": [
      "scitamonni\n"
     ]
    }
   ],
   "source": [
    "name = \"innomatics\"\n",
    "reverse = \"\"\n",
    "for i in range(len(name)-1, -1, -1):\n",
    "    reverse = reverse+name[i]\n",
    "print(reverse)"
   ]
  },
  {
   "cell_type": "code",
   "execution_count": 51,
   "id": "33e646b6-0087-4e96-a037-a7ced0a84b56",
   "metadata": {},
   "outputs": [
    {
     "name": "stdout",
     "output_type": "stream",
     "text": [
      " nohtyp si na tcejbo detneiro gnimmargorp egagugnal\n"
     ]
    }
   ],
   "source": [
    "text = \"python is an object oriented programming langugage\"\n",
    "word = text.split()\n",
    "reverse = \"\"\n",
    "\n",
    "for i in word:\n",
    "    reverse = reverse + \" \" + i[::-1]\n",
    "print(reverse)"
   ]
  },
  {
   "cell_type": "code",
   "execution_count": 59,
   "id": "0e5635d1-440d-4dcd-9f57-e8c61ab7ec01",
   "metadata": {},
   "outputs": [
    {
     "name": "stdout",
     "output_type": "stream",
     "text": [
      "python\n",
      "programming\n"
     ]
    }
   ],
   "source": [
    "for i in word:\n",
    "    if i.startswith(\"p\") or i.startswith(\"P\"):\n",
    "        print(i)"
   ]
  },
  {
   "cell_type": "code",
   "execution_count": 181,
   "id": "2daf936f-cb84-4bd5-b009-a2574b15583d",
   "metadata": {},
   "outputs": [
    {
     "name": "stdout",
     "output_type": "stream",
     "text": [
      "welcome\n",
      "1234\n"
     ]
    }
   ],
   "source": [
    "# text = welcome1234\n",
    "\n",
    "text1 = \"welcome1234\"\n",
    "str = list(text1)\n",
    "char = \"\"\n",
    "num = \"\"\n",
    "\n",
    "for i in range(len(str)):\n",
    "    if (ord(str[i]) >= 97) and (ord(str[i]) <= 122): # we can do it using isalpha and isnum also\n",
    "        char += str[i]\n",
    "    else:\n",
    "        num += str[i]\n",
    "print(char)\n",
    "print(num)"
   ]
  },
  {
   "cell_type": "code",
   "execution_count": 183,
   "id": "a9879d21-41e8-4d3f-8b3e-579bb79f93d5",
   "metadata": {},
   "outputs": [],
   "source": [
    "# print = 'Fizz' if number divisable by 3\n",
    "# print = 'Buzz' if number divisable by 5\n",
    "# print = 'FizzBuzz' if number divisable by 3 and 5\n",
    "# simple ques ^"
   ]
  },
  {
   "cell_type": "code",
   "execution_count": 267,
   "id": "ce33df72-f271-4b32-b35d-9c46ef009b76",
   "metadata": {},
   "outputs": [
    {
     "name": "stdout",
     "output_type": "stream",
     "text": [
      "i 2\n",
      "n 2\n",
      "n 2\n",
      "o 1\n",
      "m 1\n",
      "a 1\n",
      "t 1\n",
      "i 2\n",
      "c 1\n",
      "s 1\n"
     ]
    }
   ],
   "source": [
    "text2 = \"innomatics\"\n",
    "\n",
    "for i in text2:\n",
    "    print(i, text2.count(i))"
   ]
  },
  {
   "cell_type": "code",
   "execution_count": 273,
   "id": "ad00e090-3ece-4e0c-8d7b-5d088686ae71",
   "metadata": {},
   "outputs": [
    {
     "name": "stdout",
     "output_type": "stream",
     "text": [
      "inomatcs\n",
      "ni\n"
     ]
    }
   ],
   "source": [
    "text3 = \"innomatics\"\n",
    "\n",
    "unique = \"\"\n",
    "duplicates = \"\"\n",
    "\n",
    "for i in text3:\n",
    "    if i not in unique:\n",
    "        unique += i\n",
    "    else:\n",
    "        duplicates += i\n",
    "\n",
    "print(unique)\n",
    "print(duplicates)"
   ]
  },
  {
   "cell_type": "code",
   "execution_count": 279,
   "id": "feacc595-eb75-49b9-9d0d-d3fb402977f3",
   "metadata": {},
   "outputs": [
    {
     "name": "stdout",
     "output_type": "stream",
     "text": [
      "* \n",
      "* * \n",
      "* * * \n",
      "* * * * \n"
     ]
    }
   ],
   "source": [
    "n = 5\n",
    "\n",
    "for i in range(1, n):\n",
    "    print(\"* \" * i)"
   ]
  },
  {
   "cell_type": "code",
   "execution_count": 283,
   "id": "20e65504-c303-49fe-9608-2a8631f29e51",
   "metadata": {},
   "outputs": [],
   "source": [
    "# n = 5\n",
    "\n",
    "# for i in range(1, n):\n",
    "#     print(i * i)"
   ]
  },
  {
   "cell_type": "code",
   "execution_count": 2,
   "id": "343cbfc3-444d-4502-8426-b0e1f8145688",
   "metadata": {},
   "outputs": [],
   "source": [
    "# daily task\n",
    "\n",
    "# text = \"IAmATraveller\"\n",
    "# seperate with spaces\n",
    "\n",
    "###################\n",
    "\n",
    "# list = [1, 2, 3, 4, 5]\n",
    "# roate n times ant clockwise\n",
    "# n = 2\n",
    "# [3, 4, 5, 1, 2]"
   ]
  },
  {
   "cell_type": "code",
   "execution_count": 6,
   "id": "0e5e1ebe-7426-4e7b-b167-1a33a9108099",
   "metadata": {},
   "outputs": [
    {
     "name": "stdout",
     "output_type": "stream",
     "text": [
      " I Am A Traveller\n"
     ]
    }
   ],
   "source": [
    "text = \"IAmATraveller\"\n",
    "result = \"\"\n",
    "\n",
    "for i in text:\n",
    "    if i.isupper():\n",
    "        result = result + \" \" + i.title()\n",
    "    else:\n",
    "        result = result + i\n",
    "\n",
    "print(result)"
   ]
  },
  {
   "cell_type": "code",
   "execution_count": 16,
   "id": "f9cd794e-f560-419d-8218-ac754721a64e",
   "metadata": {},
   "outputs": [
    {
     "name": "stdin",
     "output_type": "stream",
     "text": [
      "Enter a number : 4\n"
     ]
    },
    {
     "name": "stdout",
     "output_type": "stream",
     "text": [
      "[5, 1, 2, 3, 4]\n"
     ]
    }
   ],
   "source": [
    "lst = [1, 2, 3, 4, 5]\n",
    "\n",
    "n = int(input(\"Enter a number :\"))\n",
    "lenght = n % len(lst)\n",
    "for i in range(1, lenght+1):\n",
    "    lst.append(lst.pop(0))\n",
    "print(lst)"
   ]
  },
  {
   "cell_type": "code",
   "execution_count": 61,
   "id": "6f3ed60a-3e2b-41e8-8db6-358dd2e374fe",
   "metadata": {},
   "outputs": [
    {
     "name": "stdin",
     "output_type": "stream",
     "text": [
      "Enter a number : 11\n"
     ]
    },
    {
     "name": "stdout",
     "output_type": "stream",
     "text": [
      "11 is a prime number\n"
     ]
    }
   ],
   "source": [
    "num = int(input(\"Enter a number :\"))\n",
    "if num > 1:\n",
    "    for i in range(2, (num//2)+1):\n",
    "        if (num % i) == 0:\n",
    "            print(num, \"is not a prime number\")\n",
    "            break\n",
    "    else:\n",
    "        print(num, \"is a prime number\")\n",
    "else:\n",
    "    print(num, \"is not a prime number\")"
   ]
  },
  {
   "cell_type": "code",
   "execution_count": 63,
   "id": "6a680fdf-4163-416e-8413-a81fafb0c151",
   "metadata": {},
   "outputs": [
    {
     "name": "stdin",
     "output_type": "stream",
     "text": [
      "Enter a number : 11\n"
     ]
    },
    {
     "name": "stdout",
     "output_type": "stream",
     "text": [
      "11 is prime number\n"
     ]
    }
   ],
   "source": [
    "num = int(input(\"Enter a number :\"))\n",
    "\n",
    "count = 0\n",
    "\n",
    "for i in range(1, num+1):\n",
    "    if num % i == 0:\n",
    "        count = count + 1\n",
    "if count == 2:\n",
    "    print(f\"{num} is prime number\")\n",
    "else:\n",
    "    print(f\"{num} is not a prime number\")"
   ]
  },
  {
   "cell_type": "code",
   "execution_count": 80,
   "id": "d67e2aea-08b4-4b7a-ab67-ff394f7d65ad",
   "metadata": {},
   "outputs": [
    {
     "name": "stdin",
     "output_type": "stream",
     "text": [
      "Enter a number : 11\n"
     ]
    },
    {
     "name": "stdout",
     "output_type": "stream",
     "text": [
      "11 is prime number\n"
     ]
    }
   ],
   "source": [
    "num = int(input(\"Enter a number :\"))\n",
    "\n",
    "count = 0\n",
    "\n",
    "for i in range(2, round(num/2)):\n",
    "    if num % i == 0:\n",
    "        count = count + 1\n",
    "        break\n",
    "if count == 0:\n",
    "    print(f\"{num} is prime number\")\n",
    "else:\n",
    "    print(f\"{num} is not a prime number\")"
   ]
  },
  {
   "cell_type": "code",
   "execution_count": 82,
   "id": "1ef18ff7-572b-434f-80f5-b4adfdd372ea",
   "metadata": {},
   "outputs": [
    {
     "name": "stdout",
     "output_type": "stream",
     "text": [
      "2\n",
      "3\n",
      "5\n",
      "7\n",
      "11\n",
      "13\n",
      "17\n",
      "19\n",
      "23\n",
      "29\n",
      "31\n",
      "37\n",
      "41\n",
      "43\n",
      "47\n",
      "53\n",
      "59\n",
      "61\n",
      "67\n",
      "71\n",
      "73\n",
      "79\n",
      "83\n",
      "89\n",
      "97\n"
     ]
    }
   ],
   "source": [
    "for i in range(2, 101):\n",
    "    num = i\n",
    "    count = 0\n",
    "    \n",
    "    for i in range(2, round(num/2)+1):\n",
    "        if num % i == 0:\n",
    "            count = count + 1\n",
    "            break\n",
    "    if count == 0:\n",
    "        print(num)"
   ]
  },
  {
   "cell_type": "code",
   "execution_count": 114,
   "id": "3332cbd3-9544-4d86-af12-54463d198432",
   "metadata": {},
   "outputs": [
    {
     "name": "stdin",
     "output_type": "stream",
     "text": [
      "Enter a number : 496\n"
     ]
    },
    {
     "name": "stdout",
     "output_type": "stream",
     "text": [
      "496 is a perfect number\n"
     ]
    }
   ],
   "source": [
    "# perfect number\n",
    "\n",
    "n = int(input(\"Enter a number :\"))\n",
    "sum1 = 0\n",
    "\n",
    "for i in range(1, round(n/2)+1):\n",
    "    if n % i == 0:\n",
    "        sum1 = sum1 + i\n",
    "if n ==  sum1:\n",
    "    print(f\"{n} is a perfect number\")\n",
    "else:\n",
    "    print(f\"{n} is not a perfect number\")"
   ]
  },
  {
   "cell_type": "code",
   "execution_count": null,
   "id": "f9cb8c4d-2ddf-460b-a401-b28eb6edd3b2",
   "metadata": {},
   "outputs": [],
   "source": []
  }
 ],
 "metadata": {
  "kernelspec": {
   "display_name": "Python 3 (ipykernel)",
   "language": "python",
   "name": "python3"
  },
  "language_info": {
   "codemirror_mode": {
    "name": "ipython",
    "version": 3
   },
   "file_extension": ".py",
   "mimetype": "text/x-python",
   "name": "python",
   "nbconvert_exporter": "python",
   "pygments_lexer": "ipython3",
   "version": "3.11.7"
  }
 },
 "nbformat": 4,
 "nbformat_minor": 5
}
