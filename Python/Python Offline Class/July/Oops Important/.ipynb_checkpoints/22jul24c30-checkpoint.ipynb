{
 "cells": [
  {
   "cell_type": "code",
   "execution_count": 23,
   "id": "31908fe1-eab1-48b9-bd2e-ce31f270dbfe",
   "metadata": {},
   "outputs": [
    {
     "name": "stdout",
     "output_type": "stream",
     "text": [
      "[134, 190, 128, 110, 110]\n"
     ]
    }
   ],
   "source": [
    "# Assignment Question\n",
    "\n",
    "import random\n",
    "\n",
    "lst = []\n",
    "\n",
    "for i in range(5):\n",
    "    lst.append(random.randint(100, 201))\n",
    "    i = i + 1\n",
    "print(lst)"
   ]
  },
  {
   "cell_type": "code",
   "execution_count": 118,
   "id": "869c5546-3895-4784-bad5-5dfa67228bb5",
   "metadata": {},
   "outputs": [],
   "source": [
    "class Car:\n",
    "    def __init__(self, door, color, model, engine):\n",
    "        self.door = door\n",
    "        self.color = color\n",
    "        self.model = model\n",
    "        self.engine = engine\n",
    "        \n",
    "    def details(self):\n",
    "        print(\"Model name of the car :\", self.model)\n",
    "        print(\"Color of the car :\", self.color)\n",
    "        print(\"No. of doors in the car :\", self.door)\n",
    "        print(\"Engine Type of the car :\", self.engine)\n",
    "    \n",
    "    def change_engine(self, new_engine):\n",
    "        engine_type = input(\"Do you want to change the engine of the car [Y|N] :\")\n",
    "        if engine_type == \"Y\":\n",
    "            if self.engine == \"Petrol\":\n",
    "                self.engine = new_engine\n",
    "                print(\"Engine changed\")\n",
    "            else:\n",
    "                print(\"Engine not changeable\")\n",
    "        else:\n",
    "            print(\"Ok engine type not changed\")"
   ]
  },
  {
   "cell_type": "code",
   "execution_count": 120,
   "id": "815467b0-b5da-4753-b1df-018b8a5542b6",
   "metadata": {},
   "outputs": [],
   "source": [
    "bmw = Car(4, \"Black\", \"Z4\", \"Petrol\")"
   ]
  },
  {
   "cell_type": "code",
   "execution_count": 122,
   "id": "9619e3fa-9fb5-4f3f-8dd0-b5db03c9c660",
   "metadata": {},
   "outputs": [
    {
     "data": {
      "text/plain": [
       "'Z4'"
      ]
     },
     "execution_count": 122,
     "metadata": {},
     "output_type": "execute_result"
    }
   ],
   "source": [
    "bmw.model"
   ]
  },
  {
   "cell_type": "code",
   "execution_count": 124,
   "id": "397ce680-ca73-4839-a1f5-f679aa4104bf",
   "metadata": {},
   "outputs": [
    {
     "data": {
      "text/plain": [
       "4"
      ]
     },
     "execution_count": 124,
     "metadata": {},
     "output_type": "execute_result"
    }
   ],
   "source": [
    "bmw.door"
   ]
  },
  {
   "cell_type": "code",
   "execution_count": 126,
   "id": "b788453a-a94c-43de-85ee-cf2e28f85789",
   "metadata": {},
   "outputs": [
    {
     "data": {
      "text/plain": [
       "'Petrol'"
      ]
     },
     "execution_count": 126,
     "metadata": {},
     "output_type": "execute_result"
    }
   ],
   "source": [
    "bmw.engine"
   ]
  },
  {
   "cell_type": "code",
   "execution_count": 128,
   "id": "c5d917cd-ae1f-4930-a0b0-71ec585a16b5",
   "metadata": {},
   "outputs": [
    {
     "data": {
      "text/plain": [
       "'Black'"
      ]
     },
     "execution_count": 128,
     "metadata": {},
     "output_type": "execute_result"
    }
   ],
   "source": [
    "bmw.color"
   ]
  },
  {
   "cell_type": "code",
   "execution_count": 140,
   "id": "b8233d69-cd15-48d6-b9c8-e53515916895",
   "metadata": {},
   "outputs": [
    {
     "name": "stdout",
     "output_type": "stream",
     "text": [
      "Model name of the car : Z4\n",
      "Color of the car : Black\n",
      "No. of doors in the car : 4\n",
      "Engine Type of the car : Petrol\n"
     ]
    }
   ],
   "source": [
    "bmw.details()"
   ]
  },
  {
   "cell_type": "code",
   "execution_count": 130,
   "id": "d414966a-e681-44f1-b34c-8bc662d48315",
   "metadata": {},
   "outputs": [
    {
     "name": "stdin",
     "output_type": "stream",
     "text": [
      "Do you want to change the engine of the car [Y|N] : N\n"
     ]
    },
    {
     "name": "stdout",
     "output_type": "stream",
     "text": [
      "Ok engine type not changed\n"
     ]
    }
   ],
   "source": [
    "bmw.change_engine(\"CNG\")"
   ]
  },
  {
   "cell_type": "code",
   "execution_count": 268,
   "id": "fe6a4422-e3ab-4181-b205-0e38ad13eb97",
   "metadata": {},
   "outputs": [],
   "source": [
    "class Student:\n",
    "\n",
    "    batch_no = 312 # Class Variable\n",
    "    institute = \"Innomatics Research Labs\" # Class Variable\n",
    "    \n",
    "    def __init__(self, name, rollno, course):\n",
    "        self.name = name # Instance Variable\n",
    "        self.rollno = rollno # Instance Variable\n",
    "        self.course = course # Instance Variable\n",
    "        # self.batch_no = batch_no\n",
    "        # self.institute = institute\n",
    "    \n",
    "    def details(self):\n",
    "        print(\"Student name :\", self.name)\n",
    "        print(\"Roll no of the student :\", self.rollno)\n",
    "        print(\"Registered course name :\", self.course)\n",
    "        print(\"Batch number of the student :\", self.batch_no)\n",
    "        print(\"Name of the institute :\", self.institute)"
   ]
  },
  {
   "cell_type": "code",
   "execution_count": 270,
   "id": "b08a69de-c6a6-42f9-8f51-cdc4a727b118",
   "metadata": {},
   "outputs": [],
   "source": [
    "yash = Student(\"Yash\", 81010503324, \"Data Science\")"
   ]
  },
  {
   "cell_type": "code",
   "execution_count": 272,
   "id": "57da416a-7c14-44f8-aec9-1e50c666892a",
   "metadata": {},
   "outputs": [
    {
     "data": {
      "text/plain": [
       "312"
      ]
     },
     "execution_count": 272,
     "metadata": {},
     "output_type": "execute_result"
    }
   ],
   "source": [
    "yash.batch_no"
   ]
  },
  {
   "cell_type": "code",
   "execution_count": 274,
   "id": "e7063c2a-cfbb-4aa3-9f4e-bd5dc5a17ea0",
   "metadata": {},
   "outputs": [
    {
     "data": {
      "text/plain": [
       "'Innomatics Research Labs'"
      ]
     },
     "execution_count": 274,
     "metadata": {},
     "output_type": "execute_result"
    }
   ],
   "source": [
    "yash.institute"
   ]
  },
  {
   "cell_type": "code",
   "execution_count": 276,
   "id": "a223bd96-8cc3-48be-9b07-a82943f0549c",
   "metadata": {},
   "outputs": [
    {
     "data": {
      "text/plain": [
       "81010503324"
      ]
     },
     "execution_count": 276,
     "metadata": {},
     "output_type": "execute_result"
    }
   ],
   "source": [
    "yash.rollno"
   ]
  },
  {
   "cell_type": "code",
   "execution_count": 278,
   "id": "723a4320-8bcf-4a10-a4c6-b4e12376b1ef",
   "metadata": {},
   "outputs": [
    {
     "data": {
      "text/plain": [
       "'Yash'"
      ]
     },
     "execution_count": 278,
     "metadata": {},
     "output_type": "execute_result"
    }
   ],
   "source": [
    "yash.name # For changing the name of rollno or anything we cannot directly use instance varibale"
   ]
  },
  {
   "cell_type": "code",
   "execution_count": 280,
   "id": "6986cedd-94c0-444f-876a-8851832bcdfb",
   "metadata": {},
   "outputs": [
    {
     "data": {
      "text/plain": [
       "'Data Science'"
      ]
     },
     "execution_count": 280,
     "metadata": {},
     "output_type": "execute_result"
    }
   ],
   "source": [
    "yash.course"
   ]
  },
  {
   "cell_type": "code",
   "execution_count": 282,
   "id": "658e451a-7dce-4e22-a0a1-f3f8853de551",
   "metadata": {},
   "outputs": [
    {
     "name": "stdout",
     "output_type": "stream",
     "text": [
      "Student name : Yash\n",
      "Roll no of the student : 81010503324\n",
      "Registered course name : Data Science\n",
      "Batch number of the student : 312\n",
      "Name of the institute : Innomatics Research Labs\n"
     ]
    }
   ],
   "source": [
    "yash.details()"
   ]
  },
  {
   "cell_type": "code",
   "execution_count": 284,
   "id": "3c71ba0e-abe1-4a4f-ae0e-70d50b3ca33b",
   "metadata": {},
   "outputs": [],
   "source": [
    "balaji = Student(\"Balaji\", 81314503314, \"Data Science\")"
   ]
  },
  {
   "cell_type": "code",
   "execution_count": 286,
   "id": "9819ea0d-e5f4-40c2-be0d-526f47723bb6",
   "metadata": {},
   "outputs": [],
   "source": [
    "balaji.batch_no = 314 # This will only change the details for a particular person not for the whole batch\n",
    "\n",
    "# Student.batch_no = 316 This will also change the details for the whole class\n",
    "# So now if ill call balaji or yash from this same class then it will give 316 as the batch number"
   ]
  },
  {
   "cell_type": "code",
   "execution_count": 288,
   "id": "f0a4fb0a-2aaf-44f6-8004-6d2dfc3dc025",
   "metadata": {},
   "outputs": [
    {
     "data": {
      "text/plain": [
       "314"
      ]
     },
     "execution_count": 288,
     "metadata": {},
     "output_type": "execute_result"
    }
   ],
   "source": [
    "balaji.batch_no"
   ]
  },
  {
   "cell_type": "code",
   "execution_count": 290,
   "id": "a166f63d-0d5e-4ee8-a754-98765f3df731",
   "metadata": {},
   "outputs": [
    {
     "name": "stdout",
     "output_type": "stream",
     "text": [
      "Student name : Balaji\n",
      "Roll no of the student : 81314503314\n",
      "Registered course name : Data Science\n",
      "Batch number of the student : 314\n",
      "Name of the institute : Innomatics Research Labs\n"
     ]
    }
   ],
   "source": [
    "balaji.details()"
   ]
  },
  {
   "cell_type": "code",
   "execution_count": 292,
   "id": "e0652c8a-4a2d-4c86-b744-d062507f4258",
   "metadata": {},
   "outputs": [
    {
     "name": "stdout",
     "output_type": "stream",
     "text": [
      "Student name : Yash\n",
      "Roll no of the student : 81010503324\n",
      "Registered course name : Data Science\n",
      "Batch number of the student : 312\n",
      "Name of the institute : Innomatics Research Labs\n"
     ]
    }
   ],
   "source": [
    "yash.details()"
   ]
  },
  {
   "cell_type": "code",
   "execution_count": 294,
   "id": "b20d3992-cc7a-4f61-825e-4e2e620f3e5f",
   "metadata": {},
   "outputs": [],
   "source": [
    "class type_of_method:\n",
    "    def __init__(self):\n",
    "        print(\"Constructor\")\n",
    "        \n",
    "    def instance_method(self):\n",
    "        print(\"Instance Method\") # Both are instance method\n",
    "        \n",
    "    def class_method(self):\n",
    "        print(\"Class Method\") # Both are instance method"
   ]
  },
  {
   "cell_type": "code",
   "execution_count": 306,
   "id": "cd54a984-ec93-40e7-b7d0-1fb3def9dd6f",
   "metadata": {},
   "outputs": [],
   "source": [
    "class type_of_method:\n",
    "\n",
    "    cls_var = \"Common Data\"\n",
    "    \n",
    "    def __init__(self):\n",
    "        print(\"Constructor\")\n",
    "        self.inst_var = \"Individual Data\"\n",
    "        \n",
    "    def instance_method(self):\n",
    "        print(\"Instance Method\") # Both are instance method\n",
    "\n",
    "    def class_method(self):\n",
    "        print(\"Class Method\") # Both are instance method\n",
    "\n",
    "    @classmethod\n",
    "    def classmethod(cls, new):\n",
    "        print(\"Class Variable Changed\") # This is a class method\n",
    "        cls.cls_var = new"
   ]
  },
  {
   "cell_type": "code",
   "execution_count": 308,
   "id": "e57a7d54-d48f-42ae-9e1e-d435a2613f05",
   "metadata": {},
   "outputs": [
    {
     "name": "stdout",
     "output_type": "stream",
     "text": [
      "Constructor\n"
     ]
    }
   ],
   "source": [
    "obj = type_of_method()"
   ]
  },
  {
   "cell_type": "code",
   "execution_count": 310,
   "id": "acca787f-a8fe-4310-b39e-a863d0d3d012",
   "metadata": {},
   "outputs": [
    {
     "name": "stdout",
     "output_type": "stream",
     "text": [
      "Instance Method\n"
     ]
    }
   ],
   "source": [
    "obj.instance_method()"
   ]
  },
  {
   "cell_type": "code",
   "execution_count": 312,
   "id": "647b719e-85db-44e5-8b8f-39f9fd70ce16",
   "metadata": {},
   "outputs": [
    {
     "name": "stdout",
     "output_type": "stream",
     "text": [
      "Class Method\n"
     ]
    }
   ],
   "source": [
    "obj.class_method()"
   ]
  },
  {
   "cell_type": "code",
   "execution_count": 314,
   "id": "908b9cdf-7703-4c6f-ac09-ab9f2a81480e",
   "metadata": {},
   "outputs": [
    {
     "data": {
      "text/plain": [
       "'Individual Data'"
      ]
     },
     "execution_count": 314,
     "metadata": {},
     "output_type": "execute_result"
    }
   ],
   "source": [
    "obj.inst_var"
   ]
  },
  {
   "cell_type": "code",
   "execution_count": 316,
   "id": "01ec2ee2-be65-4499-9a41-d11c3482af00",
   "metadata": {},
   "outputs": [
    {
     "data": {
      "text/plain": [
       "'Common Data'"
      ]
     },
     "execution_count": 316,
     "metadata": {},
     "output_type": "execute_result"
    }
   ],
   "source": [
    "type_of_method.cls_var"
   ]
  },
  {
   "cell_type": "code",
   "execution_count": 318,
   "id": "6fe501c0-11a9-460e-8f88-aa842921a8bf",
   "metadata": {},
   "outputs": [
    {
     "name": "stdout",
     "output_type": "stream",
     "text": [
      "Class Variable Changed\n"
     ]
    }
   ],
   "source": [
    "obj.cls_var = \"Data Chaged\" # THis is wrong\n",
    "\n",
    "obj.classmethod(\"Data Changed\") # This is correct"
   ]
  },
  {
   "cell_type": "code",
   "execution_count": 300,
   "id": "2ab9d63c-be36-486c-be34-7b35220bd855",
   "metadata": {},
   "outputs": [
    {
     "data": {
      "text/plain": [
       "'Common Data'"
      ]
     },
     "execution_count": 300,
     "metadata": {},
     "output_type": "execute_result"
    }
   ],
   "source": [
    "type_of_method.cls_var"
   ]
  },
  {
   "cell_type": "code",
   "execution_count": 322,
   "id": "45b1fee8-8a85-437f-81ab-22d05e3bb67d",
   "metadata": {},
   "outputs": [
    {
     "data": {
      "text/plain": [
       "'Data Chaged'"
      ]
     },
     "execution_count": 322,
     "metadata": {},
     "output_type": "execute_result"
    }
   ],
   "source": [
    "obj.cls_var"
   ]
  },
  {
   "cell_type": "code",
   "execution_count": null,
   "id": "26237bb7-7896-450b-ab2e-5015eae9258c",
   "metadata": {},
   "outputs": [],
   "source": [
    "# complete it from pic"
   ]
  }
 ],
 "metadata": {
  "kernelspec": {
   "display_name": "Python 3 (ipykernel)",
   "language": "python",
   "name": "python3"
  },
  "language_info": {
   "codemirror_mode": {
    "name": "ipython",
    "version": 3
   },
   "file_extension": ".py",
   "mimetype": "text/x-python",
   "name": "python",
   "nbconvert_exporter": "python",
   "pygments_lexer": "ipython3",
   "version": "3.11.7"
  }
 },
 "nbformat": 4,
 "nbformat_minor": 5
}
