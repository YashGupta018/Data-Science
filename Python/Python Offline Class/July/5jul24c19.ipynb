{
 "cells": [
  {
   "cell_type": "code",
   "execution_count": null,
   "id": "099bc158-d124-41e9-8911-3600c23fa692",
   "metadata": {},
   "outputs": [],
   "source": [
    "a = 10\n",
    "b = 20\n",
    "\n",
    "if a < b:\n",
    "    print(f\"{b} bigger than {a}\")\n",
    "else:\n",
    "    print(f\"{a} bigger than {b}\")"
   ]
  },
  {
   "cell_type": "code",
   "execution_count": null,
   "id": "94bb8574-3fc4-451b-ba94-4386871de2b4",
   "metadata": {},
   "outputs": [],
   "source": [
    "a = 10\n",
    "b = 20\n",
    "c = 30\n",
    "\n",
    "if (a < b) and (a < c):\n",
    "    if b < c:\n",
    "        print(f\"{c} bigger than both {b} & {a}\")\n",
    "    else:\n",
    "        print(f\"{b} bigger than both {c} & {a}\")\n",
    "else:\n",
    "    print(f\"{a} bigger than both {b} & {c}\")"
   ]
  },
  {
   "cell_type": "code",
   "execution_count": null,
   "id": "fbae0bef-befd-4f81-8c93-012dc8c7bce7",
   "metadata": {},
   "outputs": [],
   "source": [
    "import time\n",
    "lst = [4, 7, 2, 11, 25, 5, 0]\n",
    "largest = lst[0]\n",
    "smallest = lst[0]\n",
    "\n",
    "for i in lst:\n",
    "    print(i)\n",
    "    if largest < i:\n",
    "        largest = i\n",
    "        print(\"largest\", i)\n",
    "        time.sleep(4)\n",
    "    if smallest > i:\n",
    "        smallest = i\n",
    "        print(\"smallest\", i)\n",
    "        time.sleep(4)\n",
    "print(\"largesttt\", largest)\n",
    "print(\"smallesttt\", smallest)"
   ]
  },
  {
   "cell_type": "code",
   "execution_count": null,
   "id": "33d89f45-26ae-4915-bb98-812e1bc4eea9",
   "metadata": {},
   "outputs": [],
   "source": [
    "lst = [5, 7, 1, 3, 15, 25]\n",
    "\n",
    "[(i, \"greater than 10\") for i in lst if i > 10]\n",
    "\n",
    "##########################\n",
    "\n",
    "lst = [True, False, False, False, True]\n",
    "\n",
    "[int(i) for i in lst]\n",
    "\n",
    "##########################\n",
    "\n",
    "lst = [\"M\", \"F\", \"M\", \"M\", \"M\", \"F\"]\n",
    "\n",
    "[1 if i == \"M\" else 0 for i in lst]\n",
    "\n",
    "# [(i, \"even\") for i in lst if i % 2 == 0]"
   ]
  },
  {
   "cell_type": "code",
   "execution_count": null,
   "id": "fbca4698-6728-44a9-a665-c99426892e4b",
   "metadata": {},
   "outputs": [],
   "source": [
    "names = [\"Bhargav\", \"Joan\", \"Swetha\", \"Teja\", \"vamshi\", \"Varun\", \"Vinay\"]\n",
    "v = []\n",
    "\n",
    "[i for i in names if i[0] == \"v\" or i[0] == \"V\"]"
   ]
  },
  {
   "cell_type": "code",
   "execution_count": 7,
   "id": "38106c7f-6406-4e71-b8a0-31b5000765cd",
   "metadata": {},
   "outputs": [],
   "source": [
    "import random\n",
    "\n",
    "random.randint(1, 1000)"
   ]
  },
  {
   "cell_type": "code",
   "execution_count": 1,
   "id": "d1f63a52-9149-4db5-9162-f20d8715859e",
   "metadata": {},
   "outputs": [],
   "source": [
    "# guess the number from 1-10 take input from user"
   ]
  },
  {
   "cell_type": "code",
   "execution_count": null,
   "id": "375f3bfc-9045-46b1-992a-8a5e57a21380",
   "metadata": {},
   "outputs": [],
   "source": []
  }
 ],
 "metadata": {
  "kernelspec": {
   "display_name": "Python 3 (ipykernel)",
   "language": "python",
   "name": "python3"
  },
  "language_info": {
   "codemirror_mode": {
    "name": "ipython",
    "version": 3
   },
   "file_extension": ".py",
   "mimetype": "text/x-python",
   "name": "python",
   "nbconvert_exporter": "python",
   "pygments_lexer": "ipython3",
   "version": "3.11.7"
  }
 },
 "nbformat": 4,
 "nbformat_minor": 5
}
