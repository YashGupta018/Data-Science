{
 "cells": [
  {
   "cell_type": "code",
   "execution_count": 125,
   "id": "c0887c74-8f6c-4045-846f-8172666dc024",
   "metadata": {},
   "outputs": [
    {
     "name": "stdout",
     "output_type": "stream",
     "text": [
      "0 0 0 0 \n",
      "1 2 3 4 \n",
      "2 4 6 8 \n",
      "3 6 9 12 \n"
     ]
    }
   ],
   "source": [
    "n = 0\n",
    "while n <= 3:\n",
    "    m = 1\n",
    "    while m <= 4:\n",
    "        print(n * m, end = \" \")\n",
    "        m = m + 1\n",
    "    print()\n",
    "    n = n + 1"
   ]
  },
  {
   "cell_type": "code",
   "execution_count": 127,
   "id": "8ac016d3-be75-4199-b2a0-ebcdfcd199ea",
   "metadata": {},
   "outputs": [
    {
     "name": "stdout",
     "output_type": "stream",
     "text": [
      "0 0 0 0 \n",
      "0 0 0 0 \n",
      "0 0 0 0 \n",
      "0 0 0 0 \n",
      "\n",
      "1 2 3 4 \n",
      "2 4 6 8 \n",
      "3 6 9 12 \n",
      "4 8 12 16 \n",
      "\n",
      "2 4 6 8 \n",
      "4 8 12 16 \n",
      "6 12 18 24 \n",
      "8 16 24 32 \n",
      "\n",
      "3 6 9 12 \n",
      "6 12 18 24 \n",
      "9 18 27 36 \n",
      "12 24 36 48 \n",
      "\n"
     ]
    }
   ],
   "source": [
    "n = 0\n",
    "while n <= 3:\n",
    "    m = 1\n",
    "    while m <= 4:\n",
    "        k = 1\n",
    "        while k <= 4:\n",
    "            print(n*m*k, end = \" \")\n",
    "            k = k + 1\n",
    "        print()\n",
    "        m = m + 1\n",
    "    print()\n",
    "    n = n + 1"
   ]
  },
  {
   "cell_type": "code",
   "execution_count": 129,
   "id": "8ac0d43a-c7ce-466f-af27-435b7d7317f4",
   "metadata": {},
   "outputs": [
    {
     "name": "stdout",
     "output_type": "stream",
     "text": [
      "* * * *\n",
      "* * * *\n",
      "* * * *\n",
      "* * * *\n"
     ]
    }
   ],
   "source": [
    "i = 0\n",
    "while i <= 3:\n",
    "    j = 0\n",
    "    while j <= 2:\n",
    "        print(\"*\", end = \" \")\n",
    "        j = j + 1\n",
    "    print(\"*\")\n",
    "    i = i + 1"
   ]
  },
  {
   "cell_type": "code",
   "execution_count": 131,
   "id": "c27afcd5-79b1-4c86-bfb7-180687d51fd1",
   "metadata": {},
   "outputs": [
    {
     "name": "stdout",
     "output_type": "stream",
     "text": [
      "* * * * \n",
      "* * * * \n",
      "* * * * \n",
      "* * * * \n"
     ]
    }
   ],
   "source": [
    "for i in range(4):\n",
    "    for i in range(4):\n",
    "        print(\"*\", end = \" \")\n",
    "    print()"
   ]
  },
  {
   "cell_type": "code",
   "execution_count": 133,
   "id": "3fe05510-51d8-4e34-b8a9-09031ca6b2ba",
   "metadata": {},
   "outputs": [
    {
     "name": "stdout",
     "output_type": "stream",
     "text": [
      "* \n",
      "* * \n",
      "* * * \n",
      "* * * * \n"
     ]
    }
   ],
   "source": [
    "for i in range(1, 5):\n",
    "    for j in range(i):\n",
    "        print(\"*\", end = \" \")\n",
    "    print()"
   ]
  },
  {
   "cell_type": "code",
   "execution_count": 135,
   "id": "326f3a3c-b9c6-4806-a4fd-2f282a75a503",
   "metadata": {},
   "outputs": [
    {
     "name": "stdout",
     "output_type": "stream",
     "text": [
      "* \n",
      "* * \n",
      "* * * \n",
      "* * * * \n"
     ]
    }
   ],
   "source": [
    "i = 0\n",
    "while i <= 3:\n",
    "    j = 0\n",
    "    while j <= i:\n",
    "        print(\"*\", end = \" \")\n",
    "        j = j + 1\n",
    "    i = i + 1\n",
    "    print()"
   ]
  },
  {
   "cell_type": "code",
   "execution_count": 137,
   "id": "5e5207d5-04fe-47e6-ac9e-c8a0f39f0751",
   "metadata": {},
   "outputs": [
    {
     "name": "stdout",
     "output_type": "stream",
     "text": [
      "* * * * \n",
      "* * * * \n",
      "* * * * \n",
      "* * * * \n"
     ]
    }
   ],
   "source": [
    "for i in range(4):\n",
    "    for j in range(4):\n",
    "        print(\"*\", end = \" \")\n",
    "        j = j + 1\n",
    "    i = i + 1\n",
    "    print()"
   ]
  },
  {
   "cell_type": "code",
   "execution_count": 139,
   "id": "811c0c64-f72e-4fcb-9386-d29737490384",
   "metadata": {},
   "outputs": [
    {
     "name": "stdout",
     "output_type": "stream",
     "text": [
      "* \n",
      "* * \n",
      "* * * \n",
      "* * * * \n"
     ]
    }
   ],
   "source": [
    "for i in range(1, 5):\n",
    "    for j in range(i):\n",
    "        print(\"*\", end = \" \")\n",
    "        j = j + 1\n",
    "    i = i + 1\n",
    "    print()"
   ]
  },
  {
   "cell_type": "code",
   "execution_count": 141,
   "id": "2a62a084-7114-47ae-951d-5c91c46b8ccc",
   "metadata": {},
   "outputs": [
    {
     "name": "stdout",
     "output_type": "stream",
     "text": [
      "* * * * \n",
      "  * * * \n",
      "    * * \n",
      "      * \n"
     ]
    }
   ],
   "source": [
    "for i in range(4, 0, -1):\n",
    "    for j in range(4, i, -1):\n",
    "        print(\" \", end = \" \")\n",
    "    for k in range(i):\n",
    "        print(\"*\", end = \" \")\n",
    "    print()"
   ]
  },
  {
   "cell_type": "code",
   "execution_count": 155,
   "id": "b0cc6abb-aa0a-46a3-b9c7-6bf2a8c4591c",
   "metadata": {},
   "outputs": [
    {
     "name": "stdout",
     "output_type": "stream",
     "text": [
      "  * * * * \n",
      "    * * * \n",
      "      * * \n",
      "        * \n"
     ]
    }
   ],
   "source": [
    "for i in range(1, 5):\n",
    "    for j in range(i):\n",
    "        print(\" \", end = \" \")\n",
    "    for k in range(5, i, -1):\n",
    "        print(\"*\", end = \" \")\n",
    "    print()"
   ]
  },
  {
   "cell_type": "code",
   "execution_count": 167,
   "id": "845c487e-7cf5-40ee-9cfd-84f02c5e88f6",
   "metadata": {},
   "outputs": [
    {
     "name": "stdout",
     "output_type": "stream",
     "text": [
      "      * \n",
      "    * * \n",
      "  * * * \n",
      "* * * * \n"
     ]
    }
   ],
   "source": [
    "for i in range(1, 5):\n",
    "    for j in range(4, i, -1):\n",
    "        print(\" \", end = \" \")\n",
    "    for k in range(i):\n",
    "        print(\"*\", end = \" \")\n",
    "    print()"
   ]
  },
  {
   "cell_type": "code",
   "execution_count": 161,
   "id": "8e5287a4-1b00-418b-89da-ae4e5f79998d",
   "metadata": {},
   "outputs": [
    {
     "name": "stdout",
     "output_type": "stream",
     "text": [
      "* * * * \n",
      "* * * \n",
      "* * \n",
      "* \n"
     ]
    }
   ],
   "source": [
    "for i in range (4, 0, -1):\n",
    "    for j in range(i):\n",
    "        print(\"*\", end = \" \")\n",
    "    print()"
   ]
  },
  {
   "cell_type": "code",
   "execution_count": 175,
   "id": "7f302181-4a03-4dbc-ae19-45a36a798c23",
   "metadata": {},
   "outputs": [
    {
     "name": "stdout",
     "output_type": "stream",
     "text": [
      "   * \n",
      "  * * \n",
      " * * * \n",
      "* * * * \n"
     ]
    }
   ],
   "source": [
    "# jugad pyramid pattern\n",
    "\n",
    "for i in range(1, 5):\n",
    "    for j in range(4, i, -1):\n",
    "        print(\" \", end = \"\")\n",
    "    for k in range(i):\n",
    "        print(\"*\", end = \" \")\n",
    "    print()"
   ]
  },
  {
   "cell_type": "code",
   "execution_count": 179,
   "id": "b9887206-6b88-40f4-9134-8e26a12f4b2b",
   "metadata": {},
   "outputs": [
    {
     "name": "stdout",
     "output_type": "stream",
     "text": [
      "      * \n",
      "*     * * \n",
      "* *   * * * \n",
      "* * * * * * * \n",
      "* * * * "
     ]
    }
   ],
   "source": [
    "# pyramid pattern\n",
    "\n",
    "for i in range(1, 5):\n",
    "    for j in range(4, i, -1):\n",
    "        print(\" \", end = \" \")\n",
    "    for k in range(i):\n",
    "        print(\"*\", end = \" \")\n",
    "    print()\n",
    "    for j in range(i):\n",
    "        print(\"*\", end = \" \")\n",
    "        j = j + 1"
   ]
  },
  {
   "cell_type": "code",
   "execution_count": 198,
   "id": "536c2dda-5f10-4ca8-b039-2e9695ee1b00",
   "metadata": {},
   "outputs": [
    {
     "name": "stdout",
     "output_type": "stream",
     "text": [
      "  * * * * * \n",
      "    * * * * \n",
      "      * * * \n",
      "        * * \n",
      "          * \n"
     ]
    }
   ],
   "source": [
    "# reverse pyramid pattern\n",
    "\n",
    "for i in range(1, 6):\n",
    "    for j in range(i):\n",
    "        print(\" \", end = \" \")\n",
    "    for k in range(6, i, -1):\n",
    "        print(\"*\", end = \" \")\n",
    "    \n",
    "    for l in range(5, 4, -1):\n",
    "        print()"
   ]
  },
  {
   "cell_type": "code",
   "execution_count": 200,
   "id": "e36d3386-6884-47e7-9309-fe444faa9089",
   "metadata": {},
   "outputs": [],
   "source": [
    "lst = [1, 2, 3, [4, 5], 6, [7, 8, 9], 10]\n",
    "\n",
    "result = []\n",
    "for i in lst:\n",
    "    if type(i) == list:\n",
    "        for j in i:\n",
    "            result.append(j)\n",
    "    else:\n",
    "        result.append(i)"
   ]
  },
  {
   "cell_type": "code",
   "execution_count": 204,
   "id": "842fcd60-1cc5-412d-8973-3ed8bbb6b259",
   "metadata": {},
   "outputs": [
    {
     "name": "stdout",
     "output_type": "stream",
     "text": [
      "[1, 2, 3, 4, 5, 6, 7, 8, 9, 10]\n"
     ]
    }
   ],
   "source": [
    "print(result)"
   ]
  },
  {
   "cell_type": "code",
   "execution_count": 214,
   "id": "72f2bc81-a0aa-4ada-b841-255a168230da",
   "metadata": {},
   "outputs": [],
   "source": [
    "# using recursion\n",
    "\n",
    "res = []\n",
    "def rec(l):\n",
    "    for i in l:\n",
    "        if type(i) == list:\n",
    "            rec(i)\n",
    "        else:\n",
    "            res.append(i)\n",
    "    return res"
   ]
  },
  {
   "cell_type": "code",
   "execution_count": 216,
   "id": "b22ad964-bcb9-453a-9214-78873d06f9cf",
   "metadata": {},
   "outputs": [
    {
     "data": {
      "text/plain": [
       "[1, 2, 3, 4, 5, 6, 7, 8, 9, 10]"
      ]
     },
     "execution_count": 216,
     "metadata": {},
     "output_type": "execute_result"
    }
   ],
   "source": [
    "rec([1, 2, 3, [4, 5], 6, [7, 8, 9], 10])"
   ]
  }
 ],
 "metadata": {
  "kernelspec": {
   "display_name": "Python 3 (ipykernel)",
   "language": "python",
   "name": "python3"
  },
  "language_info": {
   "codemirror_mode": {
    "name": "ipython",
    "version": 3
   },
   "file_extension": ".py",
   "mimetype": "text/x-python",
   "name": "python",
   "nbconvert_exporter": "python",
   "pygments_lexer": "ipython3",
   "version": "3.11.7"
  }
 },
 "nbformat": 4,
 "nbformat_minor": 5
}
