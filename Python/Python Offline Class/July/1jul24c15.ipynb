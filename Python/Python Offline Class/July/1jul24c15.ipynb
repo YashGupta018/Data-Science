{
 "cells": [
  {
   "cell_type": "code",
   "execution_count": null,
   "id": "05dbe5ae-3a69-4d59-8f94-f1d0db33f2b0",
   "metadata": {},
   "outputs": [],
   "source": [
    "# test = \"Python is a general purpose language\".split(\" \")\n",
    "# print(f\"The word {test[3]} and it is starting from\")\n",
    "\n",
    "test = \"Python is a general purpose language\"\n",
    "str = input(\"Enter your word :\")\n",
    "start = test.find(str)\n",
    "end = start + len(str) - 1\n",
    "print(f\"The word {str} is starting from {start} to {end}\")"
   ]
  },
  {
   "cell_type": "code",
   "execution_count": 23,
   "id": "d4d02b06-552d-4cc4-94bc-0182b47d753a",
   "metadata": {},
   "outputs": [
    {
     "name": "stdin",
     "output_type": "stream",
     "text": [
      "Enter you username : Ram\n",
      "Enter you username : 21342\n"
     ]
    },
    {
     "name": "stdout",
     "output_type": "stream",
     "text": [
      "Welcome\n"
     ]
    }
   ],
   "source": [
    "db = {\"Ram\": 2020, \"Raghu\": 2021, \"Kanav\": 2021}\n",
    "\n",
    "str = input(\"Enter you username :\")\n",
    "# pwd = int(input(\"Enter you username :\"))\n",
    "\n",
    "# dbstr = f\"{str}\"\n",
    "# dbpwd = pwd\n",
    "if str in db.keys():\n",
    "        print(\"Welcome\")\n",
    "else:\n",
    "    print(\"gg\")\n",
    "\n",
    "# db[dbstr]"
   ]
  },
  {
   "cell_type": "code",
   "execution_count": null,
   "id": "ef6432d8-90f7-4859-a7af-33391d9c2b9d",
   "metadata": {},
   "outputs": [],
   "source": []
  }
 ],
 "metadata": {
  "kernelspec": {
   "display_name": "Python 3 (ipykernel)",
   "language": "python",
   "name": "python3"
  },
  "language_info": {
   "codemirror_mode": {
    "name": "ipython",
    "version": 3
   },
   "file_extension": ".py",
   "mimetype": "text/x-python",
   "name": "python",
   "nbconvert_exporter": "python",
   "pygments_lexer": "ipython3",
   "version": "3.11.7"
  }
 },
 "nbformat": 4,
 "nbformat_minor": 5
}
