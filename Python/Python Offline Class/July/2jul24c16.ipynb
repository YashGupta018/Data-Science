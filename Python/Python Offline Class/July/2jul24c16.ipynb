{
 "cells": [
  {
   "cell_type": "markdown",
   "id": "a81f4942-fb9f-45c3-a42d-d8b83e8702fa",
   "metadata": {},
   "source": [
    "#### Create a program where in a dictionary there are few names and you have to add new names to that dict. if the user input is not available in the dict. so here you have to also check if the data is avaiable in the dict. or not!? if its not then ask the user weather he want to add new data to the dict."
   ]
  },
  {
   "cell_type": "code",
   "execution_count": 11,
   "id": "75e9ef43-c34c-4072-ad22-36e2f8445e89",
   "metadata": {},
   "outputs": [
    {
     "name": "stdout",
     "output_type": "stream",
     "text": [
      "1 - yash\n",
      "2 - yash\n",
      "3 - yash\n",
      "4 - yash\n",
      "5 - yash\n",
      "6 - yash\n",
      "7 - yash\n",
      "8 - yash\n",
      "9 - yash\n",
      "10 - yash\n"
     ]
    }
   ],
   "source": [
    "import time\n",
    "for i in range(1, 11):\n",
    "    print(f\"{i} - yash\")\n",
    "    time.sleep(1)"
   ]
  },
  {
   "cell_type": "code",
   "execution_count": 17,
   "id": "160e42b7-1633-41cd-9e91-92c0249f3b0c",
   "metadata": {},
   "outputs": [
    {
     "name": "stdout",
     "output_type": "stream",
     "text": [
      "1\n",
      "5\n",
      "6\n",
      "7\n",
      "8\n",
      "10\n",
      "11\n",
      "12\n"
     ]
    }
   ],
   "source": [
    "for i in {1, 6, 12, 11, 5, 7, 8, 10}:\n",
    "    print(i)\n",
    "\n"
   ]
  },
  {
   "cell_type": "code",
   "execution_count": 33,
   "id": "dd812f74-4690-41a7-b71f-2a4767543893",
   "metadata": {},
   "outputs": [
    {
     "name": "stdout",
     "output_type": "stream",
     "text": [
      "(1, 12)\n",
      "(6, 11)\n",
      "(12, 45)\n",
      "(11, 34)\n",
      "(5, 23)\n",
      "(7, 24)\n",
      "(8, 98)\n",
      "(10, 32)\n"
     ]
    }
   ],
   "source": [
    "d = {1 : 12, 6 : 11, 12 : 45, 11 : 34, 5 : 23, 7 : 24, 8 : 98, 10 : 32}\n",
    "\n",
    "for i in d.items():\n",
    "    print(i, )\n"
   ]
  },
  {
   "cell_type": "code",
   "execution_count": 35,
   "id": "33e1ddc1-a0ac-4db1-ab42-d85867001740",
   "metadata": {},
   "outputs": [
    {
     "name": "stdout",
     "output_type": "stream",
     "text": [
      "0 - Even\n",
      "1 - Odd\n",
      "2 - Even\n",
      "3 - Odd\n",
      "4 - Even\n",
      "5 - Odd\n",
      "6 - Even\n",
      "7 - Odd\n",
      "8 - Even\n",
      "9 - Odd\n",
      "10 - Even\n",
      "11 - Odd\n",
      "12 - Even\n",
      "13 - Odd\n",
      "14 - Even\n",
      "15 - Odd\n",
      "16 - Even\n",
      "17 - Odd\n",
      "18 - Even\n",
      "19 - Odd\n",
      "20 - Even\n",
      "21 - Odd\n",
      "22 - Even\n",
      "23 - Odd\n",
      "24 - Even\n",
      "25 - Odd\n",
      "26 - Even\n",
      "27 - Odd\n",
      "28 - Even\n",
      "29 - Odd\n",
      "30 - Even\n",
      "31 - Odd\n",
      "32 - Even\n",
      "33 - Odd\n",
      "34 - Even\n",
      "35 - Odd\n",
      "36 - Even\n",
      "37 - Odd\n",
      "38 - Even\n",
      "39 - Odd\n",
      "40 - Even\n",
      "41 - Odd\n",
      "42 - Even\n",
      "43 - Odd\n",
      "44 - Even\n",
      "45 - Odd\n",
      "46 - Even\n",
      "47 - Odd\n",
      "48 - Even\n",
      "49 - Odd\n"
     ]
    }
   ],
   "source": [
    "for i in range(50):\n",
    "    if i % 2 == 0:\n",
    "        print(f\"{i} - Even\")\n",
    "    else:\n",
    "        print(f\"{i} - Odd\")"
   ]
  },
  {
   "cell_type": "code",
   "execution_count": 58,
   "id": "521b533e-d32d-4a28-8157-55552c596aa7",
   "metadata": {},
   "outputs": [
    {
     "name": "stdout",
     "output_type": "stream",
     "text": [
      "56\n"
     ]
    }
   ],
   "source": [
    "n = 1\n",
    "i = 1\n",
    "counter = n\n",
    "sum = i\n",
    "\n",
    "while counter <= 10:\n",
    "    sum += counter\n",
    "    counter += 1\n",
    "\n",
    "print(sum)"
   ]
  },
  {
   "cell_type": "code",
   "execution_count": 70,
   "id": "ff6bacf8-1850-41c0-8b36-a25fa7349e28",
   "metadata": {},
   "outputs": [
    {
     "name": "stdout",
     "output_type": "stream",
     "text": [
      "1 1\n",
      "2 3\n",
      "3 6\n",
      "4 10\n",
      "5 15\n",
      "6 21\n",
      "7 28\n",
      "8 36\n",
      "9 45\n",
      "10 55\n",
      "total = 55\n"
     ]
    }
   ],
   "source": [
    "num = 10\n",
    "sum1 = 0\n",
    "for i in range(1, num+1):\n",
    "    sum1 = sum1 + i\n",
    "    print(i, sum1)\n",
    "print(f\"total = {sum1}\")"
   ]
  },
  {
   "cell_type": "code",
   "execution_count": 66,
   "id": "6edd2fd9-6f58-4387-a739-cbdf1e8e2deb",
   "metadata": {},
   "outputs": [
    {
     "name": "stdout",
     "output_type": "stream",
     "text": [
      "1 1\n",
      "2 2\n",
      "3 6\n",
      "4 24\n",
      "5 120\n",
      "6 720\n",
      "7 5040\n",
      "8 40320\n",
      "9 362880\n",
      "10 3628800\n",
      "total = 3628800\n"
     ]
    }
   ],
   "source": [
    "num = 10\n",
    "sum1 = 1\n",
    "for i in range(1, num+1):\n",
    "    sum1 = sum1 * i\n",
    "    print(i, sum1)\n",
    "print(f\"total = {sum1}\")"
   ]
  },
  {
   "cell_type": "code",
   "execution_count": 106,
   "id": "3ee5ca57-51a8-4dc9-8b3d-3d932f4e7676",
   "metadata": {},
   "outputs": [
    {
     "ename": "TypeError",
     "evalue": "unsupported operand type(s) for -: 'str' and 'int'",
     "output_type": "error",
     "traceback": [
      "\u001b[0;31m---------------------------------------------------------------------------\u001b[0m",
      "\u001b[0;31mTypeError\u001b[0m                                 Traceback (most recent call last)",
      "Cell \u001b[0;32mIn[106], line 8\u001b[0m\n\u001b[1;32m      6\u001b[0m \u001b[38;5;28;01mfor\u001b[39;00m i \u001b[38;5;129;01min\u001b[39;00m a:\n\u001b[1;32m      7\u001b[0m     b \u001b[38;5;241m=\u001b[39m \u001b[38;5;28mlen\u001b[39m(a) \u001b[38;5;241m+\u001b[39m \u001b[38;5;241m1\u001b[39m\n\u001b[0;32m----> 8\u001b[0m     c \u001b[38;5;241m=\u001b[39m i \u001b[38;5;241m-\u001b[39m b\n",
      "\u001b[0;31mTypeError\u001b[0m: unsupported operand type(s) for -: 'str' and 'int'"
     ]
    }
   ],
   "source": [
    "# a = \"yash\"\n",
    "# for i in a[::-1]:\n",
    "#     print(i)\n",
    "\n",
    "a = \"yash\"\n",
    "for i in a:\n",
    "    b = len(a) + 1\n",
    "    c = i - b"
   ]
  },
  {
   "cell_type": "code",
   "execution_count": null,
   "id": "56dc613e-1e54-46f8-a960-1a597a39ac1a",
   "metadata": {},
   "outputs": [],
   "source": []
  }
 ],
 "metadata": {
  "kernelspec": {
   "display_name": "Python 3 (ipykernel)",
   "language": "python",
   "name": "python3"
  },
  "language_info": {
   "codemirror_mode": {
    "name": "ipython",
    "version": 3
   },
   "file_extension": ".py",
   "mimetype": "text/x-python",
   "name": "python",
   "nbconvert_exporter": "python",
   "pygments_lexer": "ipython3",
   "version": "3.11.7"
  }
 },
 "nbformat": 4,
 "nbformat_minor": 5
}
