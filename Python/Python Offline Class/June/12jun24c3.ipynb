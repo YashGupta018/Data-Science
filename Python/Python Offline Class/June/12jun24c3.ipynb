{
 "cells": [
  {
   "cell_type": "code",
   "execution_count": 64,
   "id": "dc4cda28-1367-403b-948f-ce37ac52a374",
   "metadata": {},
   "outputs": [
    {
     "name": "stdin",
     "output_type": "stream",
     "text": [
      "Enter a number:  11\n"
     ]
    },
    {
     "name": "stdout",
     "output_type": "stream",
     "text": [
      "False\n"
     ]
    },
    {
     "name": "stdin",
     "output_type": "stream",
     "text": [
      "Enter a number:  11\n"
     ]
    },
    {
     "name": "stdout",
     "output_type": "stream",
     "text": [
      "11 is Odd\n"
     ]
    }
   ],
   "source": [
    "num = int(input(\"Enter a number: \"))\n",
    "print(num % 2 == 0)\n",
    "\n",
    "#########################################\n",
    "\n",
    "num = int(input(\"Enter a number: \"))\n",
    "if (num % 2) == 0:\n",
    "   print(\"{0} is Even\".format(num))\n",
    "else:\n",
    "   print(\"{0} is Odd\".format(num))"
   ]
  },
  {
   "cell_type": "code",
   "execution_count": 74,
   "id": "e6e68a94-4314-4c47-8c2c-7ca116964053",
   "metadata": {},
   "outputs": [
    {
     "name": "stdin",
     "output_type": "stream",
     "text": [
      "Enter a number : 25\n"
     ]
    },
    {
     "name": "stdout",
     "output_type": "stream",
     "text": [
      "False\n"
     ]
    },
    {
     "name": "stdin",
     "output_type": "stream",
     "text": [
      "Enter a number : 25\n"
     ]
    },
    {
     "name": "stdout",
     "output_type": "stream",
     "text": [
      "25 is divisible by both 5 and 6\n"
     ]
    }
   ],
   "source": [
    "num1 = int(input(\"Enter a number :\"))\n",
    "print((num1 % 5 == 0) and (num1 % 6 == 0))\n",
    "\n",
    "#########################################\n",
    "\n",
    "num1 = int(input(\"Enter a number :\"))\n",
    "if (num1 % 5 and num1 % 6) == 0:\n",
    "    print(\"{0} is divisible by both 5 and 6\".format(num1))\n",
    "else:\n",
    "    print(\"{0} is not divisible by both 5 and 6\".format(num1))"
   ]
  },
  {
   "cell_type": "code",
   "execution_count": null,
   "id": "2362c412-a745-4b76-bfd1-46351fe73734",
   "metadata": {},
   "outputs": [],
   "source": []
  }
 ],
 "metadata": {
  "kernelspec": {
   "display_name": "Python 3 (ipykernel)",
   "language": "python",
   "name": "python3"
  },
  "language_info": {
   "codemirror_mode": {
    "name": "ipython",
    "version": 3
   },
   "file_extension": ".py",
   "mimetype": "text/x-python",
   "name": "python",
   "nbconvert_exporter": "python",
   "pygments_lexer": "ipython3",
   "version": "3.11.7"
  }
 },
 "nbformat": 4,
 "nbformat_minor": 5
}
