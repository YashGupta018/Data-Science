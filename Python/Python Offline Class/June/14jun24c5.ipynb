{
 "cells": [
  {
   "cell_type": "code",
   "execution_count": 45,
   "id": "0fe968b9-8f59-4f1d-8e6b-dc55c29cc564",
   "metadata": {},
   "outputs": [
    {
     "name": "stdin",
     "output_type": "stream",
     "text": [
      "Please enter today's day : Friday\n",
      "Please enter today's date : 14-June-2024\n",
      "Please enter today's weather : Hot\n"
     ]
    },
    {
     "name": "stdout",
     "output_type": "stream",
     "text": [
      "Its \"14-June-2024\", Todays is Friday \n",
      "And today's weather's feels like Hot\n"
     ]
    }
   ],
   "source": [
    "day = input(\"Please enter today's day :\")\n",
    "date = (input(\"Please enter today's date :\"))\n",
    "weather = input(\"Please enter today's weather :\")\n",
    "\n",
    "print(f\"Its \\\"{date}\\\", Todays is {day} \\nAnd today's weather's feels like {weather}\")"
   ]
  },
  {
   "cell_type": "code",
   "execution_count": 133,
   "id": "f324730e-95eb-443e-9efa-6b587c71a2d6",
   "metadata": {},
   "outputs": [
    {
     "data": {
      "text/plain": [
       "'gram'"
      ]
     },
     "execution_count": 133,
     "metadata": {},
     "output_type": "execute_result"
    }
   ],
   "source": [
    "a = \"python program\"\n",
    "# a [::-1]\n",
    "\n",
    "a [-3:-11:-1]\n",
    "# a [-11:-3:-1]\n",
    "# a [0:14:-1]\n",
    "# a [12:3:-1]\n",
    "a [-4:]"
   ]
  },
  {
   "cell_type": "code",
   "execution_count": 23,
   "id": "8ada6503-0742-4fe0-b403-1199b8617293",
   "metadata": {},
   "outputs": [
    {
     "name": "stdout",
     "output_type": "stream",
     "text": [
      "10\n",
      "10\n",
      "True\n",
      "10.5\n"
     ]
    }
   ],
   "source": [
    "# a = 10\n",
    "# b = '10'\n",
    "# c = True\n",
    "# d = 10.5\n",
    "\n",
    "# print(f\"{a}\\n{b}\\n{c}\\n{d}\")"
   ]
  },
  {
   "cell_type": "code",
   "execution_count": null,
   "id": "a214b2e2-50bb-4f23-883d-44cdef35ae64",
   "metadata": {},
   "outputs": [],
   "source": []
  }
 ],
 "metadata": {
  "kernelspec": {
   "display_name": "Python 3 (ipykernel)",
   "language": "python",
   "name": "python3"
  },
  "language_info": {
   "codemirror_mode": {
    "name": "ipython",
    "version": 3
   },
   "file_extension": ".py",
   "mimetype": "text/x-python",
   "name": "python",
   "nbconvert_exporter": "python",
   "pygments_lexer": "ipython3",
   "version": "3.11.7"
  }
 },
 "nbformat": 4,
 "nbformat_minor": 5
}
