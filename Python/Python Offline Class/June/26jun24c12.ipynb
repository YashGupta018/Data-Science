{
 "cells": [
  {
   "cell_type": "code",
   "execution_count": null,
   "id": "cf5b29fb-95bb-4f33-a465-72eca36f9fa7",
   "metadata": {},
   "outputs": [],
   "source": [
    "n = 10\n",
    "i = n\n",
    "while i >= 0:\n",
    "    print(i, end = \" \")\n",
    "    i = i - 1"
   ]
  },
  {
   "cell_type": "code",
   "execution_count": null,
   "id": "3c18b1ef-01ba-4f9e-9ae0-63d9ba18fa8e",
   "metadata": {},
   "outputs": [],
   "source": [
    "n = 5\n",
    "i = n\n",
    "while i >= 0:\n",
    "    print(i, end = \" \")\n",
    "    i = i - 1"
   ]
  },
  {
   "cell_type": "code",
   "execution_count": null,
   "id": "2493b144-db07-42d5-8951-66014968e1ab",
   "metadata": {},
   "outputs": [],
   "source": [
    "n = 10\n",
    "i = n\n",
    "while i > 0:\n",
    "    print(i, end = \" \")\n",
    "    i = i - 2"
   ]
  },
  {
   "cell_type": "code",
   "execution_count": null,
   "id": "13049639-0262-44a8-9c07-e16af06677d1",
   "metadata": {},
   "outputs": [],
   "source": [
    "n = 7\n",
    "i = 1\n",
    "while i <= 10:\n",
    "    print(f\"{n} * {i} = {n * i}\")\n",
    "    i = i + 1"
   ]
  },
  {
   "cell_type": "code",
   "execution_count": null,
   "id": "c2fdee79-f784-4fa7-992b-d8a717bc809c",
   "metadata": {},
   "outputs": [],
   "source": [
    "n = 1\n",
    "i = n\n",
    "while i <= 5:\n",
    "    print(\"* \" * i)\n",
    "    i = i + 1"
   ]
  },
  {
   "cell_type": "code",
   "execution_count": null,
   "id": "43d478b8-c582-4094-bdb3-e7c36242c231",
   "metadata": {},
   "outputs": [],
   "source": [
    "n = 5\n",
    "i = n\n",
    "while i >= 1:\n",
    "    print(\"+ \" * i)\n",
    "    i = i - 1"
   ]
  },
  {
   "cell_type": "code",
   "execution_count": 24,
   "id": "6a1d1e45-7b51-4205-af10-00faaf6d5f00",
   "metadata": {},
   "outputs": [],
   "source": [
    "# row = 1\n",
    "# col = 1\n",
    "\n",
    "# while row <= 5:\n",
    "#         while col <= row:\n",
    "#             print(\"*\", end=\"\")\n",
    "#             col += 1\n",
    "#         print(\"*\")\n",
    "#         row += 1"
   ]
  },
  {
   "cell_type": "code",
   "execution_count": 26,
   "id": "355af735-9c2d-42d9-b3e8-22527f2c5279",
   "metadata": {},
   "outputs": [
    {
     "name": "stdout",
     "output_type": "stream",
     "text": [
      "4 4 4 4 \n",
      "3 3 3 \n",
      "2 2 \n",
      "1 \n"
     ]
    }
   ],
   "source": [
    "n = 4\n",
    "i = n\n",
    "while i >= 1:\n",
    "    print(f\"{i} \" * i)\n",
    "    i = i - 1"
   ]
  },
  {
   "cell_type": "code",
   "execution_count": null,
   "id": "73352412-7916-4b25-92e1-30574c9554f9",
   "metadata": {},
   "outputs": [],
   "source": []
  }
 ],
 "metadata": {
  "kernelspec": {
   "display_name": "Python 3 (ipykernel)",
   "language": "python",
   "name": "python3"
  },
  "language_info": {
   "codemirror_mode": {
    "name": "ipython",
    "version": 3
   },
   "file_extension": ".py",
   "mimetype": "text/x-python",
   "name": "python",
   "nbconvert_exporter": "python",
   "pygments_lexer": "ipython3",
   "version": "3.11.7"
  }
 },
 "nbformat": 4,
 "nbformat_minor": 5
}
