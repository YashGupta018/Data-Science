{
 "cells": [
  {
   "cell_type": "markdown",
   "id": "e7cecc12-dc27-420b-aeaf-4665383848fd",
   "metadata": {},
   "source": [
    "Write a program that takes an integer input and checks if it is divisible by 7. If it is, print \"Divisible by 7,\" otherwise print \"Not divisible"
   ]
  },
  {
   "cell_type": "code",
   "execution_count": null,
   "id": "04c696d9-329a-4d47-a194-96565909e347",
   "metadata": {},
   "outputs": [],
   "source": [
    "num = int(input(\"Enter num :\"))\n",
    "\n",
    "if num % 7 == 0:\n",
    "    print(\"Divisible\")\n",
    "else:\n",
    "    print(\"Not divisible\")"
   ]
  },
  {
   "cell_type": "code",
   "execution_count": null,
   "id": "ca5ce00f-07e7-4574-8f54-cba2d6b0e62e",
   "metadata": {},
   "outputs": [],
   "source": [
    "num = int(input(\"Enter num :\"))\n",
    "\n",
    "if num > 20:\n",
    "    print(\"hello, welcome to the session \\nwe will start the session in 5 minutes \\nwe are going to study python today \\n\")"
   ]
  },
  {
   "cell_type": "markdown",
   "id": "2ed378a3-7aba-49dc-b35b-bcfbbe69ce41",
   "metadata": {},
   "source": [
    "Q1. Implement a program that helps a user choose a mobile plan based on their usage. Ask the user for the number of minutes they expect to use and the amount of data they expect to consume. Apply the following rules:\n",
    "\n",
    "If the user plans to use fewer than 300 minutes and less than 2GB of data, recommend the \"Basic Plan\" for 20 dollars.\n",
    "If the user plans to use 300 minutes or more but less than 500 minutes and less than 5GB of data, recommend the \"Standard Plan\" for 40 dollars.\n",
    "If the user plans to use 500 minutes or more and 5GB of data or more, recommend the \"Premium Plan\" for 60 dollars.\n",
    "If the user doesn't meet any of the above criteria, print \"No suitable plan available.\""
   ]
  },
  {
   "cell_type": "code",
   "execution_count": null,
   "id": "638fecb7-b341-4aab-8a2e-34dc5119722b",
   "metadata": {},
   "outputs": [],
   "source": [
    "min = int(input(\"Number of minutes required (in Minutes):\"))\n",
    "data = int(input(\"Amount of data required (in GBs):\"))\n",
    "\n",
    "if (min < 300) and (data < 2):\n",
    "    print(\"Basic Plan for 20 dollars\")\n",
    "elif (min >= 300) and (min <= 500) and (data < 5):\n",
    "    print(\"Standard Plan for 40 dollars\")\n",
    "elif (min >= 500) and (data >= 5):\n",
    "    print(\"Premium Plan for 60 dollars\")\n",
    "else:\n",
    "    print(\"No suitable plan available\")"
   ]
  },
  {
   "cell_type": "markdown",
   "id": "9fb4d0e1-67e1-444c-85ad-58af8357329c",
   "metadata": {},
   "source": [
    "Q2. Implement a ticket pricing system for a movie theater based on the age of the customer and the time of the show. The rules are as follows:\n",
    "Children (0-12 years): $5\n",
    "        Matinee show (before 5 PM): Additional $2 discount\n",
    "\n",
    "Adults (13-64 years): $10\n",
    "       Matinee show (before 5 PM): Additional $5 discount\n",
    "\n",
    "Seniors (65 years and above): $7\n",
    "        Matinee show (before 5 PM): Additional $3 discount"
   ]
  },
  {
   "cell_type": "code",
   "execution_count": null,
   "id": "60534d16-f0aa-4549-bfed-07cb4416a72b",
   "metadata": {},
   "outputs": [],
   "source": [
    "age = int(input(\"Enter age :\"))\n",
    "time = int(input(\"Time :\"))\n",
    "\n",
    "if (age <= 12) and (time < 5):\n",
    "    print(\"Total cost :\", 5+2)\n",
    "elif (age > 12) and (age <= 64) and (time < 5):\n",
    "    print(\"Total cost :\", 10+5)\n",
    "elif (age > 64) and (time < 5):\n",
    "    print(\"Total cost :\", 7+5)"
   ]
  },
  {
   "cell_type": "markdown",
   "id": "280efe43-4753-42b9-8c6c-7fe040923279",
   "metadata": {},
   "source": [
    "Q. You are tasked with creating a movie recommendation system based on user preferences. The system should take input on the user's preferred genre and mood. Based on these preferences, recommend a movie from the following categories:\n",
    "\n",
    "Action: If the user prefers action.\n",
    "If the user is in a \"happy\" mood, recommend \"Mission Impossible.\"\n",
    "If the user is in a \"serious\" mood, recommend \"The Dark Knight.\"\n",
    "Comedy: If the user prefers comedy.\n",
    "If the user is in a \"happy\" mood, recommend \"Dumb and Dumber.\"\n",
    "If the user is in a \"serious\" mood, recommend \"The Hangover.\"\n",
    "Drama: If the user prefers drama.\n",
    "If the user is in a \"happy\" mood, recommend \"Forrest Gump.\"If the user is in a \"serious\" mood, recommend \"The Shawshank Redemption.\""
   ]
  },
  {
   "cell_type": "code",
   "execution_count": null,
   "id": "5844d9f8-e976-472e-8130-0dc3ee02a59d",
   "metadata": {},
   "outputs": [],
   "source": [
    "genre = input(\"Enter genere :\")\n",
    "mood = input(\"Enter mood :\")\n",
    "\n",
    "movies = {\n",
    "    \"action\": [\"Mission Impossible\", \"The Dark Knight\"],\n",
    "    \"comedy\": [\"Dumb and Dumber\", \"The Hangover\"],\n",
    "    \"drama\": [\"Forrest Gump\", \"The Shawshank Redemption\"]\n",
    "}\n",
    "\n",
    "if genre == \"action\" and mood == \"happy\":\n",
    "    recommendation = \"Mission Impossible\"\n",
    "elif genre == \"comedy\" and mood == \"happy\":\n",
    "    recommendation = \"Dumb and Dumber\"\n",
    "elif genre == \"drama\" and mood == \"happy\":\n",
    "    recommendation = \"Forrest Gump\"\n",
    "elif genre == \"action\" and mood == \"serious\":\n",
    "    recommendation = \"The Dark Knight\"\n",
    "elif genre == \"comedy\" and mood == \"serious\":\n",
    "    recommendation = \"The Hangover\"\n",
    "elif genre == \"drama\" and mood == \"serious\":\n",
    "    recommendation = \"The Shawshank Redemption\"\n",
    "\n",
    "print(recommendation)"
   ]
  },
  {
   "cell_type": "code",
   "execution_count": null,
   "id": "cc2a7ac5-228b-456f-92b1-9e0a212e0a39",
   "metadata": {},
   "outputs": [],
   "source": []
  },
  {
   "cell_type": "code",
   "execution_count": null,
   "id": "8b8d4357-0946-496e-b060-99da624aaedc",
   "metadata": {},
   "outputs": [],
   "source": []
  }
 ],
 "metadata": {
  "kernelspec": {
   "display_name": "Python 3 (ipykernel)",
   "language": "python",
   "name": "python3"
  },
  "language_info": {
   "codemirror_mode": {
    "name": "ipython",
    "version": 3
   },
   "file_extension": ".py",
   "mimetype": "text/x-python",
   "name": "python",
   "nbconvert_exporter": "python",
   "pygments_lexer": "ipython3",
   "version": "3.11.7"
  }
 },
 "nbformat": 4,
 "nbformat_minor": 5
}
