{
 "cells": [
  {
   "cell_type": "code",
   "execution_count": 1,
   "id": "8c03e285-2406-4f93-aebd-6bb13aafaeab",
   "metadata": {},
   "outputs": [
    {
     "name": "stdout",
     "output_type": "stream",
     "text": [
      "Mode : 3\n"
     ]
    }
   ],
   "source": [
    "def calc_mode(num):\n",
    "    mode = 0\n",
    "    if len(set(num)) == 1:\n",
    "        mode = num[0]\n",
    "    else:\n",
    "        mode = max(set(num), key=num.count)\n",
    "    return mode\n",
    "\n",
    "lst = [3, 4, 5, 4, 3, 4, 2, 3]\n",
    "mode = calc_mode(lst)\n",
    "print(\"Mode :\", mode)"
   ]
  },
  {
   "cell_type": "code",
   "execution_count": 66,
   "id": "ef5627ef-a983-4c71-b641-ac7ee84cdefa",
   "metadata": {},
   "outputs": [
    {
     "name": "stdout",
     "output_type": "stream",
     "text": [
      "[[1, 2, 3, 4, 5, 6, 7, 8, 9, 10]]\n",
      "[[ 1  2  3  4  5]\n",
      " [ 6  7  8  9 10]]\n"
     ]
    },
    {
     "data": {
      "text/plain": [
       "array([[1, 2],\n",
       "       [3, 4],\n",
       "       [5, 6]])"
      ]
     },
     "execution_count": 66,
     "metadata": {},
     "output_type": "execute_result"
    }
   ],
   "source": [
    "# Numpy\n",
    "\n",
    "import numpy as np\n",
    "\n",
    "lst1 = [list(range(1, 11))]\n",
    "print(lst1)\n",
    "\n",
    "lst2 = [[1, 2, 3, 4, 5], [6, 7, 8, 9, 10]]\n",
    "arr2 = np.array(lst2)\n",
    "print(arr2)\n",
    "\n",
    "lst = [[1, 2], [3, 4], [5, 6]] # increasing the brackets will increases the dimensions of the array\n",
    "\n",
    "arr = np.array(lst)\n",
    "\n",
    "arr"
   ]
  },
  {
   "cell_type": "code",
   "execution_count": 52,
   "id": "19d07c98-7449-47a3-a541-731d9e111d27",
   "metadata": {},
   "outputs": [
    {
     "data": {
      "text/plain": [
       "(3, 2)"
      ]
     },
     "execution_count": 52,
     "metadata": {},
     "output_type": "execute_result"
    }
   ],
   "source": [
    "arr.shape"
   ]
  },
  {
   "cell_type": "code",
   "execution_count": null,
   "id": "f94c752b-54d5-4d51-93a6-68dd617c287a",
   "metadata": {},
   "outputs": [],
   "source": []
  }
 ],
 "metadata": {
  "kernelspec": {
   "display_name": "Python 3 (ipykernel)",
   "language": "python",
   "name": "python3"
  },
  "language_info": {
   "codemirror_mode": {
    "name": "ipython",
    "version": 3
   },
   "file_extension": ".py",
   "mimetype": "text/x-python",
   "name": "python",
   "nbconvert_exporter": "python",
   "pygments_lexer": "ipython3",
   "version": "3.11.7"
  }
 },
 "nbformat": 4,
 "nbformat_minor": 5
}
