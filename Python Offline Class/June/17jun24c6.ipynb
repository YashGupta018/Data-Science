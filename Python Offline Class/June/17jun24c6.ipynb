{
 "cells": [
  {
   "cell_type": "code",
   "execution_count": 63,
   "id": "e1d47ac4-8879-47d9-82df-8fb44cf6a3f0",
   "metadata": {},
   "outputs": [
    {
     "name": "stdout",
     "output_type": "stream",
     "text": [
      "\"   @      $python      $    @   \"\n",
      "\"@      $python      $    @\"\n",
      "\"      $python      $    \"\n",
      "\"$python      $\"\n",
      "\"python      \"\n",
      "\"python\"\n",
      "\n",
      "\n",
      "\"   @      $python      $    @   \"\n",
      "\"python\"\n"
     ]
    }
   ],
   "source": [
    "a = \"   @      $python      $    @   \"\n",
    "print(f'\\\"{a}\\\"')\n",
    "\n",
    "a = a.strip()\n",
    "print(f'\\\"{a}\\\"')\n",
    "\n",
    "a = a.strip(\"@\")\n",
    "print(f'\\\"{a}\\\"')\n",
    "\n",
    "a = a.strip()\n",
    "print(f'\\\"{a}\\\"')\n",
    "\n",
    "a = a.strip(\"$\")\n",
    "print(f'\\\"{a}\\\"')\n",
    "\n",
    "a = a.strip()\n",
    "print(f'\\\"{a}\\\"')\n",
    "\n",
    "print()\n",
    "# Cleaning in single line multi-strip in one line\n",
    "print()\n",
    "\n",
    "a = \"   @      $python      $    @   \"\n",
    "print(f'\\\"{a}\\\"')\n",
    "\n",
    "a = a.strip().strip(\"@\").strip().strip(\"$\").strip()\n",
    "print(f'\\\"{a}\\\"')"
   ]
  },
  {
   "cell_type": "code",
   "execution_count": null,
   "id": "4c2432be-c527-488e-871d-f23fe1b8393e",
   "metadata": {},
   "outputs": [],
   "source": []
  }
 ],
 "metadata": {
  "kernelspec": {
   "display_name": "Python 3 (ipykernel)",
   "language": "python",
   "name": "python3"
  },
  "language_info": {
   "codemirror_mode": {
    "name": "ipython",
    "version": 3
   },
   "file_extension": ".py",
   "mimetype": "text/x-python",
   "name": "python",
   "nbconvert_exporter": "python",
   "pygments_lexer": "ipython3",
   "version": "3.11.7"
  }
 },
 "nbformat": 4,
 "nbformat_minor": 5
}
