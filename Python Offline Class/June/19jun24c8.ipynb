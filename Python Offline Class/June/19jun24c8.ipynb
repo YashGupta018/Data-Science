{
 "cells": [
  {
   "cell_type": "code",
   "execution_count": 2,
   "id": "3aefe27a-e0a7-4d2a-8bf6-31c9d0616d0f",
   "metadata": {},
   "outputs": [
    {
     "data": {
      "text/plain": [
       "{1, 12, 13, 2, 23, 3, 4, 'h', 'n', 'o', 'p', 'python', 't', 'y'}"
      ]
     },
     "execution_count": 2,
     "metadata": {},
     "output_type": "execute_result"
    }
   ],
   "source": [
    "s = {1, 2, 3, 4}\n",
    "s.update((23,'python'),[12, 13, 'python'],'python')\n",
    "# a.add([22])\n",
    "s"
   ]
  },
  {
   "cell_type": "code",
   "execution_count": 4,
   "id": "6ccf85de-dfa2-40e2-9147-d017dfabb467",
   "metadata": {},
   "outputs": [],
   "source": [
    "s={1,2,3,4}\n",
    "s.add('python')"
   ]
  },
  {
   "cell_type": "code",
   "execution_count": 6,
   "id": "2d0dbf22-4973-4656-a32c-8170093879b0",
   "metadata": {},
   "outputs": [
    {
     "data": {
      "text/plain": [
       "{1, 2, 3, 4, 'python'}"
      ]
     },
     "execution_count": 6,
     "metadata": {},
     "output_type": "execute_result"
    }
   ],
   "source": [
    "s"
   ]
  }
 ],
 "metadata": {
  "kernelspec": {
   "display_name": "Python 3 (ipykernel)",
   "language": "python",
   "name": "python3"
  },
  "language_info": {
   "codemirror_mode": {
    "name": "ipython",
    "version": 3
   },
   "file_extension": ".py",
   "mimetype": "text/x-python",
   "name": "python",
   "nbconvert_exporter": "python",
   "pygments_lexer": "ipython3",
   "version": "3.11.7"
  }
 },
 "nbformat": 4,
 "nbformat_minor": 5
}
