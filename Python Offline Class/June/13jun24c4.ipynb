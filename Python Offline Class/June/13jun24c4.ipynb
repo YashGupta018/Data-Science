{
 "cells": [
  {
   "cell_type": "code",
   "execution_count": 20,
   "id": "1571efa4-e096-4320-93ee-16539c5b5c1d",
   "metadata": {},
   "outputs": [
    {
     "name": "stdout",
     "output_type": "stream",
     "text": [
      "False\n",
      "False\n"
     ]
    }
   ],
   "source": [
    "a = 10\n",
    "\n",
    "# a is b\n",
    "print(a == b)\n",
    "print(int(a) == int(b))"
   ]
  },
  {
   "cell_type": "code",
   "execution_count": 23,
   "id": "9d2a0d1a-908d-41ad-81d9-fc4cf613c883",
   "metadata": {},
   "outputs": [
    {
     "name": "stdout",
     "output_type": "stream",
     "text": [
      "True\n",
      "4402763272\n",
      "4402763272\n",
      "4402763272\n"
     ]
    }
   ],
   "source": [
    "a = 10\n",
    "c = 10\n",
    "\n",
    "b = a\n",
    "\n",
    "a is b\n",
    "print(b is c)\n",
    "\n",
    "print(id(a))\n",
    "print(id(b))\n",
    "print(id(c))"
   ]
  },
  {
   "cell_type": "code",
   "execution_count": 26,
   "id": "260cab47-3786-4e85-870c-67d36388cd62",
   "metadata": {},
   "outputs": [
    {
     "name": "stdout",
     "output_type": "stream",
     "text": [
      "4402762984\n",
      "4402762984\n",
      "True\n"
     ]
    }
   ],
   "source": [
    "x = 1\n",
    "y = 1\n",
    "print(id(x))\n",
    "print(id(y))\n",
    "print(x is y)"
   ]
  },
  {
   "cell_type": "code",
   "execution_count": 29,
   "id": "15cbde1d-2d90-4b69-afbd-d7912664a92d",
   "metadata": {},
   "outputs": [
    {
     "name": "stdout",
     "output_type": "stream",
     "text": [
      "True\n",
      "5209808400\n",
      "5209808400\n",
      "True\n"
     ]
    }
   ],
   "source": [
    "g = 444\n",
    "i = 444\n",
    "\n",
    "g = i\n",
    "print(g is i)\n",
    "\n",
    "print(id(g))\n",
    "print(id(i))\n",
    "print(g is i)"
   ]
  },
  {
   "cell_type": "code",
   "execution_count": 58,
   "id": "c0975beb-8f0c-43bf-8634-4fcb5bce2902",
   "metadata": {},
   "outputs": [
    {
     "name": "stdout",
     "output_type": "stream",
     "text": [
      "4402763048\n"
     ]
    }
   ],
   "source": [
    "h = 3 # id can change everything\n",
    "print(id(h))"
   ]
  },
  {
   "cell_type": "code",
   "execution_count": 35,
   "id": "8c1a6ffc-b2e9-42dc-a77b-e14408db1c5d",
   "metadata": {},
   "outputs": [
    {
     "name": "stdout",
     "output_type": "stream",
     "text": [
      "<class 'str'>\n",
      "<class 'bool'>\n",
      "<class 'int'>\n",
      "1\n"
     ]
    }
   ],
   "source": [
    "a = \"True\" # converting strings to int via bool()\n",
    "print(type(a))\n",
    "b = bool(a)\n",
    "print(type(b))\n",
    "c = int(b)\n",
    "print(type(c))\n",
    "print(c)"
   ]
  },
  {
   "cell_type": "code",
   "execution_count": 38,
   "id": "94bbdfc5-0956-4d1b-a206-fad0619d57c1",
   "metadata": {},
   "outputs": [
    {
     "name": "stdout",
     "output_type": "stream",
     "text": [
      "10.2\n",
      "10\n"
     ]
    }
   ],
   "source": [
    "z = \"10.2\" # converting string to int via float() \n",
    "c = float(z)\n",
    "print(c)\n",
    "print(int(c))"
   ]
  },
  {
   "cell_type": "code",
   "execution_count": 3,
   "id": "91cfe03a-afd0-45c8-b4bb-8e655c59ee6d",
   "metadata": {},
   "outputs": [
    {
     "name": "stdout",
     "output_type": "stream",
     "text": [
      "False\n",
      "0\n",
      "True\n",
      "1\n"
     ]
    }
   ],
   "source": [
    "n = '' # this is because its its an empty string\n",
    "m = bool(n)\n",
    "\n",
    "print(m)\n",
    "v=int(m)\n",
    "print(v)\n",
    "\n",
    "n = 'False' # this is because its its not a empty string\n",
    "m = bool(n)\n",
    "\n",
    "print(m)\n",
    "v=int(m)\n",
    "print(v)"
   ]
  },
  {
   "cell_type": "code",
   "execution_count": null,
   "id": "a3efce3b-2478-40da-a38c-55151b761417",
   "metadata": {},
   "outputs": [],
   "source": []
  }
 ],
 "metadata": {
  "kernelspec": {
   "display_name": "Python 3 (ipykernel)",
   "language": "python",
   "name": "python3"
  },
  "language_info": {
   "codemirror_mode": {
    "name": "ipython",
    "version": 3
   },
   "file_extension": ".py",
   "mimetype": "text/x-python",
   "name": "python",
   "nbconvert_exporter": "python",
   "pygments_lexer": "ipython3",
   "version": "3.11.7"
  }
 },
 "nbformat": 4,
 "nbformat_minor": 5
}
