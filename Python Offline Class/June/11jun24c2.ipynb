{
 "cells": [
  {
   "cell_type": "code",
   "execution_count": 4,
   "id": "e0632f16-da28-4c98-917e-309bcdccc0ab",
   "metadata": {},
   "outputs": [
    {
     "name": "stdout",
     "output_type": "stream",
     "text": [
      "x = 50  y = 70\n"
     ]
    }
   ],
   "source": [
    "# Normal method to swap numbers\n",
    "\n",
    "x = 10\n",
    "y = 20\n",
    "\n",
    "z = x # 10\n",
    "x = y # 20\n",
    "y = z # 10\n",
    "\n",
    "#######################################\n",
    "\n",
    "# XOR Method to swap numbers\n",
    "\n",
    "x = 70\n",
    "y = 50\n",
    "\n",
    "# x now becomes 30 \n",
    "x = x + y \n",
    "  \n",
    "# y becomes 10\n",
    "y = x - y \n",
    "\n",
    "# x becomes 20 \n",
    "x = x - y\n",
    "\n",
    "print(\"x =\", x, \" y =\", y)"
   ]
  },
  {
   "cell_type": "code",
   "execution_count": 49,
   "id": "bc6a4400-55ba-4708-a292-647c39b9b63f",
   "metadata": {},
   "outputs": [
    {
     "name": "stdin",
     "output_type": "stream",
     "text": [
      "Enter the cost of chocolate : 10\n",
      "enter the amount given to the shopkeeper : 101\n",
      "enter the amount of chocolates bought : 10\n"
     ]
    },
    {
     "name": "stdout",
     "output_type": "stream",
     "text": [
      "total cost is : 100\n",
      "money given was: 101\n",
      "still have to give more money : -1\n"
     ]
    }
   ],
   "source": [
    "# 1 chocolate = 19.6\n",
    "# money given = 2024\n",
    "# chocolate bought = 491\n",
    "# how much money back if yes\n",
    "# still we have to give more maoney if yes\n",
    "\n",
    "chocolateCost = int(input(\"Enter the cost of chocolate :\"))\n",
    "moneyGiven = int(input(\"enter the amount given to the shopkeeper :\"))\n",
    "chocolateBought = int(input(\"enter the amount of chocolates bought :\"))\n",
    "\n",
    "totalCost = chocolate * chocolateBought\n",
    "\n",
    "print(\"total cost is :\", totalCost)\n",
    "print(\"money given was:\", moneyGiven)\n",
    "print(\"still have to give more money :\", totalCost-moneyGiven)"
   ]
  }
 ],
 "metadata": {
  "kernelspec": {
   "display_name": "Python 3 (ipykernel)",
   "language": "python",
   "name": "python3"
  },
  "language_info": {
   "codemirror_mode": {
    "name": "ipython",
    "version": 3
   },
   "file_extension": ".py",
   "mimetype": "text/x-python",
   "name": "python",
   "nbconvert_exporter": "python",
   "pygments_lexer": "ipython3",
   "version": "3.11.7"
  }
 },
 "nbformat": 4,
 "nbformat_minor": 5
}
