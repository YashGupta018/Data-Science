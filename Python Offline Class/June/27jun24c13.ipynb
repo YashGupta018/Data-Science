{
 "cells": [
  {
   "cell_type": "code",
   "execution_count": null,
   "id": "311398ca-0c97-4c9f-81c8-2487b253a0be",
   "metadata": {},
   "outputs": [],
   "source": [
    "n = 3\n",
    "i = n\n",
    "while i >= 0:\n",
    "    j = 1\n",
    "    while j <= i:\n",
    "        print(i, j)\n",
    "        j = j + 1\n",
    "    i = i - 1"
   ]
  },
  {
   "cell_type": "code",
   "execution_count": null,
   "id": "1487ff78-9ed4-4ccb-8e3a-af98af9a9750",
   "metadata": {},
   "outputs": [],
   "source": [
    "n = 4\n",
    "i = 0\n",
    "st = n\n",
    "sp = i\n",
    "\n",
    "while st >= 1:\n",
    "    print(\" \" * sp, end=\"\")\n",
    "    print(\"* \" * st)\n",
    "    sp = sp + 1\n",
    "    st = st - 1"
   ]
  },
  {
   "cell_type": "code",
   "execution_count": 10,
   "id": "69d7bb62-c4a2-4734-b888-e8e311123b85",
   "metadata": {},
   "outputs": [
    {
     "name": "stdout",
     "output_type": "stream",
     "text": [
      "4 3 2 1 \n",
      "3 2 1 \n",
      "2 1 \n",
      "1 \n"
     ]
    }
   ],
   "source": [
    "n = 4\n",
    "i = n\n",
    "\n",
    "while i >= 1:\n",
    "    j = i\n",
    "    while j >= 1:\n",
    "        print(j, end = ' ')\n",
    "        j = j - 1\n",
    "    i = i - 1\n",
    "    print()"
   ]
  },
  {
   "cell_type": "markdown",
   "id": "2e8344a2-d0b3-4d2f-a810-9fff8bdcf8dc",
   "metadata": {},
   "source": [
    "\\* * * * *<br>\n",
    "\\* * * *<br>\n",
    "\\* * *<br>\n",
    "\\* *<br>\n",
    "\\*<br>\n",
    "\\* *<br>\n",
    "\\* * *<br>\n",
    "\\* * * *<br>\n",
    "\\* * * * *<br>\n",
    "\n",
    "<br>\n",
    "<br>\n",
    "\n",
    "     *\n",
    "   * * *\n",
    "  * * * *\n",
    " * * * * *\n",
    "* * * * * *"
   ]
  },
  {
   "cell_type": "code",
   "execution_count": null,
   "id": "aba4d3ed-208f-4657-bc96-2a91de49d552",
   "metadata": {},
   "outputs": [],
   "source": []
  },
  {
   "cell_type": "code",
   "execution_count": null,
   "id": "d53b261e-5e1d-4a3e-91d8-2619f358f041",
   "metadata": {},
   "outputs": [],
   "source": []
  }
 ],
 "metadata": {
  "kernelspec": {
   "display_name": "Python 3 (ipykernel)",
   "language": "python",
   "name": "python3"
  },
  "language_info": {
   "codemirror_mode": {
    "name": "ipython",
    "version": 3
   },
   "file_extension": ".py",
   "mimetype": "text/x-python",
   "name": "python",
   "nbconvert_exporter": "python",
   "pygments_lexer": "ipython3",
   "version": "3.11.7"
  }
 },
 "nbformat": 4,
 "nbformat_minor": 5
}
