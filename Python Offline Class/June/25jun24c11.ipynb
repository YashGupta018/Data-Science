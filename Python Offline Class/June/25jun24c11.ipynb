{
 "cells": [
  {
   "cell_type": "code",
   "execution_count": 23,
   "id": "1f7217ca-4406-44c0-8336-b099ec749d1f",
   "metadata": {},
   "outputs": [
    {
     "name": "stdin",
     "output_type": "stream",
     "text": [
      "Enter your name : Ram\n"
     ]
    },
    {
     "name": "stdout",
     "output_type": "stream",
     "text": [
      "Bye\n"
     ]
    }
   ],
   "source": [
    "str = input(\"Enter your name :\").strip().lower()\n",
    "vowels = \"aeiou\"\n",
    "\n",
    "# More time complexity\n",
    "# if str[0] in vowels:\n",
    "#     if str[-1] in vowels:\n",
    "#         print(\"Hurray\")\n",
    "#     else:\n",
    "#         print(\"Bye\")\n",
    "# else:\n",
    "#     print(\"Bye\")\n",
    "\n",
    "# Less time complexity\n",
    "if (str[0] in vowels) and (str[-1] in vowels): \n",
    "        print(\"Hurray\")\n",
    "else:\n",
    "    print(\"Bye\")"
   ]
  },
  {
   "cell_type": "code",
   "execution_count": 25,
   "id": "3ac4fb96-8bca-41b4-8b54-7ce4621e0879",
   "metadata": {},
   "outputs": [
    {
     "name": "stdin",
     "output_type": "stream",
     "text": [
      "Enter your salary : 100000\n"
     ]
    }
   ],
   "source": [
    "salary = float(input(\"Enter your salary :\"))\n",
    "\n",
    "# noTax = \"0%\"\n",
    "# firstTax = \"5%\"\n",
    "# secondTax = \"20%\"\n",
    "# thirdTax = \"30%\"\n",
    "\n",
    "# 0-2.5\n",
    "# 2.51-5\n",
    "# 5.1-10\n",
    "\n",
    "if salary > 250000:\n",
    "    print(f\"Tax is 0% and tax income is 0 \\n Total salary is {salary} and gross salary is {salary}\")\n",
    "elif (salary > 250001) and (salary < 500000):\n",
    "    print(f\"Tax is 5% and tax income is\")"
   ]
  },
  {
   "cell_type": "code",
   "execution_count": 39,
   "id": "7340f27e-9b86-4e6c-9de9-56cf25fb388a",
   "metadata": {},
   "outputs": [
    {
     "name": "stdin",
     "output_type": "stream",
     "text": [
      "Enter a number : 9\n"
     ]
    },
    {
     "name": "stdout",
     "output_type": "stream",
     "text": [
      "The number 9.0 is odd\n",
      "The number 9.0 is divisible by 3\n",
      "Bye\n"
     ]
    }
   ],
   "source": [
    "number = float(input(\"Enter a number :\"))\n",
    "\n",
    "if number % 2 == 0:\n",
    "    print(f\"The number {number} is even\")\n",
    "    if number % 5 == 0:\n",
    "        print(f\"The number {number} is divisible by 5\")\n",
    "        print(\"hi\")\n",
    "    else:\n",
    "        print(f\"But the number {number} is not divisible by 5\")\n",
    "else:\n",
    "    print(f\"The number {number} is odd\")\n",
    "    if number % 3 == 0:\n",
    "        print(f\"The number {number} is divisible by 3\")\n",
    "        print(\"Bye\")\n",
    "    else:\n",
    "        print(f\"But the number {number} is not divisible by 3\")"
   ]
  },
  {
   "cell_type": "code",
   "execution_count": 73,
   "id": "7cf38a5f-d5ed-4b3a-822e-8fce330a5bee",
   "metadata": {},
   "outputs": [
    {
     "name": "stdin",
     "output_type": "stream",
     "text": [
      "Enter your name : RamAYA\n"
     ]
    },
    {
     "name": "stdout",
     "output_type": "stream",
     "text": [
      "yes enter into the class\n"
     ]
    }
   ],
   "source": [
    "student = ['rahul', 'yash', 'anil', 'akhil', 'chandra']\n",
    "trainer = 'ramaya'\n",
    "\n",
    "name = input(\"Enter your name :\").strip().lower()\n",
    "\n",
    "if (name in student) or (name in trainer):\n",
    "    print(\"yes enter into the class\")\n",
    "else:\n",
    "    print(\"sorry not allowed\")"
   ]
  },
  {
   "cell_type": "code",
   "execution_count": null,
   "id": "7be06806-b308-40e1-b311-5c96e80bc5ac",
   "metadata": {},
   "outputs": [],
   "source": []
  }
 ],
 "metadata": {
  "kernelspec": {
   "display_name": "Python 3 (ipykernel)",
   "language": "python",
   "name": "python3"
  },
  "language_info": {
   "codemirror_mode": {
    "name": "ipython",
    "version": 3
   },
   "file_extension": ".py",
   "mimetype": "text/x-python",
   "name": "python",
   "nbconvert_exporter": "python",
   "pygments_lexer": "ipython3",
   "version": "3.11.7"
  }
 },
 "nbformat": 4,
 "nbformat_minor": 5
}
