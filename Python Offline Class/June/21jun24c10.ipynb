{
 "cells": [
  {
   "cell_type": "code",
   "execution_count": null,
   "id": "c61cca86-3096-41b5-afdc-51aa6b351344",
   "metadata": {},
   "outputs": [],
   "source": [
    "str = input(\"Enter a word :\")\n",
    "revStr = str[::-1]\n",
    "\n",
    "if ()"
   ]
  },
  {
   "cell_type": "code",
   "execution_count": 33,
   "id": "71364365-6bb9-491e-aa20-daf6bd26aec4",
   "metadata": {},
   "outputs": [
    {
     "name": "stdin",
     "output_type": "stream",
     "text": [
      "Enter a number : 10\n"
     ]
    },
    {
     "name": "stdout",
     "output_type": "stream",
     "text": [
      "The given number is 10 and it is even\n"
     ]
    }
   ],
   "source": [
    "number = int(input(\"Enter a number :\"))\n",
    "\n",
    "if number%2 == 0:\n",
    "    print(f\"The given number is {number} and it is even\")\n",
    "else:\n",
    "    print(f\"The given number is {number} and it is odd\")"
   ]
  },
  {
   "cell_type": "code",
   "execution_count": 19,
   "id": "384958cb-56d7-44bd-81e3-34423871fc27",
   "metadata": {},
   "outputs": [
    {
     "name": "stdin",
     "output_type": "stream",
     "text": [
      "Enter a word mam\n"
     ]
    },
    {
     "name": "stdout",
     "output_type": "stream",
     "text": [
      "true\n"
     ]
    }
   ],
   "source": [
    "str = input(\"Enter a word\").upper()\n",
    "revStr = str[::-1]\n",
    "\n",
    "if (str == revStr or str[0] == str[-1]) :\n",
    "    print(\"true\")\n",
    "else :\n",
    "    print(\"false\")\n",
    "\n",
    "# str = input(\"Enter a word\").upper() if str[0] == str[-1] or revStr = str[::-1] print(\"true\") else print(\"false\")"
   ]
  },
  {
   "cell_type": "code",
   "execution_count": null,
   "id": "fe07e501-c36e-4a6c-8d55-7ce9648197d9",
   "metadata": {},
   "outputs": [],
   "source": []
  }
 ],
 "metadata": {
  "kernelspec": {
   "display_name": "Python 3 (ipykernel)",
   "language": "python",
   "name": "python3"
  },
  "language_info": {
   "codemirror_mode": {
    "name": "ipython",
    "version": 3
   },
   "file_extension": ".py",
   "mimetype": "text/x-python",
   "name": "python",
   "nbconvert_exporter": "python",
   "pygments_lexer": "ipython3",
   "version": "3.11.7"
  }
 },
 "nbformat": 4,
 "nbformat_minor": 5
}
