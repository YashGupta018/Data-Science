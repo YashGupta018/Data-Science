{
 "cells": [
  {
   "cell_type": "code",
   "execution_count": 19,
   "id": "0f88d27f-2d18-4a23-9445-280f6e845257",
   "metadata": {},
   "outputs": [
    {
     "name": "stdin",
     "output_type": "stream",
     "text": [
      "Enter a number : 64\n"
     ]
    },
    {
     "name": "stdout",
     "output_type": "stream",
     "text": [
      "Even\n"
     ]
    }
   ],
   "source": [
    "# Even Odd\n",
    "\n",
    "def evenOdd():\n",
    "    num1 = int(input(\"Enter a number :\"))\n",
    "    \n",
    "    if num1 % 2 == 0:\n",
    "        print(\"Even\")\n",
    "    else:\n",
    "        print(\"Odd\")\n",
    "\n",
    "evenOdd()"
   ]
  },
  {
   "cell_type": "code",
   "execution_count": 60,
   "id": "1676a669-d611-4db0-b513-af1de99c2ebe",
   "metadata": {},
   "outputs": [],
   "source": [
    "# Largest Number (Non Parametric Function)\n",
    "\n",
    "def largestNum():\n",
    "    numList = [12, 43, 4, 10, 86, 43, 75, 98, 14, 16, 63]\n",
    "    largest = numList[0]\n",
    "\n",
    "    for i in numList:\n",
    "        if largest < i:\n",
    "            largest = i\n",
    "    return largest"
   ]
  },
  {
   "cell_type": "code",
   "execution_count": 62,
   "id": "74da0737-dc15-48b0-9670-facb6026f698",
   "metadata": {},
   "outputs": [
    {
     "data": {
      "text/plain": [
       "98"
      ]
     },
     "execution_count": 62,
     "metadata": {},
     "output_type": "execute_result"
    }
   ],
   "source": [
    "largestNum()"
   ]
  },
  {
   "cell_type": "code",
   "execution_count": 66,
   "id": "4eae0d56-1d4f-496f-a29e-0e18c04920ff",
   "metadata": {},
   "outputs": [],
   "source": [
    "# Largest Number (Parametric Function)\n",
    "\n",
    "def newLargestNum(newNumList):\n",
    "    largest = newNumList[0]\n",
    "\n",
    "    for i in newNumList:\n",
    "        if largest < i:\n",
    "            largest = i\n",
    "    return largest"
   ]
  },
  {
   "cell_type": "code",
   "execution_count": 72,
   "id": "c5936c7b-7c26-4cc5-919d-07329218f8f3",
   "metadata": {},
   "outputs": [
    {
     "data": {
      "text/plain": [
       "98"
      ]
     },
     "execution_count": 72,
     "metadata": {},
     "output_type": "execute_result"
    }
   ],
   "source": [
    "newLargestNum([12, 43, 4, 10, 86, 43, 75, 98, 14, 16, 63])"
   ]
  },
  {
   "cell_type": "code",
   "execution_count": 96,
   "id": "274dea34-b73f-423e-afa4-87ae0e98c2e3",
   "metadata": {},
   "outputs": [],
   "source": [
    "# Smallest Number (Non Parametric Function)\n",
    "\n",
    "def smallestNum():\n",
    "    numList = [12, 43, 4, 10, 86, 43, 75, 98, 14, 16, 63]\n",
    "    smallest = numList[0]\n",
    "\n",
    "    for i in numList:\n",
    "        if smallest > i:\n",
    "            smallest = i\n",
    "    return smallest"
   ]
  },
  {
   "cell_type": "code",
   "execution_count": 98,
   "id": "c3ee5610-ad50-46b4-8b76-364fa1e9c39e",
   "metadata": {},
   "outputs": [
    {
     "data": {
      "text/plain": [
       "4"
      ]
     },
     "execution_count": 98,
     "metadata": {},
     "output_type": "execute_result"
    }
   ],
   "source": [
    "smallestNum()"
   ]
  },
  {
   "cell_type": "code",
   "execution_count": 102,
   "id": "a7b408c6-2e7c-45b0-b442-4413b41773c9",
   "metadata": {},
   "outputs": [],
   "source": [
    "# Smallest Number (Parametric Function)\n",
    "\n",
    "def newSmallestNum(newNumList):\n",
    "    smallest = newNumList[0]\n",
    "\n",
    "    for i in newNumList:\n",
    "        if smallest > i:\n",
    "            smallest = i\n",
    "    return smallest"
   ]
  },
  {
   "cell_type": "code",
   "execution_count": 104,
   "id": "9f233fa6-fcbf-4869-a529-f7be2943a736",
   "metadata": {},
   "outputs": [
    {
     "data": {
      "text/plain": [
       "4"
      ]
     },
     "execution_count": 104,
     "metadata": {},
     "output_type": "execute_result"
    }
   ],
   "source": [
    "newSmallestNum([12, 43, 4, 10, 86, 43, 75, 98, 14, 16, 63])"
   ]
  },
  {
   "cell_type": "code",
   "execution_count": 106,
   "id": "faa290ff-5d40-43c7-bd31-f1f7f77280e2",
   "metadata": {},
   "outputs": [],
   "source": [
    "def details(name, location):\n",
    "    return f\"My name is {name} from {location}\""
   ]
  },
  {
   "cell_type": "code",
   "execution_count": 116,
   "id": "cd26610c-cb4b-44d9-8de7-6beba07ebf9c",
   "metadata": {},
   "outputs": [
    {
     "data": {
      "text/plain": [
       "'My name is Yash from HYD'"
      ]
     },
     "execution_count": 116,
     "metadata": {},
     "output_type": "execute_result"
    }
   ],
   "source": [
    "details(\"Yash\", \"HYD\")"
   ]
  },
  {
   "cell_type": "code",
   "execution_count": 118,
   "id": "8c206d99-2230-46a0-8d4b-112d8174c9d8",
   "metadata": {},
   "outputs": [],
   "source": [
    "def details(name, location):\n",
    "    return f\"My name is {name} from {location}\""
   ]
  },
  {
   "cell_type": "code",
   "execution_count": 126,
   "id": "3f1a0c39-74f8-4ba7-9c65-58c005443047",
   "metadata": {},
   "outputs": [
    {
     "data": {
      "text/plain": [
       "'My name is Yash from BLR'"
      ]
     },
     "execution_count": 126,
     "metadata": {},
     "output_type": "execute_result"
    }
   ],
   "source": [
    "details(location = \"BLR\", name = \"Yash\")"
   ]
  },
  {
   "cell_type": "code",
   "execution_count": 158,
   "id": "c5b428a3-51ee-430e-b322-35b449fd0068",
   "metadata": {},
   "outputs": [
    {
     "data": {
      "text/plain": [
       "24"
      ]
     },
     "execution_count": 158,
     "metadata": {},
     "output_type": "execute_result"
    }
   ],
   "source": [
    "def fuc(a , b , c = 10):\n",
    "    return a + b + c\n",
    "\n",
    "fuc(a = 2, b = 12)"
   ]
  },
  {
   "cell_type": "code",
   "execution_count": 160,
   "id": "82aee807-3d64-4cfe-8b0c-4985ca3ff28c",
   "metadata": {},
   "outputs": [],
   "source": [
    "def func(*args): # *args will pass any number of elements from the function\n",
    "    return args"
   ]
  },
  {
   "cell_type": "code",
   "execution_count": 162,
   "id": "96515087-fd7e-4d1a-8307-ae72164810b6",
   "metadata": {},
   "outputs": [
    {
     "data": {
      "text/plain": [
       "(1, 2, 3, 4, 4, 5, 5, 5, 5)"
      ]
     },
     "execution_count": 162,
     "metadata": {},
     "output_type": "execute_result"
    }
   ],
   "source": [
    "func(1, 2, 3, 4, 4, 5, 5, 5, 5)"
   ]
  },
  {
   "cell_type": "code",
   "execution_count": 164,
   "id": "08b67711-da1e-4aa1-a45f-a040a72773cd",
   "metadata": {},
   "outputs": [
    {
     "data": {
      "text/plain": [
       "()"
      ]
     },
     "execution_count": 164,
     "metadata": {},
     "output_type": "execute_result"
    }
   ],
   "source": [
    "func()"
   ]
  },
  {
   "cell_type": "code",
   "execution_count": 192,
   "id": "8572402e-d306-4ac9-abf1-5915d19c9b7d",
   "metadata": {},
   "outputs": [
    {
     "data": {
      "text/plain": [
       "'My name is Yash and I have 10rs and I am from BLR and 10'"
      ]
     },
     "execution_count": 192,
     "metadata": {},
     "output_type": "execute_result"
    }
   ],
   "source": [
    "def details(name, location, a = 10): # *you cannot delcare first variables* verify this not sure\n",
    "    return f\"My name is {name} and I have {a}rs and I am from {location} and {a}\"\n",
    "\n",
    "details(\"Yash\", \"BLR\")"
   ]
  },
  {
   "cell_type": "code",
   "execution_count": 178,
   "id": "72db9ce5-21f7-4a9f-95ba-48725619a28d",
   "metadata": {},
   "outputs": [],
   "source": [
    "# Create your own func for :\n",
    "# - prime number\n",
    "# - perfect number\n",
    "# - palindrome"
   ]
  },
  {
   "cell_type": "code",
   "execution_count": null,
   "id": "4a000287-e5dd-4aef-90e4-dcd5f81f7b5b",
   "metadata": {},
   "outputs": [],
   "source": []
  }
 ],
 "metadata": {
  "kernelspec": {
   "display_name": "Python 3 (ipykernel)",
   "language": "python",
   "name": "python3"
  },
  "language_info": {
   "codemirror_mode": {
    "name": "ipython",
    "version": 3
   },
   "file_extension": ".py",
   "mimetype": "text/x-python",
   "name": "python",
   "nbconvert_exporter": "python",
   "pygments_lexer": "ipython3",
   "version": "3.11.7"
  }
 },
 "nbformat": 4,
 "nbformat_minor": 5
}
