{
 "cells": [
  {
   "cell_type": "code",
   "execution_count": 1,
   "id": "2b3ba2b2-3e09-4880-ba47-0e1e8011c0d1",
   "metadata": {},
   "outputs": [
    {
     "data": {
      "text/plain": [
       "840"
      ]
     },
     "execution_count": 1,
     "metadata": {},
     "output_type": "execute_result"
    }
   ],
   "source": [
    "from functools import *\n",
    "\n",
    "lst = [5, 7, 4, 3, 1, 2]\n",
    "\n",
    "add = lambda x, y : x + y\n",
    "reduce(add, lst)\n",
    "\n",
    "mul = lambda x, y : x * y\n",
    "reduce(mul, lst)"
   ]
  },
  {
   "cell_type": "code",
   "execution_count": 3,
   "id": "db5a4ac3-2a1e-4ec1-a380-f3f71a584267",
   "metadata": {},
   "outputs": [],
   "source": [
    "# *args & ** kwargs\n",
    "\n",
    "def tup(*args):\n",
    "    return args"
   ]
  },
  {
   "cell_type": "code",
   "execution_count": 5,
   "id": "918581e1-34b2-4a6e-b935-ea40c5cf1253",
   "metadata": {},
   "outputs": [
    {
     "data": {
      "text/plain": [
       "(1, 2, 3, 4)"
      ]
     },
     "execution_count": 5,
     "metadata": {},
     "output_type": "execute_result"
    }
   ],
   "source": [
    "tup(1, 2, 3, 4)"
   ]
  },
  {
   "cell_type": "code",
   "execution_count": 27,
   "id": "46dd0c83-638e-49c8-9e7d-e46ff8857f4b",
   "metadata": {},
   "outputs": [],
   "source": [
    "# *args & ** kwargs\n",
    "\n",
    "def sum(*args):\n",
    "    sum = 0\n",
    "    for i in args:\n",
    "        sum = sum + i\n",
    "    return sum"
   ]
  },
  {
   "cell_type": "code",
   "execution_count": 31,
   "id": "eccfc804-d86c-48e3-82bb-2304ad4b69e0",
   "metadata": {},
   "outputs": [
    {
     "data": {
      "text/plain": [
       "10"
      ]
     },
     "execution_count": 31,
     "metadata": {},
     "output_type": "execute_result"
    }
   ],
   "source": [
    "sum(1, 2, 3, 4)"
   ]
  },
  {
   "cell_type": "code",
   "execution_count": 33,
   "id": "5ce72edf-7ce3-4783-a2ee-f8105a93ac73",
   "metadata": {},
   "outputs": [],
   "source": [
    "def fun():\n",
    "    num = 10\n",
    "    print(num)\n",
    "    return fun()"
   ]
  },
  {
   "cell_type": "code",
   "execution_count": 41,
   "id": "f1fb45e7-c72d-46ae-ba5c-c7cb2aa443e4",
   "metadata": {},
   "outputs": [],
   "source": [
    "# fun() running this will enter it in a infinite loop it will run around 2k times then it will break automatically"
   ]
  },
  {
   "cell_type": "code",
   "execution_count": 51,
   "id": "c5e15ee1-7e29-4eb1-af7a-8b9ede14ff7f",
   "metadata": {},
   "outputs": [],
   "source": [
    "def func(num):\n",
    "    print(num)\n",
    "    \n",
    "    if num == 1:\n",
    "        return 1\n",
    "        \n",
    "    return func(num - 1)"
   ]
  },
  {
   "cell_type": "code",
   "execution_count": 93,
   "id": "c76b6046-be78-4baa-81ad-3ea5df9c1f47",
   "metadata": {},
   "outputs": [
    {
     "name": "stdout",
     "output_type": "stream",
     "text": [
      "10\n",
      "9\n",
      "8\n",
      "7\n",
      "6\n",
      "5\n",
      "4\n",
      "3\n",
      "2\n",
      "1\n"
     ]
    },
    {
     "data": {
      "text/plain": [
       "1"
      ]
     },
     "execution_count": 93,
     "metadata": {},
     "output_type": "execute_result"
    }
   ],
   "source": [
    "func(10)"
   ]
  },
  {
   "cell_type": "code",
   "execution_count": 99,
   "id": "07672dc6-85a4-4d51-aea7-5c41444286f2",
   "metadata": {},
   "outputs": [],
   "source": [
    "count = 0\n",
    "def fun():\n",
    "    global count\n",
    "    num = 10\n",
    "    print(num)\n",
    "    count = count + 1\n",
    "    return fun()"
   ]
  },
  {
   "cell_type": "code",
   "execution_count": 105,
   "id": "743a019f-3394-44de-b9d7-964fae9cfea5",
   "metadata": {},
   "outputs": [],
   "source": [
    "# fun() running this will enter it in a infinite loop it will run around 2k times then it will break automatically"
   ]
  },
  {
   "cell_type": "code",
   "execution_count": 103,
   "id": "2de500ad-5283-4bb2-a109-47717ff9386a",
   "metadata": {},
   "outputs": [
    {
     "data": {
      "text/plain": [
       "2971"
      ]
     },
     "execution_count": 103,
     "metadata": {},
     "output_type": "execute_result"
    }
   ],
   "source": [
    "count # this time we have added count in the above function which will help us understand that how many times the recursive function ran"
   ]
  },
  {
   "cell_type": "code",
   "execution_count": 125,
   "id": "7bc591c4-a4a0-47ca-b34a-89b80055b540",
   "metadata": {},
   "outputs": [
    {
     "name": "stdin",
     "output_type": "stream",
     "text": [
      "enter a num : 10\n"
     ]
    },
    {
     "name": "stdout",
     "output_type": "stream",
     "text": [
      "3628800\n"
     ]
    }
   ],
   "source": [
    "fact = 1\n",
    "num = int(input(\"enter a num :\"))\n",
    "for i in range(1, num + 1):\n",
    "    fact = fact * i\n",
    "\n",
    "print(fact)"
   ]
  },
  {
   "cell_type": "code",
   "execution_count": 115,
   "id": "1c606b72-3969-446c-b827-81ee66e44155",
   "metadata": {},
   "outputs": [],
   "source": [
    "def factorial(num):\n",
    "    if num == 1:\n",
    "        return 1\n",
    "    return num * factorial(num - 1)"
   ]
  },
  {
   "cell_type": "code",
   "execution_count": 121,
   "id": "90133839-c261-48c2-858c-15f33b587797",
   "metadata": {},
   "outputs": [
    {
     "data": {
      "text/plain": [
       "3628800"
      ]
     },
     "execution_count": 121,
     "metadata": {},
     "output_type": "execute_result"
    }
   ],
   "source": [
    "factorial(10)"
   ]
  },
  {
   "cell_type": "code",
   "execution_count": 129,
   "id": "a9ab7f29-969f-4599-8e71-8e73039007a7",
   "metadata": {},
   "outputs": [
    {
     "data": {
      "text/plain": [
       "3000"
      ]
     },
     "execution_count": 129,
     "metadata": {},
     "output_type": "execute_result"
    }
   ],
   "source": [
    "import sys\n",
    "sys.getrecursionlimit()\n",
    "# sys.setrecursionlimit(1500) this will set the limit of recursion"
   ]
  },
  {
   "cell_type": "code",
   "execution_count": 149,
   "id": "26b85c69-dc89-4103-aba3-eace5408561c",
   "metadata": {},
   "outputs": [
    {
     "name": "stdout",
     "output_type": "stream",
     "text": [
      "-0.00010418891906738281\n",
      "0.0003669261932373047\n"
     ]
    }
   ],
   "source": [
    "import time\n",
    "\n",
    "start = time.time()\n",
    "def fact(n):\n",
    "    f = 1\n",
    "    for i in range(1, n + 1):\n",
    "        f = f * i\n",
    "    return f\n",
    "end = time.time()\n",
    "print(start - end)\n",
    "\n",
    "\n",
    "import time\n",
    "\n",
    "start = time.time()\n",
    "def factorial(num):\n",
    "    if num == 1:\n",
    "        return 1\n",
    "    return num * factorial(num - 1)\n",
    "end = time.time()\n",
    "print(end - start)"
   ]
  },
  {
   "cell_type": "code",
   "execution_count": 145,
   "id": "1f4ca384-7000-404d-81bb-1374f7412294",
   "metadata": {},
   "outputs": [
    {
     "data": {
      "text/plain": [
       "3628800"
      ]
     },
     "execution_count": 145,
     "metadata": {},
     "output_type": "execute_result"
    }
   ],
   "source": [
    "fact(10)"
   ]
  },
  {
   "cell_type": "code",
   "execution_count": 147,
   "id": "3759f357-115a-4e12-bc82-901817673747",
   "metadata": {},
   "outputs": [
    {
     "data": {
      "text/plain": [
       "3628800"
      ]
     },
     "execution_count": 147,
     "metadata": {},
     "output_type": "execute_result"
    }
   ],
   "source": [
    "factorial(10)"
   ]
  },
  {
   "cell_type": "code",
   "execution_count": null,
   "id": "1972055c-8fde-4eb0-ba1b-5f1eb295e9e5",
   "metadata": {},
   "outputs": [],
   "source": []
  }
 ],
 "metadata": {
  "kernelspec": {
   "display_name": "Python 3 (ipykernel)",
   "language": "python",
   "name": "python3"
  },
  "language_info": {
   "codemirror_mode": {
    "name": "ipython",
    "version": 3
   },
   "file_extension": ".py",
   "mimetype": "text/x-python",
   "name": "python",
   "nbconvert_exporter": "python",
   "pygments_lexer": "ipython3",
   "version": "3.11.7"
  }
 },
 "nbformat": 4,
 "nbformat_minor": 5
}
