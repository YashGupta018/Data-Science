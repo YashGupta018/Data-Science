{
 "cells": [
  {
   "cell_type": "code",
   "execution_count": 7,
   "id": "efcae115-24ba-422d-9458-7cb9b4dc718e",
   "metadata": {},
   "outputs": [
    {
     "name": "stdin",
     "output_type": "stream",
     "text": [
      "Enter any number : 3\n"
     ]
    },
    {
     "name": "stdout",
     "output_type": "stream",
     "text": [
      "Original : 3 ---> Guess : 3\n",
      "You Win!\n"
     ]
    }
   ],
   "source": [
    "import random\n",
    "\n",
    "n = 1\n",
    "while n < 4:\n",
    "    guess = int(input(\"Enter any number :\"))\n",
    "    original = random.randint(1,5)\n",
    "    if guess == original:\n",
    "        print(f\"Original : {original} ---> Guess : {guess}\")\n",
    "        print(\"You Win!\")\n",
    "        break\n",
    "    else:\n",
    "        print(f\"Original : {original} ---> Guess : {guess}\")\n",
    "        print(\"You Lost!\")\n",
    "    n = n + 1\n",
    "else: # While is a combination of (for loop + conditional statements) so we can use just else statement with while loop!\n",
    "    print(\"Better luck next time!\")"
   ]
  },
  {
   "cell_type": "code",
   "execution_count": 45,
   "id": "0d994912-90b2-49ff-a8eb-cc394c8f611e",
   "metadata": {},
   "outputs": [
    {
     "name": "stdin",
     "output_type": "stream",
     "text": [
      "Enter any number : 12\n"
     ]
    },
    {
     "name": "stdout",
     "output_type": "stream",
     "text": [
      "Original : 1 ---> Guess : 12\n",
      "You Lost!\n"
     ]
    },
    {
     "name": "stdin",
     "output_type": "stream",
     "text": [
      "Enter any number : 12\n"
     ]
    },
    {
     "name": "stdout",
     "output_type": "stream",
     "text": [
      "Original : 2 ---> Guess : 12\n",
      "You Lost!\n"
     ]
    },
    {
     "name": "stdin",
     "output_type": "stream",
     "text": [
      "Enter any number : 12\n"
     ]
    },
    {
     "name": "stdout",
     "output_type": "stream",
     "text": [
      "Original : 3 ---> Guess : 12\n",
      "You Lost!\n",
      "Better luck next time!\n"
     ]
    }
   ],
   "source": [
    "import random\n",
    "\n",
    "for i in range (1, 4):\n",
    "    guess = int(input(\"Enter any number :\"))\n",
    "    original = random.randint(1,5)\n",
    "    if guess == original:\n",
    "        print(f\"Original : {original} ---> Guess : {guess}\")\n",
    "        print(\"You Win!\")\n",
    "        break\n",
    "    else:\n",
    "        print(f\"Original : {original} ---> Guess : {guess}\")\n",
    "        print(\"You Lost!\")\n",
    "else: # While is a combination of (for loop + conditional statements) so we can use just else statement with while loop!\n",
    "    print(\"Better luck next time!\")"
   ]
  },
  {
   "cell_type": "code",
   "execution_count": 81,
   "id": "f608a174-7b22-4a78-8e29-1120890f4353",
   "metadata": {},
   "outputs": [
    {
     "name": "stdout",
     "output_type": "stream",
     "text": [
      "positive number\n",
      "negative number\n",
      "positive number\n",
      "positive number\n",
      "negative number\n",
      "negative number\n",
      "negative number\n",
      "zero\n",
      "['+ve', '-ve', '+ve', '+ve', '-ve', '-ve', '-ve', '-ve']\n",
      "['+ve', '-ve', '+ve', '+ve', '-ve', '-ve', '-ve', 'zero']\n"
     ]
    }
   ],
   "source": [
    "lst = [9, -7, 4, 6, -10, -5, -8, 0]\n",
    "\n",
    "for i in lst:\n",
    "    if i == 0:\n",
    "        print(\"zero\")\n",
    "    elif i > 0:\n",
    "        print(\"positive number\")\n",
    "    else:\n",
    "        print(\"negative number\")\n",
    "\n",
    "print([\"+ve\" if i > 0 else \"-ve\" for i in lst]) # This will not check 0 thats why its printing -ve for 0 which is wrong\n",
    "\n",
    "print([\"+ve\" if i > 0 else (\"-ve\" if i < 0 else \"zero\") for i in lst])"
   ]
  },
  {
   "cell_type": "code",
   "execution_count": 149,
   "id": "5374cfce-e54e-4f00-8a0e-6022e5a34ef4",
   "metadata": {},
   "outputs": [
    {
     "name": "stdout",
     "output_type": "stream",
     "text": [
      "{'teja': 'old', 'bhargav': 'old', 'Anshika': 'young', 'swetha': 'young'}\n"
     ]
    }
   ],
   "source": [
    "ages = {\"teja\" : 35, \"bhargav\" : 40, \"Anshika\" : 20, \"swetha\" : 22}\n",
    "\n",
    "for i in ages:\n",
    "    if ages[i] > 25:\n",
    "        ages.update({i : \"old\"})\n",
    "    else:\n",
    "        ages.update({i : \"young\"})\n",
    "\n",
    "print(ages)"
   ]
  },
  {
   "cell_type": "code",
   "execution_count": 162,
   "id": "c93c205f-37f8-470a-b023-a1f56824a19d",
   "metadata": {},
   "outputs": [
    {
     "data": {
      "text/plain": [
       "{'teja': 'old', 'bhargav': 'old', 'Anshika': 'young', 'swetha': 'young'}"
      ]
     },
     "execution_count": 162,
     "metadata": {},
     "output_type": "execute_result"
    }
   ],
   "source": [
    "# Dict. comprehension (generally not used anywhere)\n",
    "\n",
    "ages = {\"teja\" : 35, \"bhargav\" : 40, \"Anshika\" : 20, \"swetha\" : 22}\n",
    "{i : (\"old\" if ages[i] > 25 else \"young\") for i in ages}"
   ]
  },
  {
   "cell_type": "code",
   "execution_count": 164,
   "id": "522c5490-4e7e-478d-9748-fde4625c3dd6",
   "metadata": {},
   "outputs": [
    {
     "name": "stdin",
     "output_type": "stream",
     "text": [
      "Enter 1st number : 12\n",
      "Enter 2nd number : 12\n"
     ]
    },
    {
     "data": {
      "text/plain": [
       "24"
      ]
     },
     "execution_count": 164,
     "metadata": {},
     "output_type": "execute_result"
    }
   ],
   "source": [
    "def add():\n",
    "    num1 = int(input(\"Enter 1st number :\"))\n",
    "    num2 = int(input(\"Enter 2nd number :\"))\n",
    "    result = num1 + num2\n",
    "    return result\n",
    "\n",
    "add()"
   ]
  },
  {
   "cell_type": "code",
   "execution_count": 166,
   "id": "51b50a20-5894-4310-b279-b7bc079219ed",
   "metadata": {},
   "outputs": [
    {
     "name": "stdin",
     "output_type": "stream",
     "text": [
      "Enter 1st number : 44\n",
      "Enter 2nd number : 44\n"
     ]
    },
    {
     "data": {
      "text/plain": [
       "88"
      ]
     },
     "execution_count": 166,
     "metadata": {},
     "output_type": "execute_result"
    }
   ],
   "source": [
    "add()"
   ]
  },
  {
   "cell_type": "code",
   "execution_count": 170,
   "id": "1cf8d9ac-ee19-4d4b-81cf-f8b553048297",
   "metadata": {},
   "outputs": [
    {
     "data": {
      "text/plain": [
       "30"
      ]
     },
     "execution_count": 170,
     "metadata": {},
     "output_type": "execute_result"
    }
   ],
   "source": [
    "def addition(x, y):\n",
    "    num1 = x\n",
    "    num2 = y\n",
    "    result = num1 + num2\n",
    "    return result\n",
    "\n",
    "addition(10, 20)"
   ]
  },
  {
   "cell_type": "code",
   "execution_count": null,
   "id": "4ff4f73c-f544-46cf-a6f2-19ed6a215869",
   "metadata": {},
   "outputs": [],
   "source": []
  }
 ],
 "metadata": {
  "kernelspec": {
   "display_name": "Python 3 (ipykernel)",
   "language": "python",
   "name": "python3"
  },
  "language_info": {
   "codemirror_mode": {
    "name": "ipython",
    "version": 3
   },
   "file_extension": ".py",
   "mimetype": "text/x-python",
   "name": "python",
   "nbconvert_exporter": "python",
   "pygments_lexer": "ipython3",
   "version": "3.11.7"
  }
 },
 "nbformat": 4,
 "nbformat_minor": 5
}
