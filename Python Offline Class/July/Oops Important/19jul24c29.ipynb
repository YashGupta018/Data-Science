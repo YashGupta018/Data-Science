{
 "cells": [
  {
   "cell_type": "markdown",
   "id": "98d256d3-7b3d-42b9-8764-335d2a1c8714",
   "metadata": {},
   "source": [
    "## Oops - Object Oriented Programming Language"
   ]
  },
  {
   "cell_type": "code",
   "execution_count": 39,
   "id": "54c4f254-e3bd-44fc-88eb-4b586b736daf",
   "metadata": {},
   "outputs": [],
   "source": [
    "# Creating class\n",
    "\n",
    "class Demo:\n",
    "    var = \"sample\"\n",
    "    def func(self):\n",
    "        return \"Hello World!\""
   ]
  },
  {
   "cell_type": "code",
   "execution_count": 41,
   "id": "e37bc293-e6f8-45da-a786-656abf80a201",
   "metadata": {},
   "outputs": [],
   "source": [
    "obj = Demo()"
   ]
  },
  {
   "cell_type": "code",
   "execution_count": 51,
   "id": "ff041179-f586-4bf1-bbd8-36ad67cd0c55",
   "metadata": {},
   "outputs": [
    {
     "name": "stdout",
     "output_type": "stream",
     "text": [
      "sample\n"
     ]
    }
   ],
   "source": [
    "print(obj.var)"
   ]
  },
  {
   "cell_type": "code",
   "execution_count": 53,
   "id": "b2690cfd-ac88-4ef5-9b30-19f5f3303b8e",
   "metadata": {},
   "outputs": [
    {
     "name": "stdout",
     "output_type": "stream",
     "text": [
      "Hello World!\n"
     ]
    }
   ],
   "source": [
    "print(obj.func())"
   ]
  },
  {
   "cell_type": "code",
   "execution_count": 2,
   "id": "61247db2-5cc7-4c4b-877f-4c95a7a155d2",
   "metadata": {},
   "outputs": [],
   "source": [
    "class Car:\n",
    "    engine = \"1600cc\"\n",
    "    model = \"Creta\"\n",
    "    doors = 4\n",
    "    seats = 4\n",
    "\n",
    "    def speed(self, x):\n",
    "        self.x = x\n",
    "        self.a = 10\n",
    "        print(\"X value is : \", self.x)\n",
    "        print(self.a)\n",
    "        print(f\"{self.model} car can reach upto 180kmph\")\n",
    "    def milage(self):\n",
    "        print(self.a)\n",
    "        print(\"This car will give a milage 18kmpl\")"
   ]
  },
  {
   "cell_type": "code",
   "execution_count": 4,
   "id": "55529f13-751a-44bf-a79d-fec888ce11ff",
   "metadata": {},
   "outputs": [],
   "source": [
    "obj = Car()"
   ]
  },
  {
   "cell_type": "code",
   "execution_count": 6,
   "id": "389e4b5a-b876-467a-8595-1098cbff5d43",
   "metadata": {},
   "outputs": [
    {
     "ename": "TypeError",
     "evalue": "Car.speed() missing 1 required positional argument: 'x'",
     "output_type": "error",
     "traceback": [
      "\u001b[0;31m---------------------------------------------------------------------------\u001b[0m",
      "\u001b[0;31mTypeError\u001b[0m                                 Traceback (most recent call last)",
      "Cell \u001b[0;32mIn[6], line 1\u001b[0m\n\u001b[0;32m----> 1\u001b[0m obj\u001b[38;5;241m.\u001b[39mspeed()\n",
      "\u001b[0;31mTypeError\u001b[0m: Car.speed() missing 1 required positional argument: 'x'"
     ]
    }
   ],
   "source": [
    "obj.speed()"
   ]
  },
  {
   "cell_type": "code",
   "execution_count": 113,
   "id": "5684c60b-4573-4572-8f54-b8818cbbd72f",
   "metadata": {},
   "outputs": [],
   "source": [
    "class Car:\n",
    "    def __init__(self, doors, engine, model, seats):\n",
    "        print(\"This is a constructor\")\n",
    "        self.doors = doors\n",
    "        self.engine = engine\n",
    "        self.model = model\n",
    "        self.seats = seats\n",
    "    def details(self):\n",
    "        print(\"Model name :\", self.model)\n",
    "        print(\"Engine details :\", self.engine)\n",
    "        print(\"No. of doors :\", self.doors)\n",
    "        print(\"No. of seats :\", self.seats)\n",
    "    def method(self):\n",
    "        print(\"This is 2nd method\")"
   ]
  },
  {
   "cell_type": "code",
   "execution_count": 117,
   "id": "80e04175-14cb-489c-aae1-75bc4505ab1f",
   "metadata": {},
   "outputs": [
    {
     "name": "stdout",
     "output_type": "stream",
     "text": [
      "This is a constructor\n"
     ]
    }
   ],
   "source": [
    "obj = Car(4, \"1600cc\", \"Creta\", 5)"
   ]
  },
  {
   "cell_type": "code",
   "execution_count": 125,
   "id": "14f6754a-a691-4917-9331-8d238397bdd2",
   "metadata": {},
   "outputs": [
    {
     "data": {
      "text/plain": [
       "5"
      ]
     },
     "execution_count": 125,
     "metadata": {},
     "output_type": "execute_result"
    }
   ],
   "source": [
    "obj.seats"
   ]
  },
  {
   "cell_type": "code",
   "execution_count": 127,
   "id": "e7a4db08-f47a-4da2-8ab3-32f2e2691341",
   "metadata": {},
   "outputs": [
    {
     "data": {
      "text/plain": [
       "'Creta'"
      ]
     },
     "execution_count": 127,
     "metadata": {},
     "output_type": "execute_result"
    }
   ],
   "source": [
    "obj.model"
   ]
  },
  {
   "cell_type": "code",
   "execution_count": 129,
   "id": "10b7f108-14eb-46cc-9fd3-f7207ce5cbfe",
   "metadata": {},
   "outputs": [
    {
     "data": {
      "text/plain": [
       "'1600cc'"
      ]
     },
     "execution_count": 129,
     "metadata": {},
     "output_type": "execute_result"
    }
   ],
   "source": [
    "obj.engine"
   ]
  },
  {
   "cell_type": "code",
   "execution_count": 131,
   "id": "1b7766b2-abf0-443f-9b2f-50bdd6d71c36",
   "metadata": {},
   "outputs": [
    {
     "data": {
      "text/plain": [
       "4"
      ]
     },
     "execution_count": 131,
     "metadata": {},
     "output_type": "execute_result"
    }
   ],
   "source": [
    "obj.doors"
   ]
  },
  {
   "cell_type": "code",
   "execution_count": 135,
   "id": "090b6cf1-d85d-4bfc-b58d-03e074f86360",
   "metadata": {},
   "outputs": [
    {
     "name": "stdout",
     "output_type": "stream",
     "text": [
      "Model name : Creta\n",
      "Engine details : 1600cc\n",
      "No. of doors : 4\n",
      "No. of seats : 5\n"
     ]
    }
   ],
   "source": [
    "obj.details()"
   ]
  },
  {
   "cell_type": "code",
   "execution_count": 139,
   "id": "466b4164-2067-48d0-8198-25886caf6364",
   "metadata": {},
   "outputs": [
    {
     "name": "stdout",
     "output_type": "stream",
     "text": [
      "This is 2nd method\n"
     ]
    }
   ],
   "source": [
    "obj.method()"
   ]
  },
  {
   "cell_type": "code",
   "execution_count": null,
   "id": "be8ea4e3-11bb-4423-9358-dc2bc14ce5e3",
   "metadata": {},
   "outputs": [],
   "source": []
  }
 ],
 "metadata": {
  "kernelspec": {
   "display_name": "Python 3 (ipykernel)",
   "language": "python",
   "name": "python3"
  },
  "language_info": {
   "codemirror_mode": {
    "name": "ipython",
    "version": 3
   },
   "file_extension": ".py",
   "mimetype": "text/x-python",
   "name": "python",
   "nbconvert_exporter": "python",
   "pygments_lexer": "ipython3",
   "version": "3.11.7"
  }
 },
 "nbformat": 4,
 "nbformat_minor": 5
}
