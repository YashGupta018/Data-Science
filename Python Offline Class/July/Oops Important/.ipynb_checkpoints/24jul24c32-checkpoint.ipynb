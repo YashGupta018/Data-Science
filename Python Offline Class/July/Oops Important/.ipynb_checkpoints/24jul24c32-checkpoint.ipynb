{
 "cells": [
  {
   "cell_type": "code",
   "execution_count": 19,
   "id": "7e73b76e-7902-49e8-86f8-7119805b85db",
   "metadata": {},
   "outputs": [],
   "source": [
    "# using multipledispatch decorator in python (this is basically function overloading work around in python)\n",
    "\n",
    "from multipledispatch import dispatch\n",
    "\n",
    "@dispatch(int, int)\n",
    "def add(a, b):\n",
    "    return a + b\n",
    "\n",
    "@dispatch(int, int, int)\n",
    "def add(a, b, c):\n",
    "    return a + b + c\n",
    "\n",
    "@dispatch(int, int, int, int)\n",
    "def add(a, b, c, d):\n",
    "    return a + b + c + d"
   ]
  },
  {
   "cell_type": "code",
   "execution_count": 21,
   "id": "f4625d69-a56c-4afe-9893-ff7dab75250a",
   "metadata": {},
   "outputs": [
    {
     "data": {
      "text/plain": [
       "5"
      ]
     },
     "execution_count": 21,
     "metadata": {},
     "output_type": "execute_result"
    }
   ],
   "source": [
    "add(2, 3)"
   ]
  },
  {
   "cell_type": "code",
   "execution_count": 23,
   "id": "7265c346-9e0b-457d-9979-471aea0dc1df",
   "metadata": {},
   "outputs": [
    {
     "data": {
      "text/plain": [
       "9"
      ]
     },
     "execution_count": 23,
     "metadata": {},
     "output_type": "execute_result"
    }
   ],
   "source": [
    "add(2, 3, 4)"
   ]
  },
  {
   "cell_type": "code",
   "execution_count": 25,
   "id": "430af61f-48cb-4440-9fc4-14ec2730169d",
   "metadata": {},
   "outputs": [
    {
     "data": {
      "text/plain": [
       "14"
      ]
     },
     "execution_count": 25,
     "metadata": {},
     "output_type": "execute_result"
    }
   ],
   "source": [
    "add(2, 3, 4, 5)"
   ]
  },
  {
   "cell_type": "code",
   "execution_count": 53,
   "id": "4d855be8-0dea-447b-9beb-df145e62545b",
   "metadata": {},
   "outputs": [],
   "source": [
    "# using inheritance in python\n",
    "\n",
    "class A:\n",
    "    def m1(self):\n",
    "        print(\"m1 cA\")\n",
    "    def m2(self):\n",
    "        print(\"m2 cA\")\n",
    "class B(A):\n",
    "    def m3(self):\n",
    "        print(\"m3 cB\")\n",
    "    def m4(self):\n",
    "        print(\"m4 cB\")\n",
    "\n",
    "class C(B):\n",
    "    def m5(self):\n",
    "        print(\"m5 cC\")\n",
    "    def m6(self):\n",
    "        print(\"m6 cC\")\n",
    "\n",
    "class D(C):\n",
    "    def m7(self):\n",
    "        print(\"m7 cD\")\n",
    "    def m8(self):\n",
    "        print(\"m8 cD\")"
   ]
  },
  {
   "cell_type": "code",
   "execution_count": 55,
   "id": "105fe237-9e97-4411-a663-84e11690554b",
   "metadata": {},
   "outputs": [
    {
     "name": "stdout",
     "output_type": "stream",
     "text": [
      "m2 cA\n"
     ]
    }
   ],
   "source": [
    "a = A()\n",
    "b = B()\n",
    "c = C()\n",
    "d = D()\n",
    "\n",
    "d.m2()"
   ]
  },
  {
   "cell_type": "code",
   "execution_count": 59,
   "id": "559abdf1-e901-4d5e-87e5-8c48dd22e006",
   "metadata": {},
   "outputs": [],
   "source": [
    "class A:\n",
    "    def m1(self):\n",
    "        print(\"m1 cA\")\n",
    "    def m2(self):\n",
    "        print(\"m2 cA\")\n",
    "class B(A):\n",
    "    def m1(self):\n",
    "        print(\"m1 cB\")\n",
    "    def m3(self):\n",
    "        print(\"m3 cB\")\n",
    "    def m4(self):\n",
    "        print(\"m4 cB\")"
   ]
  },
  {
   "cell_type": "code",
   "execution_count": 63,
   "id": "9ddcff05-0730-473f-918f-71c6d93f71f2",
   "metadata": {},
   "outputs": [
    {
     "name": "stdout",
     "output_type": "stream",
     "text": [
      "m1 cB\n"
     ]
    }
   ],
   "source": [
    "a = A()\n",
    "b = B()\n",
    "\n",
    "b.m1() # it will call the updated latest func."
   ]
  },
  {
   "cell_type": "code",
   "execution_count": 65,
   "id": "5d9f015e-24a0-40a2-8849-611bafb1bf20",
   "metadata": {},
   "outputs": [],
   "source": [
    "class A:\n",
    "    def m1(self):\n",
    "        print(\"m1 cA\")\n",
    "    def m2(self):\n",
    "        print(\"m2 cA\")\n",
    "class B(A):\n",
    "    def m1(self):\n",
    "        super().m1()\n",
    "        print(\"m1 cB\")\n",
    "    def m3(self):\n",
    "        print(\"m3 cB\")\n",
    "    def m4(self):\n",
    "        print(\"m4 cB\")"
   ]
  },
  {
   "cell_type": "code",
   "execution_count": null,
   "id": "5651842b-8738-44ff-99f7-0bd72ca1f666",
   "metadata": {},
   "outputs": [],
   "source": [
    "a = A()\n",
    "b = B()\n",
    "\n",
    "b.m1()"
   ]
  }
 ],
 "metadata": {
  "kernelspec": {
   "display_name": "Python 3 (ipykernel)",
   "language": "python",
   "name": "python3"
  },
  "language_info": {
   "codemirror_mode": {
    "name": "ipython",
    "version": 3
   },
   "file_extension": ".py",
   "mimetype": "text/x-python",
   "name": "python",
   "nbconvert_exporter": "python",
   "pygments_lexer": "ipython3",
   "version": "3.11.7"
  }
 },
 "nbformat": 4,
 "nbformat_minor": 5
}
