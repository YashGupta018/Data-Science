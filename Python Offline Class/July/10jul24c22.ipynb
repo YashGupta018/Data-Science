{
 "cells": [
  {
   "cell_type": "code",
   "execution_count": 57,
   "id": "2a9e72c6-0235-4a25-b9fd-d05d486cb3d4",
   "metadata": {},
   "outputs": [],
   "source": [
    "# Palindrome Number\n",
    "\n",
    "def palindrame():\n",
    "    num = int(input(\"Enter a number :\"))\n",
    "    numm = num\n",
    "    rev = 0\n",
    "    while num > 0:\n",
    "        rem = num % 10\n",
    "        rev = rev * 10 + rem\n",
    "        num = num // 10\n",
    "    if rev == numm:\n",
    "        print(\"palindrome\")\n",
    "    else:\n",
    "        print(\"not a palindrome\")"
   ]
  },
  {
   "cell_type": "code",
   "execution_count": 59,
   "id": "9fa3012c-fd1a-49fd-ba2a-f3b296bc96e3",
   "metadata": {},
   "outputs": [
    {
     "name": "stdin",
     "output_type": "stream",
     "text": [
      "Enter a number : 212\n"
     ]
    },
    {
     "name": "stdout",
     "output_type": "stream",
     "text": [
      "palindrome\n"
     ]
    }
   ],
   "source": [
    "palindrame()"
   ]
  },
  {
   "cell_type": "code",
   "execution_count": 61,
   "id": "bd665e43-a568-4f24-87d1-9a3559a76898",
   "metadata": {},
   "outputs": [],
   "source": [
    "sum = lambda a, b : a + b"
   ]
  },
  {
   "cell_type": "code",
   "execution_count": 63,
   "id": "66bab070-93fe-40ef-ba1e-0f75b460ca62",
   "metadata": {},
   "outputs": [
    {
     "data": {
      "text/plain": [
       "5"
      ]
     },
     "execution_count": 63,
     "metadata": {},
     "output_type": "execute_result"
    }
   ],
   "source": [
    "sum(2, 3)"
   ]
  },
  {
   "cell_type": "code",
   "execution_count": 65,
   "id": "1918467c-a9b1-44e2-9a6f-ebe726529839",
   "metadata": {},
   "outputs": [],
   "source": [
    "square = lambda x : x ** 2"
   ]
  },
  {
   "cell_type": "code",
   "execution_count": 67,
   "id": "b672dc27-ba5c-437b-9b47-45f62e453952",
   "metadata": {},
   "outputs": [
    {
     "data": {
      "text/plain": [
       "16"
      ]
     },
     "execution_count": 67,
     "metadata": {},
     "output_type": "execute_result"
    }
   ],
   "source": [
    "square(4)"
   ]
  },
  {
   "cell_type": "code",
   "execution_count": 69,
   "id": "b1eecbcc-5062-4858-99f2-65664c8387c6",
   "metadata": {},
   "outputs": [],
   "source": [
    "even = lambda x : \"even\" if x % 2 == 0 else \"odd\""
   ]
  },
  {
   "cell_type": "code",
   "execution_count": 71,
   "id": "b975c5d9-4be1-4f07-a754-7e63f34654c6",
   "metadata": {},
   "outputs": [
    {
     "data": {
      "text/plain": [
       "'even'"
      ]
     },
     "execution_count": 71,
     "metadata": {},
     "output_type": "execute_result"
    }
   ],
   "source": [
    "even(12)"
   ]
  },
  {
   "cell_type": "code",
   "execution_count": 73,
   "id": "55c9822e-8f08-42b5-986d-f2d1cb1a0ddb",
   "metadata": {},
   "outputs": [
    {
     "data": {
      "text/plain": [
       "'odd'"
      ]
     },
     "execution_count": 73,
     "metadata": {},
     "output_type": "execute_result"
    }
   ],
   "source": [
    "even(13)"
   ]
  },
  {
   "cell_type": "code",
   "execution_count": 116,
   "id": "da51943a-baf9-46de-b477-b79b142c21f9",
   "metadata": {},
   "outputs": [
    {
     "name": "stdout",
     "output_type": "stream",
     "text": [
      "[15, 25, 35, 45, 55, 65]\n"
     ]
    }
   ],
   "source": [
    "lst = [10, 20, 30, 40, 50, 60]\n",
    "result = []\n",
    "\n",
    "for i in lst:\n",
    "    result.append(i+5)\n",
    "    \n",
    "print(result)"
   ]
  },
  {
   "cell_type": "code",
   "execution_count": 118,
   "id": "99de2dfc-fe57-4423-8070-501012fdd846",
   "metadata": {},
   "outputs": [],
   "source": [
    "add_5 = lambda x : x + 5"
   ]
  },
  {
   "cell_type": "code",
   "execution_count": 120,
   "id": "1b5de41d-4932-49d3-a872-203f2945484f",
   "metadata": {},
   "outputs": [
    {
     "data": {
      "text/plain": [
       "[15, 25, 35, 45, 55, 65]"
      ]
     },
     "execution_count": 120,
     "metadata": {},
     "output_type": "execute_result"
    }
   ],
   "source": [
    "list(map(add_5, lst))"
   ]
  },
  {
   "cell_type": "code",
   "execution_count": 122,
   "id": "f8a7749d-4ec0-4fa2-872d-9b5f197e2a1a",
   "metadata": {},
   "outputs": [],
   "source": [
    "square = lambda x : x ** 2"
   ]
  },
  {
   "cell_type": "code",
   "execution_count": 124,
   "id": "84410269-c95f-44cf-a203-ace6e38d7133",
   "metadata": {},
   "outputs": [
    {
     "data": {
      "text/plain": [
       "[100, 400, 900, 1600, 2500, 3600]"
      ]
     },
     "execution_count": 124,
     "metadata": {},
     "output_type": "execute_result"
    }
   ],
   "source": [
    "list(map(square, lst))"
   ]
  },
  {
   "cell_type": "code",
   "execution_count": 128,
   "id": "e7300cba-7b5e-4c1e-81bc-97ef21b14f4b",
   "metadata": {},
   "outputs": [
    {
     "data": {
      "text/plain": [
       "[7, 9, 11, 13]"
      ]
     },
     "execution_count": 128,
     "metadata": {},
     "output_type": "execute_result"
    }
   ],
   "source": [
    "list(map(add_5, [2, 4, 6, 8]))"
   ]
  },
  {
   "cell_type": "code",
   "execution_count": 130,
   "id": "d1d47988-dc80-4feb-a834-dbbe4740b52c",
   "metadata": {},
   "outputs": [
    {
     "data": {
      "text/plain": [
       "[4, 16, 36, 64]"
      ]
     },
     "execution_count": 130,
     "metadata": {},
     "output_type": "execute_result"
    }
   ],
   "source": [
    "list(map(square, [2, 4, 6, 8]))"
   ]
  },
  {
   "cell_type": "code",
   "execution_count": 132,
   "id": "78d68420-e4f6-4318-a5fb-6cf166e62549",
   "metadata": {},
   "outputs": [
    {
     "data": {
      "text/plain": [
       "[True, False, True, False, True, False, True, True]"
      ]
     },
     "execution_count": 132,
     "metadata": {},
     "output_type": "execute_result"
    }
   ],
   "source": [
    "list(map(lambda x : x % 2 == 0, [2, 3, 4, 5, 6, 7, 8, 10]))"
   ]
  },
  {
   "cell_type": "code",
   "execution_count": 134,
   "id": "330e5818-5e1c-4cf1-856d-a7f57dc04192",
   "metadata": {},
   "outputs": [
    {
     "data": {
      "text/plain": [
       "['even', 'odd', 'even', 'odd', 'even', 'odd', 'even', 'even']"
      ]
     },
     "execution_count": 134,
     "metadata": {},
     "output_type": "execute_result"
    }
   ],
   "source": [
    "list(map(lambda x : \"even\" if x % 2 == 0 else \"odd\", [2, 3, 4, 5, 6, 7, 8, 10]))"
   ]
  },
  {
   "cell_type": "code",
   "execution_count": 150,
   "id": "fafc0b32-3542-4351-95b8-2cb8021123eb",
   "metadata": {},
   "outputs": [],
   "source": [
    "a = \"12999/-\""
   ]
  },
  {
   "cell_type": "code",
   "execution_count": 157,
   "id": "f9a04837-1900-4d26-8ce7-22980c6b27f3",
   "metadata": {},
   "outputs": [
    {
     "data": {
      "text/plain": [
       "12999"
      ]
     },
     "execution_count": 157,
     "metadata": {},
     "output_type": "execute_result"
    }
   ],
   "source": [
    "int(a.replace(\",\",\"\").replace(\"/-\",\"\"))"
   ]
  },
  {
   "cell_type": "code",
   "execution_count": 159,
   "id": "c66aadd6-3b9b-4d5c-a16b-017b8c37f263",
   "metadata": {},
   "outputs": [],
   "source": [
    "prices = [\"12,999/-\", \"14,999/-\", \"59999/-\", \"89999-\"]"
   ]
  },
  {
   "cell_type": "code",
   "execution_count": 189,
   "id": "bc046e66-2349-4213-99c4-b37c7fa7c27d",
   "metadata": {},
   "outputs": [
    {
     "name": "stdout",
     "output_type": "stream",
     "text": [
      "12999\n",
      "14999\n",
      "59999\n",
      "89999\n"
     ]
    }
   ],
   "source": [
    "for i in prices:\n",
    "    print(int(i.replace(\",\",\"\").replace(\"/\",\"\").replace(\"/-\",\"\").replace(\"-\",\"\")))"
   ]
  },
  {
   "cell_type": "code",
   "execution_count": 191,
   "id": "17d72055-0802-432f-b895-0bc226bb6cfa",
   "metadata": {},
   "outputs": [],
   "source": [
    "clean_ste = lambda x : int(x.replace(\",\",\"\").replace(\"/\",\"\").replace(\"/-\",\"\").replace(\"-\",\"\"))"
   ]
  },
  {
   "cell_type": "code",
   "execution_count": 193,
   "id": "b2ad4a91-690d-4387-8622-3cf071e6fb53",
   "metadata": {},
   "outputs": [
    {
     "data": {
      "text/plain": [
       "[12999, 14999, 59999, 89999]"
      ]
     },
     "execution_count": 193,
     "metadata": {},
     "output_type": "execute_result"
    }
   ],
   "source": [
    "list(map(clean_ste, prices))"
   ]
  },
  {
   "cell_type": "code",
   "execution_count": 253,
   "id": "0817f269-89f8-43f8-971e-99bb7de0ecd5",
   "metadata": {},
   "outputs": [],
   "source": [
    "lst = [1, 2, 3, 4, 5, 6, 7, 8, 9, 10]\n",
    "even_num = lambda x : \"even\" if x % 2 == 0 else \"\"\n",
    "\n",
    "# It is not possible in map to print less element than that of the input so basically the len(input) == len(output)\n",
    "# so we will use filter to do the same check the code down below"
   ]
  },
  {
   "cell_type": "code",
   "execution_count": 255,
   "id": "0d6b3355-0e33-486d-97ed-68a13d460d31",
   "metadata": {},
   "outputs": [
    {
     "data": {
      "text/plain": [
       "['', 'even', '', 'even', '', 'even', '', 'even', '', 'even']"
      ]
     },
     "execution_count": 255,
     "metadata": {},
     "output_type": "execute_result"
    }
   ],
   "source": [
    "list(map(even_num, lst))"
   ]
  },
  {
   "cell_type": "code",
   "execution_count": 257,
   "id": "b2d552f6-509f-443f-8d7a-33d0c469629a",
   "metadata": {},
   "outputs": [],
   "source": [
    "lst = [1, 2, 3, 4, 5, 6, 7, 8, 9, 10]\n",
    "even_num = lambda x : x % 2 == 0"
   ]
  },
  {
   "cell_type": "code",
   "execution_count": 259,
   "id": "af2b8fc4-dfbe-4294-9482-597e2aab8cb7",
   "metadata": {},
   "outputs": [
    {
     "data": {
      "text/plain": [
       "[2, 4, 6, 8, 10]"
      ]
     },
     "execution_count": 259,
     "metadata": {},
     "output_type": "execute_result"
    }
   ],
   "source": [
    "list(filter(even_num, lst))"
   ]
  },
  {
   "cell_type": "code",
   "execution_count": 261,
   "id": "565d66ce-305f-4f07-8a87-d24690fc6124",
   "metadata": {},
   "outputs": [],
   "source": [
    "lst = [1, 2, 3, 4, 5, 6, 7, 8, 9, 10]\n",
    "odd_num = lambda x : x % 2 != 0"
   ]
  },
  {
   "cell_type": "code",
   "execution_count": 263,
   "id": "9d7e75a2-6530-4cd7-838c-3a6a19dcc093",
   "metadata": {},
   "outputs": [
    {
     "data": {
      "text/plain": [
       "[1, 3, 5, 7, 9]"
      ]
     },
     "execution_count": 263,
     "metadata": {},
     "output_type": "execute_result"
    }
   ],
   "source": [
    "list(filter(odd_num, lst))"
   ]
  },
  {
   "cell_type": "code",
   "execution_count": 304,
   "id": "a5f354d3-7711-481f-80e8-2b095ae66182",
   "metadata": {},
   "outputs": [],
   "source": [
    "#################################################"
   ]
  },
  {
   "cell_type": "code",
   "execution_count": 306,
   "id": "d75c62c8-e7b2-49e1-9c51-12a9c064bbdd",
   "metadata": {},
   "outputs": [],
   "source": [
    "lst = list(range(1,21))\n",
    "\n",
    "even = list(filter(lambda x : x % 2 == 0, lst))"
   ]
  },
  {
   "cell_type": "code",
   "execution_count": 308,
   "id": "78810baf-7c2b-41b7-b876-6dbb1f49f928",
   "metadata": {},
   "outputs": [
    {
     "data": {
      "text/plain": [
       "[2, 4, 6, 8, 10, 12, 14, 16, 18, 20]"
      ]
     },
     "execution_count": 308,
     "metadata": {},
     "output_type": "execute_result"
    }
   ],
   "source": [
    "list(even)"
   ]
  },
  {
   "cell_type": "code",
   "execution_count": 310,
   "id": "9900c283-576f-402d-8829-cb31103470d0",
   "metadata": {},
   "outputs": [
    {
     "data": {
      "text/plain": [
       "[4, 16, 36, 64, 100, 144, 196, 256, 324, 400]"
      ]
     },
     "execution_count": 310,
     "metadata": {},
     "output_type": "execute_result"
    }
   ],
   "source": [
    "list(map(lambda x : x ** 2, even))"
   ]
  },
  {
   "cell_type": "code",
   "execution_count": 312,
   "id": "0537b03f-1f5a-4421-9870-5bf722231860",
   "metadata": {},
   "outputs": [
    {
     "data": {
      "text/plain": [
       "[4, 16, 36, 64, 100, 144, 196, 256, 324, 400]"
      ]
     },
     "execution_count": 312,
     "metadata": {},
     "output_type": "execute_result"
    }
   ],
   "source": [
    "list(map(lambda x : x ** 2, list(filter(lambda x : x % 2 == 0, lst))))"
   ]
  },
  {
   "cell_type": "code",
   "execution_count": 302,
   "id": "8c8c83f5-09db-4ad2-b739-7eb217263210",
   "metadata": {},
   "outputs": [],
   "source": [
    "#################################################"
   ]
  },
  {
   "cell_type": "code",
   "execution_count": 320,
   "id": "e2a63e01-a33a-42c4-b5ac-524730971fb0",
   "metadata": {},
   "outputs": [],
   "source": [
    "lst = list(range(1,21))\n",
    "\n",
    "find_even = lambda x : x % 2 == 0\n",
    "\n",
    "square = lambda x : x ** 2"
   ]
  },
  {
   "cell_type": "code",
   "execution_count": 322,
   "id": "7cef5f51-7e11-4b9f-ba71-6d6b3f26b3ca",
   "metadata": {},
   "outputs": [
    {
     "data": {
      "text/plain": [
       "[2, 4, 6, 8, 10, 12, 14, 16, 18, 20]"
      ]
     },
     "execution_count": 322,
     "metadata": {},
     "output_type": "execute_result"
    }
   ],
   "source": [
    "list(filter(find_even, lst))"
   ]
  },
  {
   "cell_type": "code",
   "execution_count": 324,
   "id": "c2e0709d-e63a-4425-8f3a-adcea78ef8cb",
   "metadata": {},
   "outputs": [
    {
     "ename": "TypeError",
     "evalue": "'function' object is not iterable",
     "output_type": "error",
     "traceback": [
      "\u001b[0;31m---------------------------------------------------------------------------\u001b[0m",
      "\u001b[0;31mTypeError\u001b[0m                                 Traceback (most recent call last)",
      "Cell \u001b[0;32mIn[324], line 1\u001b[0m\n\u001b[0;32m----> 1\u001b[0m \u001b[38;5;28mlist\u001b[39m(\u001b[38;5;28mmap\u001b[39m(square, find_even))\n",
      "\u001b[0;31mTypeError\u001b[0m: 'function' object is not iterable"
     ]
    }
   ],
   "source": [
    "list(map(square, find_even)) # this is not possible ** Verify this later not sure **"
   ]
  },
  {
   "cell_type": "code",
   "execution_count": 326,
   "id": "07b892be-3ff0-4753-976f-30ad40abfb69",
   "metadata": {},
   "outputs": [
    {
     "data": {
      "text/plain": [
       "<function __main__.<lambda>(x)>"
      ]
     },
     "execution_count": 326,
     "metadata": {},
     "output_type": "execute_result"
    }
   ],
   "source": [
    "find_even"
   ]
  },
  {
   "cell_type": "code",
   "execution_count": null,
   "id": "9b1f8849-a0fc-49fd-8f0a-28e1a3b2e27d",
   "metadata": {},
   "outputs": [],
   "source": []
  }
 ],
 "metadata": {
  "kernelspec": {
   "display_name": "Python 3 (ipykernel)",
   "language": "python",
   "name": "python3"
  },
  "language_info": {
   "codemirror_mode": {
    "name": "ipython",
    "version": 3
   },
   "file_extension": ".py",
   "mimetype": "text/x-python",
   "name": "python",
   "nbconvert_exporter": "python",
   "pygments_lexer": "ipython3",
   "version": "3.11.7"
  }
 },
 "nbformat": 4,
 "nbformat_minor": 5
}
