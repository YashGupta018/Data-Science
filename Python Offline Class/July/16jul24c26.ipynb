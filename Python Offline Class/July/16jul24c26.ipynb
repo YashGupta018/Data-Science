{
 "cells": [
  {
   "cell_type": "markdown",
   "id": "9bda7e7d-6139-4dcc-9e5b-602da03b65f6",
   "metadata": {},
   "source": [
    "# Exception Handling - Advance Concept"
   ]
  },
  {
   "cell_type": "code",
   "execution_count": 62,
   "id": "5c500745-39f2-417d-a111-4e10257310a2",
   "metadata": {},
   "outputs": [
    {
     "name": "stdout",
     "output_type": "stream",
     "text": [
      "Enter 1st number : 12\n",
      "Enter 2nd number : 3\n"
     ]
    },
    {
     "name": "stdout",
     "output_type": "stream",
     "text": [
      "4.0\n"
     ]
    }
   ],
   "source": [
    "try:\n",
    "    num1 = int(input(\"Enter 1st number :\"))\n",
    "    num2 = int(input(\"Enter 2nd number :\"))\n",
    "    print(num1/num2)\n",
    "    \n",
    "except ZeroDivisionError:\n",
    "    print(\"You should not pass 0\")\n",
    "\n",
    "except ValueError:\n",
    "    print(\"You should not pass alphabets\")\n",
    "\n",
    "except NameError:\n",
    "    print(\"Name is not defind\")\n",
    "\n",
    "except Exception:\n",
    "    print(\"Something is wrong\")"
   ]
  },
  {
   "cell_type": "code",
   "execution_count": 92,
   "id": "043864bc-85be-4e6e-a0d6-a41c9f26a485",
   "metadata": {},
   "outputs": [],
   "source": [
    "# file = open('./sample3.txt', 'r')\n",
    "\n",
    "# for each in file:\n",
    "#     print (each)\n",
    "\n",
    "# using try except block with file handling for handling all kind of exceptions"
   ]
  },
  {
   "cell_type": "code",
   "execution_count": 100,
   "id": "14a7cdd9-f55f-4af7-9f83-0cf32fcac0a1",
   "metadata": {},
   "outputs": [],
   "source": [
    "# try:\n",
    "#     with open(\"./sample3.txt\", \"r\") as f:\n",
    "#         print(f.read())\n",
    "#     with open(\"./sample3.txt\", \"W\") as f:\n",
    "#         print(f.write())\n",
    "\n",
    "# except FileNotFoundError:\n",
    "#     print(\"File not found in the given location\")\n",
    "# except TypeError:\n",
    "#     print(\"You have pass something in write()\")\n",
    "# except Exception as e:\n",
    "#     print(\"Exception Name is :\", type(e).__name__)\n",
    "\n",
    "# fix this code"
   ]
  },
  {
   "cell_type": "code",
   "execution_count": 9,
   "id": "0bf78eef-2e1f-40e3-bb1c-820628574f23",
   "metadata": {},
   "outputs": [
    {
     "name": "stdout",
     "output_type": "stream",
     "text": [
      "30\n",
      "25\n"
     ]
    }
   ],
   "source": [
    "import myModule160724 as mod\n",
    "\n",
    "print(mod.add())\n",
    "print(mod.mul(5, 5))"
   ]
  }
 ],
 "metadata": {
  "kernelspec": {
   "display_name": "Python 3 (ipykernel)",
   "language": "python",
   "name": "python3"
  },
  "language_info": {
   "codemirror_mode": {
    "name": "ipython",
    "version": 3
   },
   "file_extension": ".py",
   "mimetype": "text/x-python",
   "name": "python",
   "nbconvert_exporter": "python",
   "pygments_lexer": "ipython3",
   "version": "3.11.7"
  }
 },
 "nbformat": 4,
 "nbformat_minor": 5
}
