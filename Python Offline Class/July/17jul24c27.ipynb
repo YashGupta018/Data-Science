{
 "cells": [
  {
   "cell_type": "code",
   "execution_count": 3,
   "id": "34cc84f4-a863-4a6f-8075-afecef6abe5b",
   "metadata": {},
   "outputs": [],
   "source": [
    "# self practice"
   ]
  },
  {
   "cell_type": "code",
   "execution_count": 64,
   "id": "5514517c-2760-467d-b03a-7eaebd1caf55",
   "metadata": {},
   "outputs": [],
   "source": [
    "def sum(a, *args):\n",
    "    if len(args) == 0:\n",
    "        return a\n",
    "    else:\n",
    "        return a + sum(*args)"
   ]
  },
  {
   "cell_type": "code",
   "execution_count": 66,
   "id": "5b81a755-68b7-4b5c-816c-aa36fa6f6903",
   "metadata": {},
   "outputs": [
    {
     "data": {
      "text/plain": [
       "10"
      ]
     },
     "execution_count": 66,
     "metadata": {},
     "output_type": "execute_result"
    }
   ],
   "source": [
    "sum(1, 2, 3, 4)"
   ]
  },
  {
   "cell_type": "code",
   "execution_count": 150,
   "id": "fbeb9b87-549b-4136-a7e4-a94392162a93",
   "metadata": {},
   "outputs": [
    {
     "name": "stdout",
     "output_type": "stream",
     "text": [
      "1 1\n",
      "2 2\n",
      "[3, 4] [3, 4]\n",
      "[5, 6] [5, 6]\n"
     ]
    }
   ],
   "source": [
    "# lst = [1, 2, [3, 4], [5, 6]]\n",
    "\n",
    "# from copy import *\n",
    "\n",
    "# new_llst = copy(lst)\n",
    "# for i in lst:\n",
    "#     new_lst.append(i)\n",
    "# print(new_llst)\n",
    "\n",
    "lst = [1, 2, [3, 4], [5, 6]]\n",
    "\n",
    "for i in lst:\n",
    "    if i == 0:\n",
    "        print(i)\n",
    "    else:\n",
    "        print(i, i)"
   ]
  }
 ],
 "metadata": {
  "kernelspec": {
   "display_name": "Python 3 (ipykernel)",
   "language": "python",
   "name": "python3"
  },
  "language_info": {
   "codemirror_mode": {
    "name": "ipython",
    "version": 3
   },
   "file_extension": ".py",
   "mimetype": "text/x-python",
   "name": "python",
   "nbconvert_exporter": "python",
   "pygments_lexer": "ipython3",
   "version": "3.11.7"
  }
 },
 "nbformat": 4,
 "nbformat_minor": 5
}
